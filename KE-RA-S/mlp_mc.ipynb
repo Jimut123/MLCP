{
 "cells": [
  {
   "cell_type": "code",
   "execution_count": 1,
   "metadata": {},
   "outputs": [
    {
     "name": "stderr",
     "output_type": "stream",
     "text": [
      "Using TensorFlow backend.\n"
     ]
    },
    {
     "name": "stdout",
     "output_type": "stream",
     "text": [
      "WARNING:tensorflow:From /usr/lib/python3.7/site-packages/tensorflow/python/framework/op_def_library.py:263: colocate_with (from tensorflow.python.framework.ops) is deprecated and will be removed in a future version.\n",
      "Instructions for updating:\n",
      "Colocations handled automatically by placer.\n",
      "WARNING:tensorflow:From /usr/lib/python3.7/site-packages/keras/backend/tensorflow_backend.py:3445: calling dropout (from tensorflow.python.ops.nn_ops) with keep_prob is deprecated and will be removed in a future version.\n",
      "Instructions for updating:\n",
      "Please use `rate` instead of `keep_prob`. Rate should be set to `rate = 1 - keep_prob`.\n",
      "WARNING:tensorflow:From /usr/lib/python3.7/site-packages/tensorflow/python/ops/math_ops.py:3066: to_int32 (from tensorflow.python.ops.math_ops) is deprecated and will be removed in a future version.\n",
      "Instructions for updating:\n",
      "Use tf.cast instead.\n",
      "Epoch 1/20\n",
      "1000/1000 [==============================] - 1s 535us/step - loss: 0.7109 - acc: 0.5150\n",
      "Epoch 2/20\n",
      "1000/1000 [==============================] - 0s 52us/step - loss: 0.7208 - acc: 0.4760\n",
      "Epoch 3/20\n",
      "1000/1000 [==============================] - 0s 44us/step - loss: 0.7036 - acc: 0.5280\n",
      "Epoch 4/20\n",
      "1000/1000 [==============================] - 0s 33us/step - loss: 0.7093 - acc: 0.4840\n",
      "Epoch 5/20\n",
      "1000/1000 [==============================] - ETA: 0s - loss: 0.7346 - acc: 0.429 - 0s 52us/step - loss: 0.7061 - acc: 0.4900\n",
      "Epoch 6/20\n",
      "1000/1000 [==============================] - 0s 43us/step - loss: 0.6942 - acc: 0.5140\n",
      "Epoch 7/20\n",
      "1000/1000 [==============================] - 0s 36us/step - loss: 0.7021 - acc: 0.5100\n",
      "Epoch 8/20\n",
      "1000/1000 [==============================] - 0s 37us/step - loss: 0.6977 - acc: 0.5130\n",
      "Epoch 9/20\n",
      "1000/1000 [==============================] - 0s 37us/step - loss: 0.6948 - acc: 0.5260\n",
      "Epoch 10/20\n",
      "1000/1000 [==============================] - 0s 44us/step - loss: 0.6912 - acc: 0.5330\n",
      "Epoch 11/20\n",
      "1000/1000 [==============================] - 0s 52us/step - loss: 0.6919 - acc: 0.5270\n",
      "Epoch 12/20\n",
      "1000/1000 [==============================] - 0s 33us/step - loss: 0.6944 - acc: 0.5350\n",
      "Epoch 13/20\n",
      "1000/1000 [==============================] - 0s 43us/step - loss: 0.6939 - acc: 0.5210\n",
      "Epoch 14/20\n",
      "1000/1000 [==============================] - 0s 64us/step - loss: 0.6908 - acc: 0.5320\n",
      "Epoch 15/20\n",
      "1000/1000 [==============================] - 0s 56us/step - loss: 0.6939 - acc: 0.5120\n",
      "Epoch 16/20\n",
      "1000/1000 [==============================] - 0s 60us/step - loss: 0.6972 - acc: 0.5070\n",
      "Epoch 17/20\n",
      "1000/1000 [==============================] - 0s 51us/step - loss: 0.6938 - acc: 0.5030\n",
      "Epoch 18/20\n",
      "1000/1000 [==============================] - 0s 54us/step - loss: 0.6917 - acc: 0.5360\n",
      "Epoch 19/20\n",
      "1000/1000 [==============================] - 0s 42us/step - loss: 0.6926 - acc: 0.5120\n",
      "Epoch 20/20\n",
      "1000/1000 [==============================] - 0s 47us/step - loss: 0.6880 - acc: 0.5400\n",
      "100/100 [==============================] - 0s 2ms/step\n"
     ]
    }
   ],
   "source": [
    "import numpy as np\n",
    "from keras.models import Sequential\n",
    "from keras.layers import Dense, Dropout\n",
    "\n",
    "# Generate dummy data\n",
    "x_train = np.random.random((1000, 20))\n",
    "y_train = np.random.randint(2, size=(1000, 1))\n",
    "x_test = np.random.random((100, 20))\n",
    "y_test = np.random.randint(2, size=(100, 1))\n",
    "\n",
    "model = Sequential()\n",
    "model.add(Dense(64, input_dim=20, activation='relu'))\n",
    "model.add(Dropout(0.5))\n",
    "model.add(Dense(64, activation='relu'))\n",
    "model.add(Dropout(0.5))\n",
    "model.add(Dense(1, activation='sigmoid'))\n",
    "\n",
    "model.compile(loss='binary_crossentropy',\n",
    "              optimizer='rmsprop',\n",
    "              metrics=['accuracy'])\n",
    "\n",
    "model.fit(x_train, y_train,\n",
    "          epochs=20,\n",
    "          batch_size=128)\n",
    "score = model.evaluate(x_test, y_test, batch_size=128)"
   ]
  },
  {
   "cell_type": "code",
   "execution_count": null,
   "metadata": {},
   "outputs": [],
   "source": []
  }
 ],
 "metadata": {
  "kernelspec": {
   "display_name": "Python 3",
   "language": "python",
   "name": "python3"
  },
  "language_info": {
   "codemirror_mode": {
    "name": "ipython",
    "version": 3
   },
   "file_extension": ".py",
   "mimetype": "text/x-python",
   "name": "python",
   "nbconvert_exporter": "python",
   "pygments_lexer": "ipython3",
   "version": "3.7.3"
  }
 },
 "nbformat": 4,
 "nbformat_minor": 2
}
