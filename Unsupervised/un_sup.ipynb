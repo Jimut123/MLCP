{
  "nbformat": 4,
  "nbformat_minor": 0,
  "metadata": {
    "colab": {
      "name": "un_sup.ipynb",
      "version": "0.3.2",
      "provenance": [],
      "collapsed_sections": []
    },
    "kernelspec": {
      "name": "python3",
      "display_name": "Python 3"
    },
    "accelerator": "GPU"
  },
  "cells": [
    {
      "cell_type": "code",
      "metadata": {
        "id": "bgb-NDlN836H",
        "colab_type": "code",
        "colab": {
          "base_uri": "https://localhost:8080/",
          "height": 34
        },
        "outputId": "008fe55d-b01c-45ac-d922-d5c74cae4e54"
      },
      "source": [
        "from keras.datasets import fashion_mnist"
      ],
      "execution_count": 1,
      "outputs": [
        {
          "output_type": "stream",
          "text": [
            "Using TensorFlow backend.\n"
          ],
          "name": "stderr"
        }
      ]
    },
    {
      "cell_type": "markdown",
      "metadata": {
        "id": "NLTGiSKREABC",
        "colab_type": "text"
      },
      "source": [
        "**Unsupervised ML to learn about data!**"
      ]
    },
    {
      "cell_type": "code",
      "metadata": {
        "id": "J3WKhNVk9D3D",
        "colab_type": "code",
        "colab": {
          "base_uri": "https://localhost:8080/",
          "height": 34
        },
        "outputId": "925b3455-92c5-4956-e2d6-f65dfdce71a9"
      },
      "source": [
        "%pylab inline\n",
        "import os\n",
        "import keras\n",
        "import numpy as np\n",
        "import pandas as pd\n",
        "import keras.backend as K\n",
        "\n",
        "from time import time\n",
        "from sklearn.cluster import KMeans\n",
        "from keras import callbacks\n",
        "from keras.models import Model\n",
        "from keras.optimizers import SGD\n",
        "from keras.layers import Dense, Input\n",
        "from keras.initializers import VarianceScaling\n",
        "from keras.engine.topology import Layer, InputSpec\n",
        "\n",
        "from scipy.misc import imread\n",
        "from sklearn.metrics import accuracy_score, normalized_mutual_info_score"
      ],
      "execution_count": 2,
      "outputs": [
        {
          "output_type": "stream",
          "text": [
            "Populating the interactive namespace from numpy and matplotlib\n"
          ],
          "name": "stdout"
        }
      ]
    },
    {
      "cell_type": "code",
      "metadata": {
        "id": "AkFNwXpq9LSH",
        "colab_type": "code",
        "colab": {
          "base_uri": "https://localhost:8080/",
          "height": 156
        },
        "outputId": "5630e7a5-5f60-416f-c94e-7606d0395099"
      },
      "source": [
        "(train_x, train_y), (val_x, val_y) = fashion_mnist.load_data()"
      ],
      "execution_count": 3,
      "outputs": [
        {
          "output_type": "stream",
          "text": [
            "Downloading data from http://fashion-mnist.s3-website.eu-central-1.amazonaws.com/train-labels-idx1-ubyte.gz\n",
            "32768/29515 [=================================] - 0s 3us/step\n",
            "Downloading data from http://fashion-mnist.s3-website.eu-central-1.amazonaws.com/train-images-idx3-ubyte.gz\n",
            "26427392/26421880 [==============================] - 2s 0us/step\n",
            "Downloading data from http://fashion-mnist.s3-website.eu-central-1.amazonaws.com/t10k-labels-idx1-ubyte.gz\n",
            "8192/5148 [===============================================] - 0s 0us/step\n",
            "Downloading data from http://fashion-mnist.s3-website.eu-central-1.amazonaws.com/t10k-images-idx3-ubyte.gz\n",
            "4423680/4422102 [==============================] - 1s 0us/step\n"
          ],
          "name": "stdout"
        }
      ]
    },
    {
      "cell_type": "code",
      "metadata": {
        "id": "bmomSM979OcV",
        "colab_type": "code",
        "colab": {}
      },
      "source": [
        "train_x = train_x/255.\n",
        "val_x = val_x/255.\n",
        "\n",
        "train_x = train_x.reshape(-1, 784)\n",
        "val_x = val_x.reshape(-1, 784)\n"
      ],
      "execution_count": 0,
      "outputs": []
    },
    {
      "cell_type": "code",
      "metadata": {
        "id": "398g58g-9Tac",
        "colab_type": "code",
        "colab": {
          "base_uri": "https://localhost:8080/",
          "height": 89
        },
        "outputId": "c05dfa58-819b-48af-f32b-0f6c4b4e5377"
      },
      "source": [
        "# this is our input placeholder\n",
        "input_img = Input(shape=(784,))\n",
        "\n",
        "# \"encoded\" is the encoded representation of the input\n",
        "encoded = Dense(2000, activation='relu')(input_img)\n",
        "encoded = Dense(500, activation='relu')(encoded)\n",
        "encoded = Dense(500, activation='relu')(encoded)\n",
        "encoded = Dense(10, activation='sigmoid')(encoded)\n",
        "\n",
        "# \"decoded\" is the lossy reconstruction of the input\n",
        "decoded = Dense(500, activation='relu')(encoded)\n",
        "decoded = Dense(500, activation='relu')(decoded)\n",
        "decoded = Dense(2000, activation='relu')(decoded)\n",
        "decoded = Dense(784)(decoded)\n",
        "\n",
        "# this model maps an input to its reconstruction\n",
        "autoencoder = Model(input_img, decoded)"
      ],
      "execution_count": 5,
      "outputs": [
        {
          "output_type": "stream",
          "text": [
            "WARNING:tensorflow:From /usr/local/lib/python3.6/dist-packages/tensorflow/python/framework/op_def_library.py:263: colocate_with (from tensorflow.python.framework.ops) is deprecated and will be removed in a future version.\n",
            "Instructions for updating:\n",
            "Colocations handled automatically by placer.\n"
          ],
          "name": "stdout"
        }
      ]
    },
    {
      "cell_type": "code",
      "metadata": {
        "id": "MAd5m3s89dWy",
        "colab_type": "code",
        "colab": {
          "base_uri": "https://localhost:8080/",
          "height": 451
        },
        "outputId": "733f0487-94ca-48c4-e9be-c7cd1fd8bd4b"
      },
      "source": [
        "autoencoder.summary()"
      ],
      "execution_count": 6,
      "outputs": [
        {
          "output_type": "stream",
          "text": [
            "_________________________________________________________________\n",
            "Layer (type)                 Output Shape              Param #   \n",
            "=================================================================\n",
            "input_1 (InputLayer)         (None, 784)               0         \n",
            "_________________________________________________________________\n",
            "dense_1 (Dense)              (None, 2000)              1570000   \n",
            "_________________________________________________________________\n",
            "dense_2 (Dense)              (None, 500)               1000500   \n",
            "_________________________________________________________________\n",
            "dense_3 (Dense)              (None, 500)               250500    \n",
            "_________________________________________________________________\n",
            "dense_4 (Dense)              (None, 10)                5010      \n",
            "_________________________________________________________________\n",
            "dense_5 (Dense)              (None, 500)               5500      \n",
            "_________________________________________________________________\n",
            "dense_6 (Dense)              (None, 500)               250500    \n",
            "_________________________________________________________________\n",
            "dense_7 (Dense)              (None, 2000)              1002000   \n",
            "_________________________________________________________________\n",
            "dense_8 (Dense)              (None, 784)               1568784   \n",
            "=================================================================\n",
            "Total params: 5,652,794\n",
            "Trainable params: 5,652,794\n",
            "Non-trainable params: 0\n",
            "_________________________________________________________________\n"
          ],
          "name": "stdout"
        }
      ]
    },
    {
      "cell_type": "code",
      "metadata": {
        "id": "hfE0LBYv9gj3",
        "colab_type": "code",
        "colab": {}
      },
      "source": [
        "#  this model maps an input to its encoded representation\n",
        "encoder = Model(input_img, encoded)\n"
      ],
      "execution_count": 0,
      "outputs": []
    },
    {
      "cell_type": "code",
      "metadata": {
        "id": "JfX32F8S9kiB",
        "colab_type": "code",
        "colab": {}
      },
      "source": [
        "autoencoder.compile(optimizer='adam', loss='mse')"
      ],
      "execution_count": 0,
      "outputs": []
    },
    {
      "cell_type": "code",
      "metadata": {
        "id": "GQeOSfkZ9nTV",
        "colab_type": "code",
        "colab": {}
      },
      "source": [
        "estop = keras.callbacks.EarlyStopping(monitor='val_loss', min_delta=0, patience=10, verbose=1, mode='auto')\n"
      ],
      "execution_count": 0,
      "outputs": []
    },
    {
      "cell_type": "code",
      "metadata": {
        "id": "Q9LOx7639qY4",
        "colab_type": "code",
        "colab": {
          "base_uri": "https://localhost:8080/",
          "height": 2069
        },
        "outputId": "b48e1df9-f0ba-4548-d812-1d0752b784c0"
      },
      "source": [
        "train_history = autoencoder.fit(train_x, train_x, epochs=500, batch_size=2048, validation_data=(val_x, val_x), callbacks=[estop])\n"
      ],
      "execution_count": 10,
      "outputs": [
        {
          "output_type": "stream",
          "text": [
            "WARNING:tensorflow:From /usr/local/lib/python3.6/dist-packages/tensorflow/python/ops/math_ops.py:3066: to_int32 (from tensorflow.python.ops.math_ops) is deprecated and will be removed in a future version.\n",
            "Instructions for updating:\n",
            "Use tf.cast instead.\n",
            "Train on 60000 samples, validate on 10000 samples\n",
            "Epoch 1/500\n",
            "60000/60000 [==============================] - 5s 80us/step - loss: 0.0916 - val_loss: 0.0688\n",
            "Epoch 2/500\n",
            "60000/60000 [==============================] - 1s 23us/step - loss: 0.0585 - val_loss: 0.0463\n",
            "Epoch 3/500\n",
            "60000/60000 [==============================] - 1s 23us/step - loss: 0.0419 - val_loss: 0.0386\n",
            "Epoch 4/500\n",
            "60000/60000 [==============================] - 1s 23us/step - loss: 0.0369 - val_loss: 0.0348\n",
            "Epoch 5/500\n",
            "60000/60000 [==============================] - 1s 23us/step - loss: 0.0331 - val_loss: 0.0306\n",
            "Epoch 6/500\n",
            "60000/60000 [==============================] - 1s 23us/step - loss: 0.0295 - val_loss: 0.0289\n",
            "Epoch 7/500\n",
            "60000/60000 [==============================] - 1s 23us/step - loss: 0.0265 - val_loss: 0.0251\n",
            "Epoch 8/500\n",
            "60000/60000 [==============================] - 1s 23us/step - loss: 0.0244 - val_loss: 0.0238\n",
            "Epoch 9/500\n",
            "60000/60000 [==============================] - 1s 23us/step - loss: 0.0232 - val_loss: 0.0228\n",
            "Epoch 10/500\n",
            "60000/60000 [==============================] - 1s 23us/step - loss: 0.0224 - val_loss: 0.0219\n",
            "Epoch 11/500\n",
            "60000/60000 [==============================] - 1s 23us/step - loss: 0.0215 - val_loss: 0.0213\n",
            "Epoch 12/500\n",
            "60000/60000 [==============================] - 1s 23us/step - loss: 0.0206 - val_loss: 0.0203\n",
            "Epoch 13/500\n",
            "60000/60000 [==============================] - 1s 23us/step - loss: 0.0202 - val_loss: 0.0197\n",
            "Epoch 14/500\n",
            "60000/60000 [==============================] - 1s 23us/step - loss: 0.0195 - val_loss: 0.0194\n",
            "Epoch 15/500\n",
            "60000/60000 [==============================] - 1s 23us/step - loss: 0.0192 - val_loss: 0.0190\n",
            "Epoch 16/500\n",
            "60000/60000 [==============================] - 1s 23us/step - loss: 0.0187 - val_loss: 0.0194\n",
            "Epoch 17/500\n",
            "60000/60000 [==============================] - 1s 23us/step - loss: 0.0183 - val_loss: 0.0182\n",
            "Epoch 18/500\n",
            "60000/60000 [==============================] - 1s 23us/step - loss: 0.0179 - val_loss: 0.0178\n",
            "Epoch 19/500\n",
            "60000/60000 [==============================] - 1s 23us/step - loss: 0.0175 - val_loss: 0.0185\n",
            "Epoch 20/500\n",
            "60000/60000 [==============================] - 1s 23us/step - loss: 0.0173 - val_loss: 0.0174\n",
            "Epoch 21/500\n",
            "60000/60000 [==============================] - 1s 23us/step - loss: 0.0170 - val_loss: 0.0167\n",
            "Epoch 22/500\n",
            "60000/60000 [==============================] - 1s 23us/step - loss: 0.0167 - val_loss: 0.0166\n",
            "Epoch 23/500\n",
            "60000/60000 [==============================] - 1s 23us/step - loss: 0.0162 - val_loss: 0.0161\n",
            "Epoch 24/500\n",
            "60000/60000 [==============================] - 1s 23us/step - loss: 0.0159 - val_loss: 0.0159\n",
            "Epoch 25/500\n",
            "60000/60000 [==============================] - 1s 23us/step - loss: 0.0161 - val_loss: 0.0157\n",
            "Epoch 26/500\n",
            "60000/60000 [==============================] - 1s 23us/step - loss: 0.0153 - val_loss: 0.0154\n",
            "Epoch 27/500\n",
            "60000/60000 [==============================] - 1s 23us/step - loss: 0.0153 - val_loss: 0.0152\n",
            "Epoch 28/500\n",
            "60000/60000 [==============================] - 1s 23us/step - loss: 0.0150 - val_loss: 0.0153\n",
            "Epoch 29/500\n",
            "60000/60000 [==============================] - 1s 23us/step - loss: 0.0149 - val_loss: 0.0154\n",
            "Epoch 30/500\n",
            "60000/60000 [==============================] - 1s 23us/step - loss: 0.0148 - val_loss: 0.0155\n",
            "Epoch 31/500\n",
            "60000/60000 [==============================] - 1s 24us/step - loss: 0.0146 - val_loss: 0.0147\n",
            "Epoch 32/500\n",
            "60000/60000 [==============================] - 1s 23us/step - loss: 0.0146 - val_loss: 0.0147\n",
            "Epoch 33/500\n",
            "60000/60000 [==============================] - 1s 23us/step - loss: 0.0143 - val_loss: 0.0145\n",
            "Epoch 34/500\n",
            "60000/60000 [==============================] - 1s 23us/step - loss: 0.0143 - val_loss: 0.0143\n",
            "Epoch 35/500\n",
            "60000/60000 [==============================] - 1s 23us/step - loss: 0.0143 - val_loss: 0.0150\n",
            "Epoch 36/500\n",
            "60000/60000 [==============================] - 1s 23us/step - loss: 0.0140 - val_loss: 0.0142\n",
            "Epoch 37/500\n",
            "60000/60000 [==============================] - 1s 23us/step - loss: 0.0138 - val_loss: 0.0143\n",
            "Epoch 38/500\n",
            "60000/60000 [==============================] - 1s 23us/step - loss: 0.0140 - val_loss: 0.0139\n",
            "Epoch 39/500\n",
            "60000/60000 [==============================] - 1s 23us/step - loss: 0.0138 - val_loss: 0.0140\n",
            "Epoch 40/500\n",
            "60000/60000 [==============================] - 1s 23us/step - loss: 0.0136 - val_loss: 0.0139\n",
            "Epoch 41/500\n",
            "60000/60000 [==============================] - 1s 23us/step - loss: 0.0136 - val_loss: 0.0137\n",
            "Epoch 42/500\n",
            "60000/60000 [==============================] - 1s 24us/step - loss: 0.0137 - val_loss: 0.0138\n",
            "Epoch 43/500\n",
            "60000/60000 [==============================] - 1s 23us/step - loss: 0.0133 - val_loss: 0.0141\n",
            "Epoch 44/500\n",
            "60000/60000 [==============================] - 1s 23us/step - loss: 0.0133 - val_loss: 0.0135\n",
            "Epoch 45/500\n",
            "60000/60000 [==============================] - 1s 23us/step - loss: 0.0133 - val_loss: 0.0134\n",
            "Epoch 46/500\n",
            "60000/60000 [==============================] - 1s 23us/step - loss: 0.0133 - val_loss: 0.0136\n",
            "Epoch 47/500\n",
            "60000/60000 [==============================] - 1s 23us/step - loss: 0.0130 - val_loss: 0.0133\n",
            "Epoch 48/500\n",
            "47104/60000 [======================>.......] - ETA: 0s - loss: 0.0130"
          ],
          "name": "stdout"
        },
        {
          "output_type": "error",
          "ename": "KeyboardInterrupt",
          "evalue": "ignored",
          "traceback": [
            "\u001b[0;31m---------------------------------------------------------------------------\u001b[0m",
            "\u001b[0;31mKeyboardInterrupt\u001b[0m                         Traceback (most recent call last)",
            "\u001b[0;32m<ipython-input-10-2674d1d6f014>\u001b[0m in \u001b[0;36m<module>\u001b[0;34m()\u001b[0m\n\u001b[0;32m----> 1\u001b[0;31m \u001b[0mtrain_history\u001b[0m \u001b[0;34m=\u001b[0m \u001b[0mautoencoder\u001b[0m\u001b[0;34m.\u001b[0m\u001b[0mfit\u001b[0m\u001b[0;34m(\u001b[0m\u001b[0mtrain_x\u001b[0m\u001b[0;34m,\u001b[0m \u001b[0mtrain_x\u001b[0m\u001b[0;34m,\u001b[0m \u001b[0mepochs\u001b[0m\u001b[0;34m=\u001b[0m\u001b[0;36m500\u001b[0m\u001b[0;34m,\u001b[0m \u001b[0mbatch_size\u001b[0m\u001b[0;34m=\u001b[0m\u001b[0;36m2048\u001b[0m\u001b[0;34m,\u001b[0m \u001b[0mvalidation_data\u001b[0m\u001b[0;34m=\u001b[0m\u001b[0;34m(\u001b[0m\u001b[0mval_x\u001b[0m\u001b[0;34m,\u001b[0m \u001b[0mval_x\u001b[0m\u001b[0;34m)\u001b[0m\u001b[0;34m,\u001b[0m \u001b[0mcallbacks\u001b[0m\u001b[0;34m=\u001b[0m\u001b[0;34m[\u001b[0m\u001b[0mestop\u001b[0m\u001b[0;34m]\u001b[0m\u001b[0;34m)\u001b[0m\u001b[0;34m\u001b[0m\u001b[0;34m\u001b[0m\u001b[0m\n\u001b[0m",
            "\u001b[0;32m/usr/local/lib/python3.6/dist-packages/keras/engine/training.py\u001b[0m in \u001b[0;36mfit\u001b[0;34m(self, x, y, batch_size, epochs, verbose, callbacks, validation_split, validation_data, shuffle, class_weight, sample_weight, initial_epoch, steps_per_epoch, validation_steps, **kwargs)\u001b[0m\n\u001b[1;32m   1037\u001b[0m                                         \u001b[0minitial_epoch\u001b[0m\u001b[0;34m=\u001b[0m\u001b[0minitial_epoch\u001b[0m\u001b[0;34m,\u001b[0m\u001b[0;34m\u001b[0m\u001b[0;34m\u001b[0m\u001b[0m\n\u001b[1;32m   1038\u001b[0m                                         \u001b[0msteps_per_epoch\u001b[0m\u001b[0;34m=\u001b[0m\u001b[0msteps_per_epoch\u001b[0m\u001b[0;34m,\u001b[0m\u001b[0;34m\u001b[0m\u001b[0;34m\u001b[0m\u001b[0m\n\u001b[0;32m-> 1039\u001b[0;31m                                         validation_steps=validation_steps)\n\u001b[0m\u001b[1;32m   1040\u001b[0m \u001b[0;34m\u001b[0m\u001b[0m\n\u001b[1;32m   1041\u001b[0m     def evaluate(self, x=None, y=None,\n",
            "\u001b[0;32m/usr/local/lib/python3.6/dist-packages/keras/engine/training_arrays.py\u001b[0m in \u001b[0;36mfit_loop\u001b[0;34m(model, f, ins, out_labels, batch_size, epochs, verbose, callbacks, val_f, val_ins, shuffle, callback_metrics, initial_epoch, steps_per_epoch, validation_steps)\u001b[0m\n\u001b[1;32m    197\u001b[0m                     \u001b[0mins_batch\u001b[0m\u001b[0;34m[\u001b[0m\u001b[0mi\u001b[0m\u001b[0;34m]\u001b[0m \u001b[0;34m=\u001b[0m \u001b[0mins_batch\u001b[0m\u001b[0;34m[\u001b[0m\u001b[0mi\u001b[0m\u001b[0;34m]\u001b[0m\u001b[0;34m.\u001b[0m\u001b[0mtoarray\u001b[0m\u001b[0;34m(\u001b[0m\u001b[0;34m)\u001b[0m\u001b[0;34m\u001b[0m\u001b[0;34m\u001b[0m\u001b[0m\n\u001b[1;32m    198\u001b[0m \u001b[0;34m\u001b[0m\u001b[0m\n\u001b[0;32m--> 199\u001b[0;31m                 \u001b[0mouts\u001b[0m \u001b[0;34m=\u001b[0m \u001b[0mf\u001b[0m\u001b[0;34m(\u001b[0m\u001b[0mins_batch\u001b[0m\u001b[0;34m)\u001b[0m\u001b[0;34m\u001b[0m\u001b[0;34m\u001b[0m\u001b[0m\n\u001b[0m\u001b[1;32m    200\u001b[0m                 \u001b[0mouts\u001b[0m \u001b[0;34m=\u001b[0m \u001b[0mto_list\u001b[0m\u001b[0;34m(\u001b[0m\u001b[0mouts\u001b[0m\u001b[0;34m)\u001b[0m\u001b[0;34m\u001b[0m\u001b[0;34m\u001b[0m\u001b[0m\n\u001b[1;32m    201\u001b[0m                 \u001b[0;32mfor\u001b[0m \u001b[0ml\u001b[0m\u001b[0;34m,\u001b[0m \u001b[0mo\u001b[0m \u001b[0;32min\u001b[0m \u001b[0mzip\u001b[0m\u001b[0;34m(\u001b[0m\u001b[0mout_labels\u001b[0m\u001b[0;34m,\u001b[0m \u001b[0mouts\u001b[0m\u001b[0;34m)\u001b[0m\u001b[0;34m:\u001b[0m\u001b[0;34m\u001b[0m\u001b[0;34m\u001b[0m\u001b[0m\n",
            "\u001b[0;32m/usr/local/lib/python3.6/dist-packages/keras/backend/tensorflow_backend.py\u001b[0m in \u001b[0;36m__call__\u001b[0;34m(self, inputs)\u001b[0m\n\u001b[1;32m   2713\u001b[0m                 \u001b[0;32mreturn\u001b[0m \u001b[0mself\u001b[0m\u001b[0;34m.\u001b[0m\u001b[0m_legacy_call\u001b[0m\u001b[0;34m(\u001b[0m\u001b[0minputs\u001b[0m\u001b[0;34m)\u001b[0m\u001b[0;34m\u001b[0m\u001b[0;34m\u001b[0m\u001b[0m\n\u001b[1;32m   2714\u001b[0m \u001b[0;34m\u001b[0m\u001b[0m\n\u001b[0;32m-> 2715\u001b[0;31m             \u001b[0;32mreturn\u001b[0m \u001b[0mself\u001b[0m\u001b[0;34m.\u001b[0m\u001b[0m_call\u001b[0m\u001b[0;34m(\u001b[0m\u001b[0minputs\u001b[0m\u001b[0;34m)\u001b[0m\u001b[0;34m\u001b[0m\u001b[0;34m\u001b[0m\u001b[0m\n\u001b[0m\u001b[1;32m   2716\u001b[0m         \u001b[0;32melse\u001b[0m\u001b[0;34m:\u001b[0m\u001b[0;34m\u001b[0m\u001b[0;34m\u001b[0m\u001b[0m\n\u001b[1;32m   2717\u001b[0m             \u001b[0;32mif\u001b[0m \u001b[0mpy_any\u001b[0m\u001b[0;34m(\u001b[0m\u001b[0mis_tensor\u001b[0m\u001b[0;34m(\u001b[0m\u001b[0mx\u001b[0m\u001b[0;34m)\u001b[0m \u001b[0;32mfor\u001b[0m \u001b[0mx\u001b[0m \u001b[0;32min\u001b[0m \u001b[0minputs\u001b[0m\u001b[0;34m)\u001b[0m\u001b[0;34m:\u001b[0m\u001b[0;34m\u001b[0m\u001b[0;34m\u001b[0m\u001b[0m\n",
            "\u001b[0;32m/usr/local/lib/python3.6/dist-packages/keras/backend/tensorflow_backend.py\u001b[0m in \u001b[0;36m_call\u001b[0;34m(self, inputs)\u001b[0m\n\u001b[1;32m   2673\u001b[0m             \u001b[0mfetched\u001b[0m \u001b[0;34m=\u001b[0m \u001b[0mself\u001b[0m\u001b[0;34m.\u001b[0m\u001b[0m_callable_fn\u001b[0m\u001b[0;34m(\u001b[0m\u001b[0;34m*\u001b[0m\u001b[0marray_vals\u001b[0m\u001b[0;34m,\u001b[0m \u001b[0mrun_metadata\u001b[0m\u001b[0;34m=\u001b[0m\u001b[0mself\u001b[0m\u001b[0;34m.\u001b[0m\u001b[0mrun_metadata\u001b[0m\u001b[0;34m)\u001b[0m\u001b[0;34m\u001b[0m\u001b[0;34m\u001b[0m\u001b[0m\n\u001b[1;32m   2674\u001b[0m         \u001b[0;32melse\u001b[0m\u001b[0;34m:\u001b[0m\u001b[0;34m\u001b[0m\u001b[0;34m\u001b[0m\u001b[0m\n\u001b[0;32m-> 2675\u001b[0;31m             \u001b[0mfetched\u001b[0m \u001b[0;34m=\u001b[0m \u001b[0mself\u001b[0m\u001b[0;34m.\u001b[0m\u001b[0m_callable_fn\u001b[0m\u001b[0;34m(\u001b[0m\u001b[0;34m*\u001b[0m\u001b[0marray_vals\u001b[0m\u001b[0;34m)\u001b[0m\u001b[0;34m\u001b[0m\u001b[0;34m\u001b[0m\u001b[0m\n\u001b[0m\u001b[1;32m   2676\u001b[0m         \u001b[0;32mreturn\u001b[0m \u001b[0mfetched\u001b[0m\u001b[0;34m[\u001b[0m\u001b[0;34m:\u001b[0m\u001b[0mlen\u001b[0m\u001b[0;34m(\u001b[0m\u001b[0mself\u001b[0m\u001b[0;34m.\u001b[0m\u001b[0moutputs\u001b[0m\u001b[0;34m)\u001b[0m\u001b[0;34m]\u001b[0m\u001b[0;34m\u001b[0m\u001b[0;34m\u001b[0m\u001b[0m\n\u001b[1;32m   2677\u001b[0m \u001b[0;34m\u001b[0m\u001b[0m\n",
            "\u001b[0;32m/usr/local/lib/python3.6/dist-packages/tensorflow/python/client/session.py\u001b[0m in \u001b[0;36m__call__\u001b[0;34m(self, *args, **kwargs)\u001b[0m\n\u001b[1;32m   1437\u001b[0m           ret = tf_session.TF_SessionRunCallable(\n\u001b[1;32m   1438\u001b[0m               \u001b[0mself\u001b[0m\u001b[0;34m.\u001b[0m\u001b[0m_session\u001b[0m\u001b[0;34m.\u001b[0m\u001b[0m_session\u001b[0m\u001b[0;34m,\u001b[0m \u001b[0mself\u001b[0m\u001b[0;34m.\u001b[0m\u001b[0m_handle\u001b[0m\u001b[0;34m,\u001b[0m \u001b[0margs\u001b[0m\u001b[0;34m,\u001b[0m \u001b[0mstatus\u001b[0m\u001b[0;34m,\u001b[0m\u001b[0;34m\u001b[0m\u001b[0;34m\u001b[0m\u001b[0m\n\u001b[0;32m-> 1439\u001b[0;31m               run_metadata_ptr)\n\u001b[0m\u001b[1;32m   1440\u001b[0m         \u001b[0;32mif\u001b[0m \u001b[0mrun_metadata\u001b[0m\u001b[0;34m:\u001b[0m\u001b[0;34m\u001b[0m\u001b[0;34m\u001b[0m\u001b[0m\n\u001b[1;32m   1441\u001b[0m           \u001b[0mproto_data\u001b[0m \u001b[0;34m=\u001b[0m \u001b[0mtf_session\u001b[0m\u001b[0;34m.\u001b[0m\u001b[0mTF_GetBuffer\u001b[0m\u001b[0;34m(\u001b[0m\u001b[0mrun_metadata_ptr\u001b[0m\u001b[0;34m)\u001b[0m\u001b[0;34m\u001b[0m\u001b[0;34m\u001b[0m\u001b[0m\n",
            "\u001b[0;31mKeyboardInterrupt\u001b[0m: "
          ]
        }
      ]
    },
    {
      "cell_type": "code",
      "metadata": {
        "id": "QnsBG0zx9sfE",
        "colab_type": "code",
        "colab": {}
      },
      "source": [
        "pred = autoencoder.predict(val_x)"
      ],
      "execution_count": 0,
      "outputs": []
    },
    {
      "cell_type": "code",
      "metadata": {
        "id": "o3MB7Uwq9-9r",
        "colab_type": "code",
        "colab": {
          "base_uri": "https://localhost:8080/",
          "height": 286
        },
        "outputId": "b3359744-b1c1-4f0f-8392-8e9b1b22edb7"
      },
      "source": [
        "plt.imshow(pred[0].reshape(28, 28), cmap='gray')"
      ],
      "execution_count": 12,
      "outputs": [
        {
          "output_type": "execute_result",
          "data": {
            "text/plain": [
              "<matplotlib.image.AxesImage at 0x7fb1c64f7ef0>"
            ]
          },
          "metadata": {
            "tags": []
          },
          "execution_count": 12
        },
        {
          "output_type": "display_data",
          "data": {
            "image/png": "[encoded data removed]",
            "text/plain": [
              "<Figure size 432x288 with 1 Axes>"
            ]
          },
          "metadata": {
            "tags": []
          }
        }
      ]
    },
    {
      "cell_type": "code",
      "metadata": {
        "id": "LzGhUkn--BO7",
        "colab_type": "code",
        "colab": {
          "base_uri": "https://localhost:8080/",
          "height": 286
        },
        "outputId": "7eca3766-d4a2-45e4-8f6b-a033d798b99b"
      },
      "source": [
        "plt.imshow(val_x[0].reshape(28, 28), cmap='gray')"
      ],
      "execution_count": 13,
      "outputs": [
        {
          "output_type": "execute_result",
          "data": {
            "text/plain": [
              "<matplotlib.image.AxesImage at 0x7fb1c640bb38>"
            ]
          },
          "metadata": {
            "tags": []
          },
          "execution_count": 13
        },
        {
          "output_type": "display_data",
          "data": {
            "image/png": "[encoded data removed]",
            "text/plain": [
              "<Figure size 432x288 with 1 Axes>"
            ]
          },
          "metadata": {
            "tags": []
          }
        }
      ]
    },
    {
      "cell_type": "code",
      "metadata": {
        "id": "SWmqmZk3-GTk",
        "colab_type": "code",
        "colab": {}
      },
      "source": [
        "from keras.datasets import fashion_mnist"
      ],
      "execution_count": 0,
      "outputs": []
    },
    {
      "cell_type": "code",
      "metadata": {
        "id": "cLZcanV0-XxQ",
        "colab_type": "code",
        "colab": {
          "base_uri": "https://localhost:8080/",
          "height": 86
        },
        "outputId": "52f84c35-4b71-42f2-ab0d-ab2c5ad9ae29"
      },
      "source": [
        "%pylab inline\n",
        "import os\n",
        "import keras\n",
        "import numpy as np\n",
        "import pandas as pd\n",
        "import keras.backend as K\n",
        "from keras import regularizers\n",
        "\n",
        "\n",
        "from time import time\n",
        "from sklearn.cluster import KMeans\n",
        "from keras import callbacks\n",
        "from keras.models import Model\n",
        "from keras.optimizers import SGD\n",
        "from keras.layers import Dense, Input\n",
        "from keras.initializers import VarianceScaling\n",
        "from keras.engine.topology import Layer, InputSpec\n",
        "\n",
        "from scipy.misc import imread\n",
        "from sklearn.metrics import accuracy_score, normalized_mutual_info_score\n"
      ],
      "execution_count": 16,
      "outputs": [
        {
          "output_type": "stream",
          "text": [
            "Populating the interactive namespace from numpy and matplotlib\n"
          ],
          "name": "stdout"
        },
        {
          "output_type": "stream",
          "text": [
            "/usr/local/lib/python3.6/dist-packages/IPython/core/magics/pylab.py:161: UserWarning: pylab import has clobbered these variables: ['imread', 'time']\n",
            "`%matplotlib` prevents importing * from pylab and numpy\n",
            "  \"\\n`%matplotlib` prevents importing * from pylab and numpy\"\n"
          ],
          "name": "stderr"
        }
      ]
    },
    {
      "cell_type": "code",
      "metadata": {
        "id": "WhFhuarA-bxQ",
        "colab_type": "code",
        "colab": {}
      },
      "source": [
        "(train_x, train_y), (val_x, val_y) = fashion_mnist.load_data()"
      ],
      "execution_count": 0,
      "outputs": []
    },
    {
      "cell_type": "code",
      "metadata": {
        "id": "GLvsoIby-eul",
        "colab_type": "code",
        "colab": {}
      },
      "source": [
        "train_x = train_x/255.\n",
        "val_x = val_x/255.\n",
        "\n",
        "train_x = train_x.reshape(-1, 784)\n",
        "val_x = val_x.reshape(-1, 784)\n"
      ],
      "execution_count": 0,
      "outputs": []
    },
    {
      "cell_type": "code",
      "metadata": {
        "id": "WtPLtKre-grN",
        "colab_type": "code",
        "colab": {}
      },
      "source": [
        "# this is our input placeholder\n",
        "input_img = Input(shape=(784,))\n",
        "\n",
        "# \"encoded\" is the encoded representation of the input\n",
        "encoded = Dense(2000, activation='relu')(input_img)\n",
        "encoded = Dense(500, activation='relu',\n",
        "                activity_regularizer=regularizers.l1(10e-10))(encoded)\n",
        "encoded = Dense(500, activation='relu',\n",
        "                activity_regularizer=regularizers.l1(10e-10))(encoded)\n",
        "encoded = Dense(10, activation='sigmoid',\n",
        "                activity_regularizer=regularizers.l1(10e-10))(encoded)\n",
        "\n",
        "# \"decoded\" is the lossy reconstruction of the input\n",
        "decoded = Dense(500, activation='relu')(encoded)\n",
        "decoded = Dense(500, activation='relu')(decoded)\n",
        "decoded = Dense(2000, activation='relu')(decoded)\n",
        "decoded = Dense(784)(decoded)\n",
        "\n",
        "# this model maps an input to its reconstruction\n",
        "autoencoder = Model(input_img, decoded)"
      ],
      "execution_count": 0,
      "outputs": []
    },
    {
      "cell_type": "code",
      "metadata": {
        "id": "2MBNHhz3-kmR",
        "colab_type": "code",
        "colab": {
          "base_uri": "https://localhost:8080/",
          "height": 451
        },
        "outputId": "d2b57bcf-2639-4d3b-e7d9-ca100936a058"
      },
      "source": [
        "autoencoder.summary()"
      ],
      "execution_count": 20,
      "outputs": [
        {
          "output_type": "stream",
          "text": [
            "_________________________________________________________________\n",
            "Layer (type)                 Output Shape              Param #   \n",
            "=================================================================\n",
            "input_2 (InputLayer)         (None, 784)               0         \n",
            "_________________________________________________________________\n",
            "dense_9 (Dense)              (None, 2000)              1570000   \n",
            "_________________________________________________________________\n",
            "dense_10 (Dense)             (None, 500)               1000500   \n",
            "_________________________________________________________________\n",
            "dense_11 (Dense)             (None, 500)               250500    \n",
            "_________________________________________________________________\n",
            "dense_12 (Dense)             (None, 10)                5010      \n",
            "_________________________________________________________________\n",
            "dense_13 (Dense)             (None, 500)               5500      \n",
            "_________________________________________________________________\n",
            "dense_14 (Dense)             (None, 500)               250500    \n",
            "_________________________________________________________________\n",
            "dense_15 (Dense)             (None, 2000)              1002000   \n",
            "_________________________________________________________________\n",
            "dense_16 (Dense)             (None, 784)               1568784   \n",
            "=================================================================\n",
            "Total params: 5,652,794\n",
            "Trainable params: 5,652,794\n",
            "Non-trainable params: 0\n",
            "_________________________________________________________________\n"
          ],
          "name": "stdout"
        }
      ]
    },
    {
      "cell_type": "code",
      "metadata": {
        "id": "2kTl7K2C-mal",
        "colab_type": "code",
        "colab": {}
      },
      "source": [
        "#  this model maps an input to its encoded representation\n",
        "encoder = Model(input_img, encoded)"
      ],
      "execution_count": 0,
      "outputs": []
    },
    {
      "cell_type": "code",
      "metadata": {
        "id": "wkkCAA28-opk",
        "colab_type": "code",
        "colab": {}
      },
      "source": [
        "autoencoder.compile(optimizer='adam', loss='mse')"
      ],
      "execution_count": 0,
      "outputs": []
    },
    {
      "cell_type": "code",
      "metadata": {
        "id": "K1KI5Aa7-qb1",
        "colab_type": "code",
        "colab": {}
      },
      "source": [
        "estop = keras.callbacks.EarlyStopping(monitor='val_loss', min_delta=0, patience=10, verbose=1, mode='auto')"
      ],
      "execution_count": 0,
      "outputs": []
    },
    {
      "cell_type": "code",
      "metadata": {
        "id": "BnFNWBfd-s4N",
        "colab_type": "code",
        "colab": {
          "base_uri": "https://localhost:8080/",
          "height": 6981
        },
        "outputId": "de767dbe-e061-4606-c8a1-beb7e64ab07d"
      },
      "source": [
        "train_history = autoencoder.fit(train_x, train_x, epochs=200, batch_size=2048, validation_data=(val_x, val_x), callbacks=[estop])"
      ],
      "execution_count": 24,
      "outputs": [
        {
          "output_type": "stream",
          "text": [
            "Train on 60000 samples, validate on 10000 samples\n",
            "Epoch 1/200\n",
            "60000/60000 [==============================] - 2s 36us/step - loss: 0.0913 - val_loss: 0.0678\n",
            "Epoch 2/200\n",
            "60000/60000 [==============================] - 1s 23us/step - loss: 0.0610 - val_loss: 0.0519\n",
            "Epoch 3/200\n",
            "60000/60000 [==============================] - 1s 23us/step - loss: 0.0471 - val_loss: 0.0407\n",
            "Epoch 4/200\n",
            "60000/60000 [==============================] - 1s 23us/step - loss: 0.0385 - val_loss: 0.0366\n",
            "Epoch 5/200\n",
            "60000/60000 [==============================] - 1s 23us/step - loss: 0.0358 - val_loss: 0.0344\n",
            "Epoch 6/200\n",
            "60000/60000 [==============================] - 1s 23us/step - loss: 0.0326 - val_loss: 0.0307\n",
            "Epoch 7/200\n",
            "60000/60000 [==============================] - 1s 23us/step - loss: 0.0295 - val_loss: 0.0282\n",
            "Epoch 8/200\n",
            "60000/60000 [==============================] - 1s 23us/step - loss: 0.0265 - val_loss: 0.0255\n",
            "Epoch 9/200\n",
            "60000/60000 [==============================] - 1s 23us/step - loss: 0.0251 - val_loss: 0.0245\n",
            "Epoch 10/200\n",
            "60000/60000 [==============================] - 1s 23us/step - loss: 0.0239 - val_loss: 0.0238\n",
            "Epoch 11/200\n",
            "60000/60000 [==============================] - 1s 23us/step - loss: 0.0234 - val_loss: 0.0229\n",
            "Epoch 12/200\n",
            "60000/60000 [==============================] - 1s 23us/step - loss: 0.0221 - val_loss: 0.0218\n",
            "Epoch 13/200\n",
            "60000/60000 [==============================] - 1s 23us/step - loss: 0.0216 - val_loss: 0.0212\n",
            "Epoch 14/200\n",
            "60000/60000 [==============================] - 1s 23us/step - loss: 0.0207 - val_loss: 0.0206\n",
            "Epoch 15/200\n",
            "60000/60000 [==============================] - 1s 23us/step - loss: 0.0203 - val_loss: 0.0203\n",
            "Epoch 16/200\n",
            "60000/60000 [==============================] - 1s 23us/step - loss: 0.0202 - val_loss: 0.0197\n",
            "Epoch 17/200\n",
            "60000/60000 [==============================] - 1s 23us/step - loss: 0.0195 - val_loss: 0.0193\n",
            "Epoch 18/200\n",
            "60000/60000 [==============================] - 1s 23us/step - loss: 0.0195 - val_loss: 0.0191\n",
            "Epoch 19/200\n",
            "60000/60000 [==============================] - 1s 23us/step - loss: 0.0188 - val_loss: 0.0196\n",
            "Epoch 20/200\n",
            "60000/60000 [==============================] - 1s 23us/step - loss: 0.0186 - val_loss: 0.0184\n",
            "Epoch 21/200\n",
            "60000/60000 [==============================] - 1s 23us/step - loss: 0.0183 - val_loss: 0.0183\n",
            "Epoch 22/200\n",
            "60000/60000 [==============================] - 1s 24us/step - loss: 0.0180 - val_loss: 0.0178\n",
            "Epoch 23/200\n",
            "60000/60000 [==============================] - 1s 23us/step - loss: 0.0175 - val_loss: 0.0175\n",
            "Epoch 24/200\n",
            "60000/60000 [==============================] - 1s 23us/step - loss: 0.0173 - val_loss: 0.0173\n",
            "Epoch 25/200\n",
            "60000/60000 [==============================] - 1s 23us/step - loss: 0.0168 - val_loss: 0.0170\n",
            "Epoch 26/200\n",
            "60000/60000 [==============================] - 1s 23us/step - loss: 0.0166 - val_loss: 0.0167\n",
            "Epoch 27/200\n",
            "60000/60000 [==============================] - 1s 23us/step - loss: 0.0165 - val_loss: 0.0164\n",
            "Epoch 28/200\n",
            "60000/60000 [==============================] - 1s 24us/step - loss: 0.0160 - val_loss: 0.0160\n",
            "Epoch 29/200\n",
            "60000/60000 [==============================] - 1s 24us/step - loss: 0.0160 - val_loss: 0.0159\n",
            "Epoch 30/200\n",
            "60000/60000 [==============================] - 1s 23us/step - loss: 0.0156 - val_loss: 0.0157\n",
            "Epoch 31/200\n",
            "60000/60000 [==============================] - 1s 23us/step - loss: 0.0156 - val_loss: 0.0156\n",
            "Epoch 32/200\n",
            "60000/60000 [==============================] - 1s 24us/step - loss: 0.0153 - val_loss: 0.0154\n",
            "Epoch 33/200\n",
            "60000/60000 [==============================] - 1s 24us/step - loss: 0.0154 - val_loss: 0.0154\n",
            "Epoch 34/200\n",
            "60000/60000 [==============================] - 1s 24us/step - loss: 0.0151 - val_loss: 0.0155\n",
            "Epoch 35/200\n",
            "60000/60000 [==============================] - 1s 24us/step - loss: 0.0149 - val_loss: 0.0150\n",
            "Epoch 36/200\n",
            "60000/60000 [==============================] - 1s 24us/step - loss: 0.0149 - val_loss: 0.0155\n",
            "Epoch 37/200\n",
            "60000/60000 [==============================] - 1s 23us/step - loss: 0.0147 - val_loss: 0.0148\n",
            "Epoch 38/200\n",
            "60000/60000 [==============================] - 1s 23us/step - loss: 0.0146 - val_loss: 0.0147\n",
            "Epoch 39/200\n",
            "60000/60000 [==============================] - 1s 24us/step - loss: 0.0145 - val_loss: 0.0147\n",
            "Epoch 40/200\n",
            "60000/60000 [==============================] - 1s 24us/step - loss: 0.0143 - val_loss: 0.0145\n",
            "Epoch 41/200\n",
            "60000/60000 [==============================] - 1s 24us/step - loss: 0.0143 - val_loss: 0.0144\n",
            "Epoch 42/200\n",
            "60000/60000 [==============================] - 1s 24us/step - loss: 0.0142 - val_loss: 0.0147\n",
            "Epoch 43/200\n",
            "60000/60000 [==============================] - 1s 24us/step - loss: 0.0140 - val_loss: 0.0142\n",
            "Epoch 44/200\n",
            "60000/60000 [==============================] - 1s 24us/step - loss: 0.0139 - val_loss: 0.0141\n",
            "Epoch 45/200\n",
            "60000/60000 [==============================] - 1s 24us/step - loss: 0.0138 - val_loss: 0.0146\n",
            "Epoch 46/200\n",
            "60000/60000 [==============================] - 1s 23us/step - loss: 0.0139 - val_loss: 0.0139\n",
            "Epoch 47/200\n",
            "60000/60000 [==============================] - 1s 24us/step - loss: 0.0135 - val_loss: 0.0139\n",
            "Epoch 48/200\n",
            "60000/60000 [==============================] - 1s 23us/step - loss: 0.0136 - val_loss: 0.0138\n",
            "Epoch 49/200\n",
            "60000/60000 [==============================] - 1s 23us/step - loss: 0.0135 - val_loss: 0.0144\n",
            "Epoch 50/200\n",
            "60000/60000 [==============================] - 1s 23us/step - loss: 0.0135 - val_loss: 0.0139\n",
            "Epoch 51/200\n",
            "60000/60000 [==============================] - 1s 23us/step - loss: 0.0133 - val_loss: 0.0136\n",
            "Epoch 52/200\n",
            "60000/60000 [==============================] - 1s 23us/step - loss: 0.0132 - val_loss: 0.0136\n",
            "Epoch 53/200\n",
            "60000/60000 [==============================] - 1s 23us/step - loss: 0.0133 - val_loss: 0.0136\n",
            "Epoch 54/200\n",
            "60000/60000 [==============================] - 1s 23us/step - loss: 0.0131 - val_loss: 0.0137\n",
            "Epoch 55/200\n",
            "60000/60000 [==============================] - 1s 23us/step - loss: 0.0131 - val_loss: 0.0134\n",
            "Epoch 56/200\n",
            "60000/60000 [==============================] - 1s 23us/step - loss: 0.0130 - val_loss: 0.0140\n",
            "Epoch 57/200\n",
            "60000/60000 [==============================] - 1s 23us/step - loss: 0.0131 - val_loss: 0.0132\n",
            "Epoch 58/200\n",
            "60000/60000 [==============================] - 1s 23us/step - loss: 0.0129 - val_loss: 0.0132\n",
            "Epoch 59/200\n",
            "60000/60000 [==============================] - 1s 23us/step - loss: 0.0129 - val_loss: 0.0132\n",
            "Epoch 60/200\n",
            "60000/60000 [==============================] - 1s 23us/step - loss: 0.0128 - val_loss: 0.0132\n",
            "Epoch 61/200\n",
            "60000/60000 [==============================] - 1s 24us/step - loss: 0.0129 - val_loss: 0.0131\n",
            "Epoch 62/200\n",
            "60000/60000 [==============================] - 1s 23us/step - loss: 0.0126 - val_loss: 0.0130\n",
            "Epoch 63/200\n",
            "60000/60000 [==============================] - 1s 23us/step - loss: 0.0125 - val_loss: 0.0129\n",
            "Epoch 64/200\n",
            "60000/60000 [==============================] - 1s 24us/step - loss: 0.0128 - val_loss: 0.0130\n",
            "Epoch 65/200\n",
            "60000/60000 [==============================] - 1s 23us/step - loss: 0.0125 - val_loss: 0.0129\n",
            "Epoch 66/200\n",
            "60000/60000 [==============================] - 1s 23us/step - loss: 0.0124 - val_loss: 0.0130\n",
            "Epoch 67/200\n",
            "60000/60000 [==============================] - 1s 23us/step - loss: 0.0126 - val_loss: 0.0129\n",
            "Epoch 68/200\n",
            "60000/60000 [==============================] - 1s 23us/step - loss: 0.0123 - val_loss: 0.0128\n",
            "Epoch 69/200\n",
            "60000/60000 [==============================] - 1s 23us/step - loss: 0.0127 - val_loss: 0.0128\n",
            "Epoch 70/200\n",
            "60000/60000 [==============================] - 1s 23us/step - loss: 0.0123 - val_loss: 0.0127\n",
            "Epoch 71/200\n",
            "60000/60000 [==============================] - 1s 23us/step - loss: 0.0122 - val_loss: 0.0127\n",
            "Epoch 72/200\n",
            "60000/60000 [==============================] - 1s 23us/step - loss: 0.0123 - val_loss: 0.0128\n",
            "Epoch 73/200\n",
            "60000/60000 [==============================] - 1s 23us/step - loss: 0.0122 - val_loss: 0.0127\n",
            "Epoch 74/200\n",
            "60000/60000 [==============================] - 1s 23us/step - loss: 0.0122 - val_loss: 0.0127\n",
            "Epoch 75/200\n",
            "60000/60000 [==============================] - 1s 23us/step - loss: 0.0122 - val_loss: 0.0127\n",
            "Epoch 76/200\n",
            "60000/60000 [==============================] - 1s 23us/step - loss: 0.0121 - val_loss: 0.0126\n",
            "Epoch 77/200\n",
            "60000/60000 [==============================] - 1s 23us/step - loss: 0.0120 - val_loss: 0.0127\n",
            "Epoch 78/200\n",
            "60000/60000 [==============================] - 1s 23us/step - loss: 0.0121 - val_loss: 0.0125\n",
            "Epoch 79/200\n",
            "60000/60000 [==============================] - 1s 23us/step - loss: 0.0120 - val_loss: 0.0125\n",
            "Epoch 80/200\n",
            "60000/60000 [==============================] - 1s 23us/step - loss: 0.0120 - val_loss: 0.0125\n",
            "Epoch 81/200\n",
            "60000/60000 [==============================] - 1s 24us/step - loss: 0.0120 - val_loss: 0.0125\n",
            "Epoch 82/200\n",
            "60000/60000 [==============================] - 1s 24us/step - loss: 0.0119 - val_loss: 0.0124\n",
            "Epoch 83/200\n",
            "60000/60000 [==============================] - 1s 24us/step - loss: 0.0120 - val_loss: 0.0124\n",
            "Epoch 84/200\n",
            "60000/60000 [==============================] - 1s 24us/step - loss: 0.0118 - val_loss: 0.0124\n",
            "Epoch 85/200\n",
            "60000/60000 [==============================] - 1s 24us/step - loss: 0.0118 - val_loss: 0.0124\n",
            "Epoch 86/200\n",
            "60000/60000 [==============================] - 1s 24us/step - loss: 0.0119 - val_loss: 0.0127\n",
            "Epoch 87/200\n",
            "60000/60000 [==============================] - 1s 24us/step - loss: 0.0118 - val_loss: 0.0125\n",
            "Epoch 88/200\n",
            "60000/60000 [==============================] - 1s 24us/step - loss: 0.0118 - val_loss: 0.0124\n",
            "Epoch 89/200\n",
            "60000/60000 [==============================] - 1s 24us/step - loss: 0.0117 - val_loss: 0.0123\n",
            "Epoch 90/200\n",
            "60000/60000 [==============================] - 1s 24us/step - loss: 0.0116 - val_loss: 0.0123\n",
            "Epoch 91/200\n",
            "60000/60000 [==============================] - 1s 24us/step - loss: 0.0118 - val_loss: 0.0123\n",
            "Epoch 92/200\n",
            "60000/60000 [==============================] - 1s 23us/step - loss: 0.0117 - val_loss: 0.0124\n",
            "Epoch 93/200\n",
            "60000/60000 [==============================] - 1s 23us/step - loss: 0.0116 - val_loss: 0.0122\n",
            "Epoch 94/200\n",
            "60000/60000 [==============================] - 1s 23us/step - loss: 0.0115 - val_loss: 0.0123\n",
            "Epoch 95/200\n",
            "60000/60000 [==============================] - 1s 24us/step - loss: 0.0117 - val_loss: 0.0123\n",
            "Epoch 96/200\n",
            "60000/60000 [==============================] - 1s 24us/step - loss: 0.0115 - val_loss: 0.0122\n",
            "Epoch 97/200\n",
            "60000/60000 [==============================] - 1s 24us/step - loss: 0.0118 - val_loss: 0.0123\n",
            "Epoch 98/200\n",
            "60000/60000 [==============================] - 1s 24us/step - loss: 0.0114 - val_loss: 0.0122\n",
            "Epoch 99/200\n",
            "60000/60000 [==============================] - 1s 24us/step - loss: 0.0114 - val_loss: 0.0122\n",
            "Epoch 100/200\n",
            "60000/60000 [==============================] - 1s 25us/step - loss: 0.0114 - val_loss: 0.0121\n",
            "Epoch 101/200\n",
            "60000/60000 [==============================] - 1s 25us/step - loss: 0.0117 - val_loss: 0.0130\n",
            "Epoch 102/200\n",
            "60000/60000 [==============================] - 1s 25us/step - loss: 0.0117 - val_loss: 0.0121\n",
            "Epoch 103/200\n",
            "60000/60000 [==============================] - 1s 24us/step - loss: 0.0113 - val_loss: 0.0120\n",
            "Epoch 104/200\n",
            "60000/60000 [==============================] - 1s 23us/step - loss: 0.0113 - val_loss: 0.0123\n",
            "Epoch 105/200\n",
            "60000/60000 [==============================] - 1s 24us/step - loss: 0.0115 - val_loss: 0.0120\n",
            "Epoch 106/200\n",
            "60000/60000 [==============================] - 1s 24us/step - loss: 0.0112 - val_loss: 0.0120\n",
            "Epoch 107/200\n",
            "60000/60000 [==============================] - 1s 24us/step - loss: 0.0113 - val_loss: 0.0120\n",
            "Epoch 108/200\n",
            "60000/60000 [==============================] - 1s 24us/step - loss: 0.0113 - val_loss: 0.0121\n",
            "Epoch 109/200\n",
            "60000/60000 [==============================] - 1s 24us/step - loss: 0.0112 - val_loss: 0.0120\n",
            "Epoch 110/200\n",
            "60000/60000 [==============================] - 1s 24us/step - loss: 0.0113 - val_loss: 0.0120\n",
            "Epoch 111/200\n",
            "60000/60000 [==============================] - 1s 24us/step - loss: 0.0112 - val_loss: 0.0120\n",
            "Epoch 112/200\n",
            "60000/60000 [==============================] - 1s 24us/step - loss: 0.0112 - val_loss: 0.0121\n",
            "Epoch 113/200\n",
            "60000/60000 [==============================] - 1s 24us/step - loss: 0.0112 - val_loss: 0.0120\n",
            "Epoch 114/200\n",
            "60000/60000 [==============================] - 1s 24us/step - loss: 0.0111 - val_loss: 0.0119\n",
            "Epoch 115/200\n",
            "60000/60000 [==============================] - 1s 24us/step - loss: 0.0114 - val_loss: 0.0120\n",
            "Epoch 116/200\n",
            "60000/60000 [==============================] - 1s 24us/step - loss: 0.0111 - val_loss: 0.0119\n",
            "Epoch 117/200\n",
            "60000/60000 [==============================] - 1s 24us/step - loss: 0.0111 - val_loss: 0.0119\n",
            "Epoch 118/200\n",
            "60000/60000 [==============================] - 1s 24us/step - loss: 0.0111 - val_loss: 0.0122\n",
            "Epoch 119/200\n",
            "60000/60000 [==============================] - 1s 24us/step - loss: 0.0111 - val_loss: 0.0119\n",
            "Epoch 120/200\n",
            "60000/60000 [==============================] - 1s 25us/step - loss: 0.0110 - val_loss: 0.0121\n",
            "Epoch 121/200\n",
            "60000/60000 [==============================] - 1s 25us/step - loss: 0.0111 - val_loss: 0.0122\n",
            "Epoch 122/200\n",
            "60000/60000 [==============================] - 1s 24us/step - loss: 0.0111 - val_loss: 0.0119\n",
            "Epoch 123/200\n",
            "60000/60000 [==============================] - 1s 24us/step - loss: 0.0111 - val_loss: 0.0118\n",
            "Epoch 124/200\n",
            "60000/60000 [==============================] - 1s 24us/step - loss: 0.0109 - val_loss: 0.0119\n",
            "Epoch 125/200\n",
            "60000/60000 [==============================] - 1s 24us/step - loss: 0.0110 - val_loss: 0.0122\n",
            "Epoch 126/200\n",
            "60000/60000 [==============================] - 1s 24us/step - loss: 0.0110 - val_loss: 0.0118\n",
            "Epoch 127/200\n",
            "60000/60000 [==============================] - 1s 23us/step - loss: 0.0110 - val_loss: 0.0118\n",
            "Epoch 128/200\n",
            "60000/60000 [==============================] - 1s 24us/step - loss: 0.0109 - val_loss: 0.0119\n",
            "Epoch 129/200\n",
            "60000/60000 [==============================] - 1s 24us/step - loss: 0.0109 - val_loss: 0.0119\n",
            "Epoch 130/200\n",
            "60000/60000 [==============================] - 1s 24us/step - loss: 0.0110 - val_loss: 0.0118\n",
            "Epoch 131/200\n",
            "60000/60000 [==============================] - 1s 23us/step - loss: 0.0109 - val_loss: 0.0117\n",
            "Epoch 132/200\n",
            "60000/60000 [==============================] - 1s 24us/step - loss: 0.0108 - val_loss: 0.0118\n",
            "Epoch 133/200\n",
            "60000/60000 [==============================] - 1s 23us/step - loss: 0.0109 - val_loss: 0.0121\n",
            "Epoch 134/200\n",
            "60000/60000 [==============================] - 1s 23us/step - loss: 0.0108 - val_loss: 0.0117\n",
            "Epoch 135/200\n",
            "60000/60000 [==============================] - 1s 23us/step - loss: 0.0109 - val_loss: 0.0118\n",
            "Epoch 136/200\n",
            "60000/60000 [==============================] - 1s 23us/step - loss: 0.0108 - val_loss: 0.0118\n",
            "Epoch 137/200\n",
            "60000/60000 [==============================] - 1s 23us/step - loss: 0.0108 - val_loss: 0.0117\n",
            "Epoch 138/200\n",
            "60000/60000 [==============================] - 1s 23us/step - loss: 0.0107 - val_loss: 0.0122\n",
            "Epoch 139/200\n",
            "60000/60000 [==============================] - 1s 23us/step - loss: 0.0110 - val_loss: 0.0117\n",
            "Epoch 140/200\n",
            "60000/60000 [==============================] - 1s 23us/step - loss: 0.0107 - val_loss: 0.0117\n",
            "Epoch 141/200\n",
            "60000/60000 [==============================] - 1s 23us/step - loss: 0.0107 - val_loss: 0.0118\n",
            "Epoch 142/200\n",
            "60000/60000 [==============================] - 1s 23us/step - loss: 0.0110 - val_loss: 0.0118\n",
            "Epoch 143/200\n",
            "60000/60000 [==============================] - 1s 23us/step - loss: 0.0107 - val_loss: 0.0117\n",
            "Epoch 144/200\n",
            "60000/60000 [==============================] - 1s 23us/step - loss: 0.0106 - val_loss: 0.0119\n",
            "Epoch 145/200\n",
            "60000/60000 [==============================] - 1s 23us/step - loss: 0.0107 - val_loss: 0.0119\n",
            "Epoch 146/200\n",
            "60000/60000 [==============================] - 1s 23us/step - loss: 0.0107 - val_loss: 0.0118\n",
            "Epoch 147/200\n",
            "60000/60000 [==============================] - 1s 24us/step - loss: 0.0107 - val_loss: 0.0117\n",
            "Epoch 148/200\n",
            "60000/60000 [==============================] - 1s 24us/step - loss: 0.0107 - val_loss: 0.0117\n",
            "Epoch 149/200\n",
            "60000/60000 [==============================] - 1s 23us/step - loss: 0.0106 - val_loss: 0.0116\n",
            "Epoch 150/200\n",
            "60000/60000 [==============================] - 1s 23us/step - loss: 0.0107 - val_loss: 0.0117\n",
            "Epoch 151/200\n",
            "60000/60000 [==============================] - 1s 23us/step - loss: 0.0106 - val_loss: 0.0116\n",
            "Epoch 152/200\n",
            "60000/60000 [==============================] - 1s 24us/step - loss: 0.0106 - val_loss: 0.0116\n",
            "Epoch 153/200\n",
            "60000/60000 [==============================] - 1s 24us/step - loss: 0.0106 - val_loss: 0.0116\n",
            "Epoch 154/200\n",
            "60000/60000 [==============================] - 1s 24us/step - loss: 0.0107 - val_loss: 0.0116\n",
            "Epoch 155/200\n",
            "60000/60000 [==============================] - 1s 24us/step - loss: 0.0106 - val_loss: 0.0118\n",
            "Epoch 156/200\n",
            "60000/60000 [==============================] - 1s 24us/step - loss: 0.0106 - val_loss: 0.0116\n",
            "Epoch 157/200\n",
            "60000/60000 [==============================] - 1s 24us/step - loss: 0.0106 - val_loss: 0.0119\n",
            "Epoch 158/200\n",
            "60000/60000 [==============================] - 1s 24us/step - loss: 0.0106 - val_loss: 0.0116\n",
            "Epoch 159/200\n",
            "60000/60000 [==============================] - 1s 24us/step - loss: 0.0104 - val_loss: 0.0116\n",
            "Epoch 160/200\n",
            "60000/60000 [==============================] - 1s 23us/step - loss: 0.0106 - val_loss: 0.0116\n",
            "Epoch 161/200\n",
            "60000/60000 [==============================] - 1s 23us/step - loss: 0.0104 - val_loss: 0.0116\n",
            "Epoch 162/200\n",
            "60000/60000 [==============================] - 1s 23us/step - loss: 0.0106 - val_loss: 0.0117\n",
            "Epoch 163/200\n",
            "60000/60000 [==============================] - 1s 23us/step - loss: 0.0105 - val_loss: 0.0116\n",
            "Epoch 164/200\n",
            "60000/60000 [==============================] - 1s 23us/step - loss: 0.0104 - val_loss: 0.0117\n",
            "Epoch 165/200\n",
            "60000/60000 [==============================] - 1s 23us/step - loss: 0.0105 - val_loss: 0.0116\n",
            "Epoch 166/200\n",
            "60000/60000 [==============================] - 1s 23us/step - loss: 0.0104 - val_loss: 0.0116\n",
            "Epoch 167/200\n",
            "60000/60000 [==============================] - 1s 23us/step - loss: 0.0107 - val_loss: 0.0117\n",
            "Epoch 168/200\n",
            "60000/60000 [==============================] - 1s 23us/step - loss: 0.0104 - val_loss: 0.0115\n",
            "Epoch 169/200\n",
            "60000/60000 [==============================] - 1s 23us/step - loss: 0.0104 - val_loss: 0.0117\n",
            "Epoch 170/200\n",
            "60000/60000 [==============================] - 1s 23us/step - loss: 0.0104 - val_loss: 0.0115\n",
            "Epoch 171/200\n",
            "60000/60000 [==============================] - 1s 23us/step - loss: 0.0103 - val_loss: 0.0115\n",
            "Epoch 172/200\n",
            "60000/60000 [==============================] - 1s 23us/step - loss: 0.0105 - val_loss: 0.0117\n",
            "Epoch 173/200\n",
            "60000/60000 [==============================] - 1s 23us/step - loss: 0.0104 - val_loss: 0.0115\n",
            "Epoch 174/200\n",
            "60000/60000 [==============================] - 1s 23us/step - loss: 0.0103 - val_loss: 0.0115\n",
            "Epoch 175/200\n",
            "60000/60000 [==============================] - 1s 23us/step - loss: 0.0104 - val_loss: 0.0118\n",
            "Epoch 176/200\n",
            "60000/60000 [==============================] - 1s 23us/step - loss: 0.0104 - val_loss: 0.0115\n",
            "Epoch 177/200\n",
            "60000/60000 [==============================] - 1s 23us/step - loss: 0.0102 - val_loss: 0.0114\n",
            "Epoch 178/200\n",
            "60000/60000 [==============================] - 1s 23us/step - loss: 0.0104 - val_loss: 0.0115\n",
            "Epoch 179/200\n",
            "60000/60000 [==============================] - 1s 23us/step - loss: 0.0103 - val_loss: 0.0115\n",
            "Epoch 180/200\n",
            "60000/60000 [==============================] - 1s 23us/step - loss: 0.0103 - val_loss: 0.0115\n",
            "Epoch 181/200\n",
            "60000/60000 [==============================] - 1s 23us/step - loss: 0.0102 - val_loss: 0.0116\n",
            "Epoch 182/200\n",
            "60000/60000 [==============================] - 1s 23us/step - loss: 0.0103 - val_loss: 0.0116\n",
            "Epoch 183/200\n",
            "60000/60000 [==============================] - 1s 23us/step - loss: 0.0103 - val_loss: 0.0116\n",
            "Epoch 184/200\n",
            "60000/60000 [==============================] - 1s 23us/step - loss: 0.0103 - val_loss: 0.0114\n",
            "Epoch 185/200\n",
            "60000/60000 [==============================] - 1s 23us/step - loss: 0.0103 - val_loss: 0.0116\n",
            "Epoch 186/200\n",
            "60000/60000 [==============================] - 1s 23us/step - loss: 0.0102 - val_loss: 0.0115\n",
            "Epoch 187/200\n",
            "60000/60000 [==============================] - 1s 23us/step - loss: 0.0102 - val_loss: 0.0116\n",
            "Epoch 188/200\n",
            "60000/60000 [==============================] - 1s 23us/step - loss: 0.0102 - val_loss: 0.0115\n",
            "Epoch 189/200\n",
            "60000/60000 [==============================] - 1s 23us/step - loss: 0.0103 - val_loss: 0.0115\n",
            "Epoch 190/200\n",
            "60000/60000 [==============================] - 1s 23us/step - loss: 0.0102 - val_loss: 0.0115\n",
            "Epoch 191/200\n",
            "60000/60000 [==============================] - 1s 23us/step - loss: 0.0103 - val_loss: 0.0119\n",
            "Epoch 192/200\n",
            "60000/60000 [==============================] - 1s 23us/step - loss: 0.0103 - val_loss: 0.0114\n",
            "Epoch 193/200\n",
            "60000/60000 [==============================] - 1s 23us/step - loss: 0.0101 - val_loss: 0.0114\n",
            "Epoch 194/200\n",
            "60000/60000 [==============================] - 1s 23us/step - loss: 0.0101 - val_loss: 0.0114\n",
            "Epoch 195/200\n",
            "60000/60000 [==============================] - 1s 23us/step - loss: 0.0103 - val_loss: 0.0115\n",
            "Epoch 196/200\n",
            "60000/60000 [==============================] - 1s 23us/step - loss: 0.0102 - val_loss: 0.0114\n",
            "Epoch 197/200\n",
            "60000/60000 [==============================] - 1s 23us/step - loss: 0.0101 - val_loss: 0.0116\n",
            "Epoch 198/200\n",
            "60000/60000 [==============================] - 1s 23us/step - loss: 0.0101 - val_loss: 0.0116\n",
            "Epoch 199/200\n",
            "60000/60000 [==============================] - 1s 23us/step - loss: 0.0101 - val_loss: 0.0114\n",
            "Epoch 200/200\n",
            "60000/60000 [==============================] - 1s 23us/step - loss: 0.0101 - val_loss: 0.0115\n"
          ],
          "name": "stdout"
        }
      ]
    },
    {
      "cell_type": "code",
      "metadata": {
        "id": "6qRC1i7g-umg",
        "colab_type": "code",
        "colab": {}
      },
      "source": [
        "pred = autoencoder.predict(val_x)"
      ],
      "execution_count": 0,
      "outputs": []
    },
    {
      "cell_type": "code",
      "metadata": {
        "id": "i25PcCi--322",
        "colab_type": "code",
        "colab": {
          "base_uri": "https://localhost:8080/",
          "height": 286
        },
        "outputId": "57b9d626-f512-4839-c752-e216a3b78c1f"
      },
      "source": [
        "plt.imshow(pred[1].reshape(28, 28), cmap='gray')"
      ],
      "execution_count": 28,
      "outputs": [
        {
          "output_type": "execute_result",
          "data": {
            "text/plain": [
              "<matplotlib.image.AxesImage at 0x7fb1c0282ba8>"
            ]
          },
          "metadata": {
            "tags": []
          },
          "execution_count": 28
        },
        {
          "output_type": "display_data",
          "data": {
            "image/png": "[encoded data removed]",
            "text/plain": [
              "<Figure size 432x288 with 1 Axes>"
            ]
          },
          "metadata": {
            "tags": []
          }
        }
      ]
    },
    {
      "cell_type": "code",
      "metadata": {
        "id": "6bQjdhpJ-4Ul",
        "colab_type": "code",
        "colab": {
          "base_uri": "https://localhost:8080/",
          "height": 286
        },
        "outputId": "f697f7f7-8d37-4f1c-c83f-73dfaec08a03"
      },
      "source": [
        "plt.imshow(val_x[1].reshape(28, 28), cmap='gray')"
      ],
      "execution_count": 27,
      "outputs": [
        {
          "output_type": "execute_result",
          "data": {
            "text/plain": [
              "<matplotlib.image.AxesImage at 0x7fb1c0330588>"
            ]
          },
          "metadata": {
            "tags": []
          },
          "execution_count": 27
        },
        {
          "output_type": "display_data",
          "data": {
            "image/png": "[encoded data removed]",
            "text/plain": [
              "<Figure size 432x288 with 1 Axes>"
            ]
          },
          "metadata": {
            "tags": []
          }
        }
      ]
    },
    {
      "cell_type": "code",
      "metadata": {
        "id": "Fg0yqMd2_h4d",
        "colab_type": "code",
        "colab": {}
      },
      "source": [
        "(train_x, train_y), (val_x, val_y) = fashion_mnist.load_data()"
      ],
      "execution_count": 0,
      "outputs": []
    },
    {
      "cell_type": "code",
      "metadata": {
        "id": "qiikhwg7AWcK",
        "colab_type": "code",
        "colab": {
          "base_uri": "https://localhost:8080/",
          "height": 86
        },
        "outputId": "6226d85b-9c8e-435f-c093-43be304ccc16"
      },
      "source": [
        "%pylab inline\n",
        "import os\n",
        "import keras\n",
        "import numpy as np\n",
        "import pandas as pd\n",
        "import keras.backend as K\n",
        "\n",
        "from time import time\n",
        "from sklearn.cluster import KMeans\n",
        "from keras import callbacks\n",
        "from keras.models import Model\n",
        "from keras.optimizers import SGD\n",
        "from keras.layers import Dense, Input, Conv2D, MaxPool2D, UpSampling2D\n",
        "from keras.initializers import VarianceScaling\n",
        "from keras.engine.topology import Layer, InputSpec\n",
        "\n",
        "from scipy.misc import imread\n",
        "from sklearn.metrics import accuracy_score, normalized_mutual_info_score"
      ],
      "execution_count": 34,
      "outputs": [
        {
          "output_type": "stream",
          "text": [
            "Populating the interactive namespace from numpy and matplotlib\n"
          ],
          "name": "stdout"
        },
        {
          "output_type": "stream",
          "text": [
            "/usr/local/lib/python3.6/dist-packages/IPython/core/magics/pylab.py:161: UserWarning: pylab import has clobbered these variables: ['imread', 'time']\n",
            "`%matplotlib` prevents importing * from pylab and numpy\n",
            "  \"\\n`%matplotlib` prevents importing * from pylab and numpy\"\n"
          ],
          "name": "stderr"
        }
      ]
    },
    {
      "cell_type": "code",
      "metadata": {
        "id": "adaLpX3hAHSU",
        "colab_type": "code",
        "colab": {}
      },
      "source": [
        "from imgaug import augmenters as iaa\n",
        "seq = iaa.Sequential([iaa.SaltAndPepper(0.2)])\n",
        "\n",
        "train_x_aug = seq.augment_images(train_x)\n",
        "val_x_aug = seq.augment_images(val_x)\n"
      ],
      "execution_count": 0,
      "outputs": []
    },
    {
      "cell_type": "code",
      "metadata": {
        "id": "cpV39PoLAI_u",
        "colab_type": "code",
        "colab": {}
      },
      "source": [
        "train_x = train_x/255.\n",
        "val_x = val_x/255.\n",
        "\n",
        "train_x = train_x.reshape(-1, 28, 28, 1)\n",
        "val_x = val_x.reshape(-1, 28, 28, 1)\n",
        "\n",
        "train_x_aug = train_x_aug/255.\n",
        "val_x_aug = val_x_aug/255.\n",
        "\n",
        "train_x_aug = train_x_aug.reshape(-1, 28, 28, 1)\n",
        "val_x_aug = val_x_aug.reshape(-1, 28, 28, 1)"
      ],
      "execution_count": 0,
      "outputs": []
    },
    {
      "cell_type": "code",
      "metadata": {
        "id": "gZpQ-dzQANRz",
        "colab_type": "code",
        "colab": {}
      },
      "source": [
        "# this is our input placeholder\n",
        "input_img = Input(shape=(28, 28, 1))\n",
        "\n",
        "# \"encoded\" is the encoded representation of the input\n",
        "encoded = Conv2D(64, (3, 3), activation='relu', padding='same')(input_img)\n",
        "encoded = MaxPool2D((2, 2), padding='same')(encoded)\n",
        "encoded = Conv2D(32, (3, 3), activation='relu', padding='same')(encoded)\n",
        "encoded = MaxPool2D((2, 2), padding='same')(encoded)\n",
        "encoded = Conv2D(16, (3, 3), activation='relu', padding='same')(encoded)\n",
        "encoded = MaxPool2D((2, 2), padding='same')(encoded)\n",
        "\n",
        "# \"decoded\" is the lossy reconstruction of the input\n",
        "decoded = Conv2D(16, (3, 3), activation='relu', padding='same')(encoded)\n",
        "decoded = UpSampling2D((2, 2))(decoded)\n",
        "decoded = Conv2D(32, (3, 3), activation='relu', padding='same')(decoded)\n",
        "decoded = UpSampling2D((2, 2))(decoded)\n",
        "decoded = Conv2D(64, (3, 3), activation='relu')(decoded)\n",
        "decoded = UpSampling2D((2, 2))(decoded)\n",
        "decoded = Conv2D(1, (3, 3), padding='same')(decoded)\n",
        "\n",
        "# this model maps an input to its reconstruction\n",
        "autoencoder = Model(input_img, decoded)"
      ],
      "execution_count": 0,
      "outputs": []
    },
    {
      "cell_type": "code",
      "metadata": {
        "id": "MyPBLUxoARM8",
        "colab_type": "code",
        "colab": {
          "base_uri": "https://localhost:8080/",
          "height": 625
        },
        "outputId": "8884b803-c00d-48e0-ef54-2b574a00c1d8"
      },
      "source": [
        "autoencoder.summary()"
      ],
      "execution_count": 42,
      "outputs": [
        {
          "output_type": "stream",
          "text": [
            "_________________________________________________________________\n",
            "Layer (type)                 Output Shape              Param #   \n",
            "=================================================================\n",
            "input_5 (InputLayer)         (None, 28, 28, 1)         0         \n",
            "_________________________________________________________________\n",
            "conv2d_8 (Conv2D)            (None, 28, 28, 64)        640       \n",
            "_________________________________________________________________\n",
            "max_pooling2d_4 (MaxPooling2 (None, 14, 14, 64)        0         \n",
            "_________________________________________________________________\n",
            "conv2d_9 (Conv2D)            (None, 14, 14, 32)        18464     \n",
            "_________________________________________________________________\n",
            "max_pooling2d_5 (MaxPooling2 (None, 7, 7, 32)          0         \n",
            "_________________________________________________________________\n",
            "conv2d_10 (Conv2D)           (None, 7, 7, 16)          4624      \n",
            "_________________________________________________________________\n",
            "max_pooling2d_6 (MaxPooling2 (None, 4, 4, 16)          0         \n",
            "_________________________________________________________________\n",
            "conv2d_11 (Conv2D)           (None, 4, 4, 16)          2320      \n",
            "_________________________________________________________________\n",
            "up_sampling2d_4 (UpSampling2 (None, 8, 8, 16)          0         \n",
            "_________________________________________________________________\n",
            "conv2d_12 (Conv2D)           (None, 8, 8, 32)          4640      \n",
            "_________________________________________________________________\n",
            "up_sampling2d_5 (UpSampling2 (None, 16, 16, 32)        0         \n",
            "_________________________________________________________________\n",
            "conv2d_13 (Conv2D)           (None, 14, 14, 64)        18496     \n",
            "_________________________________________________________________\n",
            "up_sampling2d_6 (UpSampling2 (None, 28, 28, 64)        0         \n",
            "_________________________________________________________________\n",
            "conv2d_14 (Conv2D)           (None, 28, 28, 1)         577       \n",
            "=================================================================\n",
            "Total params: 49,761\n",
            "Trainable params: 49,761\n",
            "Non-trainable params: 0\n",
            "_________________________________________________________________\n"
          ],
          "name": "stdout"
        }
      ]
    },
    {
      "cell_type": "code",
      "metadata": {
        "id": "Konb8Uq0ATLn",
        "colab_type": "code",
        "colab": {}
      },
      "source": [
        "#  this model maps an input to its encoded representation\n",
        "encoder = Model(input_img, encoded)"
      ],
      "execution_count": 0,
      "outputs": []
    },
    {
      "cell_type": "code",
      "metadata": {
        "id": "lE0BUTLrAe72",
        "colab_type": "code",
        "colab": {}
      },
      "source": [
        "autoencoder.compile(optimizer='adam', loss='mse')"
      ],
      "execution_count": 0,
      "outputs": []
    },
    {
      "cell_type": "code",
      "metadata": {
        "id": "ljbq959NAg0Z",
        "colab_type": "code",
        "colab": {}
      },
      "source": [
        "estop = keras.callbacks.EarlyStopping(monitor='val_loss', min_delta=0, patience=10, verbose=1, mode='auto')\n"
      ],
      "execution_count": 0,
      "outputs": []
    },
    {
      "cell_type": "code",
      "metadata": {
        "id": "ukY5huEbAtYH",
        "colab_type": "code",
        "colab": {
          "base_uri": "https://localhost:8080/",
          "height": 4776
        },
        "outputId": "718b7212-342c-4fb3-eab6-6492da929c66"
      },
      "source": [
        "train_history = autoencoder.fit(train_x_aug, train_x, epochs=500, batch_size=2048, validation_data=(val_x_aug, val_x), callbacks=[estop])"
      ],
      "execution_count": 46,
      "outputs": [
        {
          "output_type": "stream",
          "text": [
            "Train on 60000 samples, validate on 10000 samples\n",
            "Epoch 1/500\n",
            "60000/60000 [==============================] - 10s 165us/step - loss: 0.0835 - val_loss: 0.0491\n",
            "Epoch 2/500\n",
            "60000/60000 [==============================] - 4s 71us/step - loss: 0.0402 - val_loss: 0.0339\n",
            "Epoch 3/500\n",
            "60000/60000 [==============================] - 4s 72us/step - loss: 0.0308 - val_loss: 0.0280\n",
            "Epoch 4/500\n",
            "60000/60000 [==============================] - 4s 71us/step - loss: 0.0265 - val_loss: 0.0250\n",
            "Epoch 5/500\n",
            "60000/60000 [==============================] - 4s 71us/step - loss: 0.0242 - val_loss: 0.0233\n",
            "Epoch 6/500\n",
            "60000/60000 [==============================] - 4s 71us/step - loss: 0.0228 - val_loss: 0.0223\n",
            "Epoch 7/500\n",
            "60000/60000 [==============================] - 4s 71us/step - loss: 0.0218 - val_loss: 0.0225\n",
            "Epoch 8/500\n",
            "60000/60000 [==============================] - 4s 71us/step - loss: 0.0212 - val_loss: 0.0209\n",
            "Epoch 9/500\n",
            "60000/60000 [==============================] - 4s 72us/step - loss: 0.0205 - val_loss: 0.0204\n",
            "Epoch 10/500\n",
            "60000/60000 [==============================] - 4s 72us/step - loss: 0.0201 - val_loss: 0.0197\n",
            "Epoch 11/500\n",
            "60000/60000 [==============================] - 4s 72us/step - loss: 0.0196 - val_loss: 0.0194\n",
            "Epoch 12/500\n",
            "60000/60000 [==============================] - 4s 72us/step - loss: 0.0192 - val_loss: 0.0191\n",
            "Epoch 13/500\n",
            "60000/60000 [==============================] - 4s 72us/step - loss: 0.0188 - val_loss: 0.0193\n",
            "Epoch 14/500\n",
            "60000/60000 [==============================] - 4s 72us/step - loss: 0.0185 - val_loss: 0.0184\n",
            "Epoch 15/500\n",
            "60000/60000 [==============================] - 4s 72us/step - loss: 0.0183 - val_loss: 0.0180\n",
            "Epoch 16/500\n",
            "60000/60000 [==============================] - 4s 72us/step - loss: 0.0179 - val_loss: 0.0179\n",
            "Epoch 17/500\n",
            "60000/60000 [==============================] - 4s 72us/step - loss: 0.0177 - val_loss: 0.0175\n",
            "Epoch 18/500\n",
            "60000/60000 [==============================] - 4s 72us/step - loss: 0.0175 - val_loss: 0.0175\n",
            "Epoch 19/500\n",
            "60000/60000 [==============================] - 4s 72us/step - loss: 0.0172 - val_loss: 0.0172\n",
            "Epoch 20/500\n",
            "60000/60000 [==============================] - 4s 72us/step - loss: 0.0171 - val_loss: 0.0169\n",
            "Epoch 21/500\n",
            "60000/60000 [==============================] - 4s 72us/step - loss: 0.0169 - val_loss: 0.0168\n",
            "Epoch 22/500\n",
            "60000/60000 [==============================] - 4s 72us/step - loss: 0.0166 - val_loss: 0.0171\n",
            "Epoch 23/500\n",
            "60000/60000 [==============================] - 4s 71us/step - loss: 0.0165 - val_loss: 0.0163\n",
            "Epoch 24/500\n",
            "60000/60000 [==============================] - 4s 71us/step - loss: 0.0164 - val_loss: 0.0162\n",
            "Epoch 25/500\n",
            "60000/60000 [==============================] - 4s 71us/step - loss: 0.0162 - val_loss: 0.0160\n",
            "Epoch 26/500\n",
            "60000/60000 [==============================] - 4s 71us/step - loss: 0.0160 - val_loss: 0.0160\n",
            "Epoch 27/500\n",
            "60000/60000 [==============================] - 4s 71us/step - loss: 0.0158 - val_loss: 0.0160\n",
            "Epoch 28/500\n",
            "60000/60000 [==============================] - 4s 71us/step - loss: 0.0158 - val_loss: 0.0157\n",
            "Epoch 29/500\n",
            "60000/60000 [==============================] - 4s 71us/step - loss: 0.0155 - val_loss: 0.0157\n",
            "Epoch 30/500\n",
            "60000/60000 [==============================] - 4s 71us/step - loss: 0.0157 - val_loss: 0.0154\n",
            "Epoch 31/500\n",
            "60000/60000 [==============================] - 4s 71us/step - loss: 0.0152 - val_loss: 0.0152\n",
            "Epoch 32/500\n",
            "60000/60000 [==============================] - 4s 71us/step - loss: 0.0151 - val_loss: 0.0153\n",
            "Epoch 33/500\n",
            "60000/60000 [==============================] - 4s 71us/step - loss: 0.0153 - val_loss: 0.0150\n",
            "Epoch 34/500\n",
            "60000/60000 [==============================] - 4s 71us/step - loss: 0.0149 - val_loss: 0.0149\n",
            "Epoch 35/500\n",
            "60000/60000 [==============================] - 4s 71us/step - loss: 0.0149 - val_loss: 0.0158\n",
            "Epoch 36/500\n",
            "60000/60000 [==============================] - 4s 72us/step - loss: 0.0149 - val_loss: 0.0147\n",
            "Epoch 37/500\n",
            "60000/60000 [==============================] - 4s 71us/step - loss: 0.0146 - val_loss: 0.0146\n",
            "Epoch 38/500\n",
            "60000/60000 [==============================] - 4s 71us/step - loss: 0.0145 - val_loss: 0.0157\n",
            "Epoch 39/500\n",
            "60000/60000 [==============================] - 4s 72us/step - loss: 0.0149 - val_loss: 0.0146\n",
            "Epoch 40/500\n",
            "60000/60000 [==============================] - 4s 72us/step - loss: 0.0143 - val_loss: 0.0144\n",
            "Epoch 41/500\n",
            "60000/60000 [==============================] - 4s 72us/step - loss: 0.0143 - val_loss: 0.0143\n",
            "Epoch 42/500\n",
            "60000/60000 [==============================] - 4s 71us/step - loss: 0.0142 - val_loss: 0.0144\n",
            "Epoch 43/500\n",
            "60000/60000 [==============================] - 4s 72us/step - loss: 0.0142 - val_loss: 0.0142\n",
            "Epoch 44/500\n",
            "60000/60000 [==============================] - 4s 72us/step - loss: 0.0141 - val_loss: 0.0140\n",
            "Epoch 45/500\n",
            "60000/60000 [==============================] - 4s 72us/step - loss: 0.0140 - val_loss: 0.0144\n",
            "Epoch 46/500\n",
            "60000/60000 [==============================] - 4s 71us/step - loss: 0.0140 - val_loss: 0.0141\n",
            "Epoch 47/500\n",
            "60000/60000 [==============================] - 4s 71us/step - loss: 0.0139 - val_loss: 0.0141\n",
            "Epoch 48/500\n",
            "60000/60000 [==============================] - 4s 72us/step - loss: 0.0139 - val_loss: 0.0141\n",
            "Epoch 49/500\n",
            "60000/60000 [==============================] - 4s 72us/step - loss: 0.0139 - val_loss: 0.0138\n",
            "Epoch 50/500\n",
            "60000/60000 [==============================] - 4s 72us/step - loss: 0.0137 - val_loss: 0.0138\n",
            "Epoch 51/500\n",
            "60000/60000 [==============================] - 4s 71us/step - loss: 0.0137 - val_loss: 0.0140\n",
            "Epoch 52/500\n",
            "60000/60000 [==============================] - 4s 71us/step - loss: 0.0137 - val_loss: 0.0136\n",
            "Epoch 53/500\n",
            "60000/60000 [==============================] - 4s 72us/step - loss: 0.0136 - val_loss: 0.0136\n",
            "Epoch 54/500\n",
            "60000/60000 [==============================] - 4s 72us/step - loss: 0.0135 - val_loss: 0.0135\n",
            "Epoch 55/500\n",
            "60000/60000 [==============================] - 4s 72us/step - loss: 0.0134 - val_loss: 0.0134\n",
            "Epoch 56/500\n",
            "60000/60000 [==============================] - 4s 72us/step - loss: 0.0135 - val_loss: 0.0135\n",
            "Epoch 57/500\n",
            "60000/60000 [==============================] - 4s 71us/step - loss: 0.0134 - val_loss: 0.0133\n",
            "Epoch 58/500\n",
            "60000/60000 [==============================] - 4s 72us/step - loss: 0.0133 - val_loss: 0.0133\n",
            "Epoch 59/500\n",
            "60000/60000 [==============================] - 4s 72us/step - loss: 0.0134 - val_loss: 0.0133\n",
            "Epoch 60/500\n",
            "60000/60000 [==============================] - 4s 72us/step - loss: 0.0132 - val_loss: 0.0132\n",
            "Epoch 61/500\n",
            "60000/60000 [==============================] - 4s 71us/step - loss: 0.0132 - val_loss: 0.0132\n",
            "Epoch 62/500\n",
            "60000/60000 [==============================] - 4s 72us/step - loss: 0.0133 - val_loss: 0.0134\n",
            "Epoch 63/500\n",
            "60000/60000 [==============================] - 4s 72us/step - loss: 0.0130 - val_loss: 0.0130\n",
            "Epoch 64/500\n",
            "60000/60000 [==============================] - 4s 71us/step - loss: 0.0130 - val_loss: 0.0130\n",
            "Epoch 65/500\n",
            "60000/60000 [==============================] - 4s 71us/step - loss: 0.0131 - val_loss: 0.0130\n",
            "Epoch 66/500\n",
            "60000/60000 [==============================] - 4s 71us/step - loss: 0.0130 - val_loss: 0.0129\n",
            "Epoch 67/500\n",
            "60000/60000 [==============================] - 4s 72us/step - loss: 0.0129 - val_loss: 0.0133\n",
            "Epoch 68/500\n",
            "60000/60000 [==============================] - 4s 71us/step - loss: 0.0129 - val_loss: 0.0128\n",
            "Epoch 69/500\n",
            "60000/60000 [==============================] - 4s 71us/step - loss: 0.0127 - val_loss: 0.0128\n",
            "Epoch 70/500\n",
            "60000/60000 [==============================] - 4s 72us/step - loss: 0.0130 - val_loss: 0.0128\n",
            "Epoch 71/500\n",
            "60000/60000 [==============================] - 4s 71us/step - loss: 0.0127 - val_loss: 0.0128\n",
            "Epoch 72/500\n",
            "60000/60000 [==============================] - 4s 72us/step - loss: 0.0127 - val_loss: 0.0127\n",
            "Epoch 73/500\n",
            "60000/60000 [==============================] - 4s 71us/step - loss: 0.0127 - val_loss: 0.0126\n",
            "Epoch 74/500\n",
            "60000/60000 [==============================] - 4s 71us/step - loss: 0.0127 - val_loss: 0.0126\n",
            "Epoch 75/500\n",
            "60000/60000 [==============================] - 4s 71us/step - loss: 0.0126 - val_loss: 0.0126\n",
            "Epoch 76/500\n",
            "60000/60000 [==============================] - 4s 72us/step - loss: 0.0126 - val_loss: 0.0126\n",
            "Epoch 77/500\n",
            "60000/60000 [==============================] - 4s 72us/step - loss: 0.0125 - val_loss: 0.0126\n",
            "Epoch 78/500\n",
            "60000/60000 [==============================] - 4s 72us/step - loss: 0.0126 - val_loss: 0.0125\n",
            "Epoch 79/500\n",
            "60000/60000 [==============================] - 4s 71us/step - loss: 0.0124 - val_loss: 0.0126\n",
            "Epoch 80/500\n",
            "60000/60000 [==============================] - 4s 72us/step - loss: 0.0126 - val_loss: 0.0124\n",
            "Epoch 81/500\n",
            "60000/60000 [==============================] - 4s 71us/step - loss: 0.0123 - val_loss: 0.0124\n",
            "Epoch 82/500\n",
            "60000/60000 [==============================] - 4s 71us/step - loss: 0.0124 - val_loss: 0.0124\n",
            "Epoch 83/500\n",
            "60000/60000 [==============================] - 4s 71us/step - loss: 0.0124 - val_loss: 0.0125\n",
            "Epoch 84/500\n",
            "60000/60000 [==============================] - 4s 71us/step - loss: 0.0123 - val_loss: 0.0123\n",
            "Epoch 85/500\n",
            "60000/60000 [==============================] - 4s 72us/step - loss: 0.0123 - val_loss: 0.0129\n",
            "Epoch 86/500\n",
            "60000/60000 [==============================] - 4s 71us/step - loss: 0.0124 - val_loss: 0.0122\n",
            "Epoch 87/500\n",
            "60000/60000 [==============================] - 4s 71us/step - loss: 0.0122 - val_loss: 0.0124\n",
            "Epoch 88/500\n",
            "60000/60000 [==============================] - 4s 71us/step - loss: 0.0123 - val_loss: 0.0122\n",
            "Epoch 89/500\n",
            "60000/60000 [==============================] - 4s 71us/step - loss: 0.0122 - val_loss: 0.0122\n",
            "Epoch 90/500\n",
            "60000/60000 [==============================] - 4s 71us/step - loss: 0.0121 - val_loss: 0.0123\n",
            "Epoch 91/500\n",
            "60000/60000 [==============================] - 4s 72us/step - loss: 0.0121 - val_loss: 0.0121\n",
            "Epoch 92/500\n",
            "60000/60000 [==============================] - 4s 72us/step - loss: 0.0121 - val_loss: 0.0125\n",
            "Epoch 93/500\n",
            "60000/60000 [==============================] - 4s 71us/step - loss: 0.0121 - val_loss: 0.0121\n",
            "Epoch 94/500\n",
            "60000/60000 [==============================] - 4s 71us/step - loss: 0.0120 - val_loss: 0.0122\n",
            "Epoch 95/500\n",
            "60000/60000 [==============================] - 4s 72us/step - loss: 0.0122 - val_loss: 0.0120\n",
            "Epoch 96/500\n",
            "60000/60000 [==============================] - 4s 72us/step - loss: 0.0119 - val_loss: 0.0121\n",
            "Epoch 97/500\n",
            "60000/60000 [==============================] - 4s 72us/step - loss: 0.0119 - val_loss: 0.0121\n",
            "Epoch 98/500\n",
            "60000/60000 [==============================] - 4s 71us/step - loss: 0.0120 - val_loss: 0.0123\n",
            "Epoch 99/500\n",
            "60000/60000 [==============================] - 4s 71us/step - loss: 0.0120 - val_loss: 0.0120\n",
            "Epoch 100/500\n",
            "60000/60000 [==============================] - 4s 71us/step - loss: 0.0119 - val_loss: 0.0119\n",
            "Epoch 101/500\n",
            "60000/60000 [==============================] - 4s 71us/step - loss: 0.0118 - val_loss: 0.0119\n",
            "Epoch 102/500\n",
            "60000/60000 [==============================] - 4s 71us/step - loss: 0.0120 - val_loss: 0.0119\n",
            "Epoch 103/500\n",
            "60000/60000 [==============================] - 4s 71us/step - loss: 0.0118 - val_loss: 0.0119\n",
            "Epoch 104/500\n",
            "60000/60000 [==============================] - 4s 71us/step - loss: 0.0118 - val_loss: 0.0129\n",
            "Epoch 105/500\n",
            "60000/60000 [==============================] - 4s 71us/step - loss: 0.0119 - val_loss: 0.0118\n",
            "Epoch 106/500\n",
            "60000/60000 [==============================] - 4s 71us/step - loss: 0.0117 - val_loss: 0.0119\n",
            "Epoch 107/500\n",
            "60000/60000 [==============================] - 4s 71us/step - loss: 0.0120 - val_loss: 0.0119\n",
            "Epoch 108/500\n",
            "60000/60000 [==============================] - 4s 71us/step - loss: 0.0117 - val_loss: 0.0118\n",
            "Epoch 109/500\n",
            "60000/60000 [==============================] - 4s 71us/step - loss: 0.0117 - val_loss: 0.0118\n",
            "Epoch 110/500\n",
            "60000/60000 [==============================] - 4s 71us/step - loss: 0.0117 - val_loss: 0.0117\n",
            "Epoch 111/500\n",
            "60000/60000 [==============================] - 4s 71us/step - loss: 0.0116 - val_loss: 0.0117\n",
            "Epoch 112/500\n",
            "60000/60000 [==============================] - 4s 71us/step - loss: 0.0117 - val_loss: 0.0117\n",
            "Epoch 113/500\n",
            "60000/60000 [==============================] - 4s 71us/step - loss: 0.0117 - val_loss: 0.0118\n",
            "Epoch 114/500\n",
            "60000/60000 [==============================] - 4s 72us/step - loss: 0.0116 - val_loss: 0.0116\n",
            "Epoch 115/500\n",
            "60000/60000 [==============================] - 4s 72us/step - loss: 0.0117 - val_loss: 0.0120\n",
            "Epoch 116/500\n",
            "60000/60000 [==============================] - 4s 72us/step - loss: 0.0115 - val_loss: 0.0116\n",
            "Epoch 117/500\n",
            "60000/60000 [==============================] - 4s 71us/step - loss: 0.0116 - val_loss: 0.0117\n",
            "Epoch 118/500\n",
            "60000/60000 [==============================] - 4s 71us/step - loss: 0.0115 - val_loss: 0.0115\n",
            "Epoch 119/500\n",
            "60000/60000 [==============================] - 4s 71us/step - loss: 0.0115 - val_loss: 0.0117\n",
            "Epoch 120/500\n",
            "60000/60000 [==============================] - 4s 72us/step - loss: 0.0115 - val_loss: 0.0116\n",
            "Epoch 121/500\n",
            "60000/60000 [==============================] - 4s 72us/step - loss: 0.0115 - val_loss: 0.0116\n",
            "Epoch 122/500\n",
            "60000/60000 [==============================] - 4s 72us/step - loss: 0.0115 - val_loss: 0.0115\n",
            "Epoch 123/500\n",
            "60000/60000 [==============================] - 4s 71us/step - loss: 0.0114 - val_loss: 0.0123\n",
            "Epoch 124/500\n",
            "60000/60000 [==============================] - 4s 71us/step - loss: 0.0116 - val_loss: 0.0115\n",
            "Epoch 125/500\n",
            "60000/60000 [==============================] - 4s 71us/step - loss: 0.0114 - val_loss: 0.0114\n",
            "Epoch 126/500\n",
            "60000/60000 [==============================] - 4s 71us/step - loss: 0.0114 - val_loss: 0.0114\n",
            "Epoch 127/500\n",
            "60000/60000 [==============================] - 4s 71us/step - loss: 0.0114 - val_loss: 0.0114\n",
            "Epoch 128/500\n",
            "51200/60000 [========================>.....] - ETA: 0s - loss: 0.0113"
          ],
          "name": "stdout"
        },
        {
          "output_type": "error",
          "ename": "KeyboardInterrupt",
          "evalue": "ignored",
          "traceback": [
            "\u001b[0;31m---------------------------------------------------------------------------\u001b[0m",
            "\u001b[0;31mKeyboardInterrupt\u001b[0m                         Traceback (most recent call last)",
            "\u001b[0;32m<ipython-input-46-bc87d6745e09>\u001b[0m in \u001b[0;36m<module>\u001b[0;34m()\u001b[0m\n\u001b[0;32m----> 1\u001b[0;31m \u001b[0mtrain_history\u001b[0m \u001b[0;34m=\u001b[0m \u001b[0mautoencoder\u001b[0m\u001b[0;34m.\u001b[0m\u001b[0mfit\u001b[0m\u001b[0;34m(\u001b[0m\u001b[0mtrain_x_aug\u001b[0m\u001b[0;34m,\u001b[0m \u001b[0mtrain_x\u001b[0m\u001b[0;34m,\u001b[0m \u001b[0mepochs\u001b[0m\u001b[0;34m=\u001b[0m\u001b[0;36m500\u001b[0m\u001b[0;34m,\u001b[0m \u001b[0mbatch_size\u001b[0m\u001b[0;34m=\u001b[0m\u001b[0;36m2048\u001b[0m\u001b[0;34m,\u001b[0m \u001b[0mvalidation_data\u001b[0m\u001b[0;34m=\u001b[0m\u001b[0;34m(\u001b[0m\u001b[0mval_x_aug\u001b[0m\u001b[0;34m,\u001b[0m \u001b[0mval_x\u001b[0m\u001b[0;34m)\u001b[0m\u001b[0;34m,\u001b[0m \u001b[0mcallbacks\u001b[0m\u001b[0;34m=\u001b[0m\u001b[0;34m[\u001b[0m\u001b[0mestop\u001b[0m\u001b[0;34m]\u001b[0m\u001b[0;34m)\u001b[0m\u001b[0;34m\u001b[0m\u001b[0;34m\u001b[0m\u001b[0m\n\u001b[0m",
            "\u001b[0;32m/usr/local/lib/python3.6/dist-packages/keras/engine/training.py\u001b[0m in \u001b[0;36mfit\u001b[0;34m(self, x, y, batch_size, epochs, verbose, callbacks, validation_split, validation_data, shuffle, class_weight, sample_weight, initial_epoch, steps_per_epoch, validation_steps, **kwargs)\u001b[0m\n\u001b[1;32m   1037\u001b[0m                                         \u001b[0minitial_epoch\u001b[0m\u001b[0;34m=\u001b[0m\u001b[0minitial_epoch\u001b[0m\u001b[0;34m,\u001b[0m\u001b[0;34m\u001b[0m\u001b[0;34m\u001b[0m\u001b[0m\n\u001b[1;32m   1038\u001b[0m                                         \u001b[0msteps_per_epoch\u001b[0m\u001b[0;34m=\u001b[0m\u001b[0msteps_per_epoch\u001b[0m\u001b[0;34m,\u001b[0m\u001b[0;34m\u001b[0m\u001b[0;34m\u001b[0m\u001b[0m\n\u001b[0;32m-> 1039\u001b[0;31m                                         validation_steps=validation_steps)\n\u001b[0m\u001b[1;32m   1040\u001b[0m \u001b[0;34m\u001b[0m\u001b[0m\n\u001b[1;32m   1041\u001b[0m     def evaluate(self, x=None, y=None,\n",
            "\u001b[0;32m/usr/local/lib/python3.6/dist-packages/keras/engine/training_arrays.py\u001b[0m in \u001b[0;36mfit_loop\u001b[0;34m(model, f, ins, out_labels, batch_size, epochs, verbose, callbacks, val_f, val_ins, shuffle, callback_metrics, initial_epoch, steps_per_epoch, validation_steps)\u001b[0m\n\u001b[1;32m    197\u001b[0m                     \u001b[0mins_batch\u001b[0m\u001b[0;34m[\u001b[0m\u001b[0mi\u001b[0m\u001b[0;34m]\u001b[0m \u001b[0;34m=\u001b[0m \u001b[0mins_batch\u001b[0m\u001b[0;34m[\u001b[0m\u001b[0mi\u001b[0m\u001b[0;34m]\u001b[0m\u001b[0;34m.\u001b[0m\u001b[0mtoarray\u001b[0m\u001b[0;34m(\u001b[0m\u001b[0;34m)\u001b[0m\u001b[0;34m\u001b[0m\u001b[0;34m\u001b[0m\u001b[0m\n\u001b[1;32m    198\u001b[0m \u001b[0;34m\u001b[0m\u001b[0m\n\u001b[0;32m--> 199\u001b[0;31m                 \u001b[0mouts\u001b[0m \u001b[0;34m=\u001b[0m \u001b[0mf\u001b[0m\u001b[0;34m(\u001b[0m\u001b[0mins_batch\u001b[0m\u001b[0;34m)\u001b[0m\u001b[0;34m\u001b[0m\u001b[0;34m\u001b[0m\u001b[0m\n\u001b[0m\u001b[1;32m    200\u001b[0m                 \u001b[0mouts\u001b[0m \u001b[0;34m=\u001b[0m \u001b[0mto_list\u001b[0m\u001b[0;34m(\u001b[0m\u001b[0mouts\u001b[0m\u001b[0;34m)\u001b[0m\u001b[0;34m\u001b[0m\u001b[0;34m\u001b[0m\u001b[0m\n\u001b[1;32m    201\u001b[0m                 \u001b[0;32mfor\u001b[0m \u001b[0ml\u001b[0m\u001b[0;34m,\u001b[0m \u001b[0mo\u001b[0m \u001b[0;32min\u001b[0m \u001b[0mzip\u001b[0m\u001b[0;34m(\u001b[0m\u001b[0mout_labels\u001b[0m\u001b[0;34m,\u001b[0m \u001b[0mouts\u001b[0m\u001b[0;34m)\u001b[0m\u001b[0;34m:\u001b[0m\u001b[0;34m\u001b[0m\u001b[0;34m\u001b[0m\u001b[0m\n",
            "\u001b[0;32m/usr/local/lib/python3.6/dist-packages/keras/backend/tensorflow_backend.py\u001b[0m in \u001b[0;36m__call__\u001b[0;34m(self, inputs)\u001b[0m\n\u001b[1;32m   2713\u001b[0m                 \u001b[0;32mreturn\u001b[0m \u001b[0mself\u001b[0m\u001b[0;34m.\u001b[0m\u001b[0m_legacy_call\u001b[0m\u001b[0;34m(\u001b[0m\u001b[0minputs\u001b[0m\u001b[0;34m)\u001b[0m\u001b[0;34m\u001b[0m\u001b[0;34m\u001b[0m\u001b[0m\n\u001b[1;32m   2714\u001b[0m \u001b[0;34m\u001b[0m\u001b[0m\n\u001b[0;32m-> 2715\u001b[0;31m             \u001b[0;32mreturn\u001b[0m \u001b[0mself\u001b[0m\u001b[0;34m.\u001b[0m\u001b[0m_call\u001b[0m\u001b[0;34m(\u001b[0m\u001b[0minputs\u001b[0m\u001b[0;34m)\u001b[0m\u001b[0;34m\u001b[0m\u001b[0;34m\u001b[0m\u001b[0m\n\u001b[0m\u001b[1;32m   2716\u001b[0m         \u001b[0;32melse\u001b[0m\u001b[0;34m:\u001b[0m\u001b[0;34m\u001b[0m\u001b[0;34m\u001b[0m\u001b[0m\n\u001b[1;32m   2717\u001b[0m             \u001b[0;32mif\u001b[0m \u001b[0mpy_any\u001b[0m\u001b[0;34m(\u001b[0m\u001b[0mis_tensor\u001b[0m\u001b[0;34m(\u001b[0m\u001b[0mx\u001b[0m\u001b[0;34m)\u001b[0m \u001b[0;32mfor\u001b[0m \u001b[0mx\u001b[0m \u001b[0;32min\u001b[0m \u001b[0minputs\u001b[0m\u001b[0;34m)\u001b[0m\u001b[0;34m:\u001b[0m\u001b[0;34m\u001b[0m\u001b[0;34m\u001b[0m\u001b[0m\n",
            "\u001b[0;32m/usr/local/lib/python3.6/dist-packages/keras/backend/tensorflow_backend.py\u001b[0m in \u001b[0;36m_call\u001b[0;34m(self, inputs)\u001b[0m\n\u001b[1;32m   2673\u001b[0m             \u001b[0mfetched\u001b[0m \u001b[0;34m=\u001b[0m \u001b[0mself\u001b[0m\u001b[0;34m.\u001b[0m\u001b[0m_callable_fn\u001b[0m\u001b[0;34m(\u001b[0m\u001b[0;34m*\u001b[0m\u001b[0marray_vals\u001b[0m\u001b[0;34m,\u001b[0m \u001b[0mrun_metadata\u001b[0m\u001b[0;34m=\u001b[0m\u001b[0mself\u001b[0m\u001b[0;34m.\u001b[0m\u001b[0mrun_metadata\u001b[0m\u001b[0;34m)\u001b[0m\u001b[0;34m\u001b[0m\u001b[0;34m\u001b[0m\u001b[0m\n\u001b[1;32m   2674\u001b[0m         \u001b[0;32melse\u001b[0m\u001b[0;34m:\u001b[0m\u001b[0;34m\u001b[0m\u001b[0;34m\u001b[0m\u001b[0m\n\u001b[0;32m-> 2675\u001b[0;31m             \u001b[0mfetched\u001b[0m \u001b[0;34m=\u001b[0m \u001b[0mself\u001b[0m\u001b[0;34m.\u001b[0m\u001b[0m_callable_fn\u001b[0m\u001b[0;34m(\u001b[0m\u001b[0;34m*\u001b[0m\u001b[0marray_vals\u001b[0m\u001b[0;34m)\u001b[0m\u001b[0;34m\u001b[0m\u001b[0;34m\u001b[0m\u001b[0m\n\u001b[0m\u001b[1;32m   2676\u001b[0m         \u001b[0;32mreturn\u001b[0m \u001b[0mfetched\u001b[0m\u001b[0;34m[\u001b[0m\u001b[0;34m:\u001b[0m\u001b[0mlen\u001b[0m\u001b[0;34m(\u001b[0m\u001b[0mself\u001b[0m\u001b[0;34m.\u001b[0m\u001b[0moutputs\u001b[0m\u001b[0;34m)\u001b[0m\u001b[0;34m]\u001b[0m\u001b[0;34m\u001b[0m\u001b[0;34m\u001b[0m\u001b[0m\n\u001b[1;32m   2677\u001b[0m \u001b[0;34m\u001b[0m\u001b[0m\n",
            "\u001b[0;32m/usr/local/lib/python3.6/dist-packages/tensorflow/python/client/session.py\u001b[0m in \u001b[0;36m__call__\u001b[0;34m(self, *args, **kwargs)\u001b[0m\n\u001b[1;32m   1437\u001b[0m           ret = tf_session.TF_SessionRunCallable(\n\u001b[1;32m   1438\u001b[0m               \u001b[0mself\u001b[0m\u001b[0;34m.\u001b[0m\u001b[0m_session\u001b[0m\u001b[0;34m.\u001b[0m\u001b[0m_session\u001b[0m\u001b[0;34m,\u001b[0m \u001b[0mself\u001b[0m\u001b[0;34m.\u001b[0m\u001b[0m_handle\u001b[0m\u001b[0;34m,\u001b[0m \u001b[0margs\u001b[0m\u001b[0;34m,\u001b[0m \u001b[0mstatus\u001b[0m\u001b[0;34m,\u001b[0m\u001b[0;34m\u001b[0m\u001b[0;34m\u001b[0m\u001b[0m\n\u001b[0;32m-> 1439\u001b[0;31m               run_metadata_ptr)\n\u001b[0m\u001b[1;32m   1440\u001b[0m         \u001b[0;32mif\u001b[0m \u001b[0mrun_metadata\u001b[0m\u001b[0;34m:\u001b[0m\u001b[0;34m\u001b[0m\u001b[0;34m\u001b[0m\u001b[0m\n\u001b[1;32m   1441\u001b[0m           \u001b[0mproto_data\u001b[0m \u001b[0;34m=\u001b[0m \u001b[0mtf_session\u001b[0m\u001b[0;34m.\u001b[0m\u001b[0mTF_GetBuffer\u001b[0m\u001b[0;34m(\u001b[0m\u001b[0mrun_metadata_ptr\u001b[0m\u001b[0;34m)\u001b[0m\u001b[0;34m\u001b[0m\u001b[0;34m\u001b[0m\u001b[0m\n",
            "\u001b[0;31mKeyboardInterrupt\u001b[0m: "
          ]
        }
      ]
    },
    {
      "cell_type": "code",
      "metadata": {
        "id": "Y90pRBdfAva3",
        "colab_type": "code",
        "colab": {}
      },
      "source": [
        "pred = autoencoder.predict(val_x)"
      ],
      "execution_count": 0,
      "outputs": []
    },
    {
      "cell_type": "code",
      "metadata": {
        "id": "b-cD4RwrAxyG",
        "colab_type": "code",
        "colab": {
          "base_uri": "https://localhost:8080/",
          "height": 286
        },
        "outputId": "6eddce07-fa0d-4f09-85cc-ea53b0b8dfd6"
      },
      "source": [
        "plt.imshow(val_x[0].reshape(28, 28), cmap='gray')"
      ],
      "execution_count": 48,
      "outputs": [
        {
          "output_type": "execute_result",
          "data": {
            "text/plain": [
              "<matplotlib.image.AxesImage at 0x7fb17022ff60>"
            ]
          },
          "metadata": {
            "tags": []
          },
          "execution_count": 48
        },
        {
          "output_type": "display_data",
          "data": {
            "image/png": "[encoded data removed]",
            "text/plain": [
              "<Figure size 432x288 with 1 Axes>"
            ]
          },
          "metadata": {
            "tags": []
          }
        }
      ]
    },
    {
      "cell_type": "code",
      "metadata": {
        "id": "au8JiORIA0Bc",
        "colab_type": "code",
        "colab": {
          "base_uri": "https://localhost:8080/",
          "height": 286
        },
        "outputId": "0ef46511-012d-4ba7-9e72-091803c728c5"
      },
      "source": [
        "plt.imshow(val_x_aug[0].reshape(28, 28), cmap='gray')"
      ],
      "execution_count": 49,
      "outputs": [
        {
          "output_type": "execute_result",
          "data": {
            "text/plain": [
              "<matplotlib.image.AxesImage at 0x7fb1702085c0>"
            ]
          },
          "metadata": {
            "tags": []
          },
          "execution_count": 49
        },
        {
          "output_type": "display_data",
          "data": {
            "image/png": "[encoded data removed]",
            "text/plain": [
              "<Figure size 432x288 with 1 Axes>"
            ]
          },
          "metadata": {
            "tags": []
          }
        }
      ]
    },
    {
      "cell_type": "code",
      "metadata": {
        "id": "Aqs0tv0IA57T",
        "colab_type": "code",
        "colab": {
          "base_uri": "https://localhost:8080/",
          "height": 286
        },
        "outputId": "543aa97a-695b-4d68-de17-6594aa40b0ab"
      },
      "source": [
        "plt.imshow(pred[0].reshape(28, 28), cmap='gray')\n"
      ],
      "execution_count": 50,
      "outputs": [
        {
          "output_type": "execute_result",
          "data": {
            "text/plain": [
              "<matplotlib.image.AxesImage at 0x7fb1701dcbe0>"
            ]
          },
          "metadata": {
            "tags": []
          },
          "execution_count": 50
        },
        {
          "output_type": "display_data",
          "data": {
            "image/png": "[encoded data removed]",
            "text/plain": [
              "<Figure size 432x288 with 1 Axes>"
            ]
          },
          "metadata": {
            "tags": []
          }
        }
      ]
    },
    {
      "cell_type": "code",
      "metadata": {
        "id": "CtQpwd-nA8D6",
        "colab_type": "code",
        "colab": {}
      },
      "source": [
        "from keras.datasets import fashion_mnist"
      ],
      "execution_count": 0,
      "outputs": []
    },
    {
      "cell_type": "code",
      "metadata": {
        "id": "0TekUNW8Bkts",
        "colab_type": "code",
        "colab": {
          "base_uri": "https://localhost:8080/",
          "height": 86
        },
        "outputId": "1ff7c93c-a48e-46c1-c3ba-5b502ff02365"
      },
      "source": [
        "%pylab inline\n",
        "import os\n",
        "import keras\n",
        "import numpy as np\n",
        "import pandas as pd\n",
        "import keras.backend as K\n",
        "\n",
        "from time import time\n",
        "from sklearn.cluster import KMeans\n",
        "from keras import callbacks\n",
        "from keras.models import Model, Sequential\n",
        "from keras.optimizers import SGD\n",
        "from keras.layers import Dense, Input, Lambda, Layer, Add, Multiply\n",
        "from keras.initializers import VarianceScaling\n",
        "from keras.engine.topology import Layer, InputSpec\n",
        "\n",
        "from scipy.misc import imread\n",
        "from sklearn.metrics import accuracy_score, normalized_mutual_info_score"
      ],
      "execution_count": 52,
      "outputs": [
        {
          "output_type": "stream",
          "text": [
            "Populating the interactive namespace from numpy and matplotlib\n"
          ],
          "name": "stdout"
        },
        {
          "output_type": "stream",
          "text": [
            "/usr/local/lib/python3.6/dist-packages/IPython/core/magics/pylab.py:161: UserWarning: pylab import has clobbered these variables: ['imread', 'time']\n",
            "`%matplotlib` prevents importing * from pylab and numpy\n",
            "  \"\\n`%matplotlib` prevents importing * from pylab and numpy\"\n"
          ],
          "name": "stderr"
        }
      ]
    },
    {
      "cell_type": "code",
      "metadata": {
        "id": "WejTydlSBmTk",
        "colab_type": "code",
        "colab": {}
      },
      "source": [
        "(train_x, train_y), (val_x, val_y) = fashion_mnist.load_data()"
      ],
      "execution_count": 0,
      "outputs": []
    },
    {
      "cell_type": "code",
      "metadata": {
        "id": "HuxHYVbLBoXb",
        "colab_type": "code",
        "colab": {}
      },
      "source": [
        "train_x = train_x/255.\n",
        "val_x = val_x/255.\n",
        "\n",
        "train_x = train_x.reshape(-1, 784)\n",
        "val_x = val_x.reshape(-1, 784)\n"
      ],
      "execution_count": 0,
      "outputs": []
    },
    {
      "cell_type": "code",
      "metadata": {
        "id": "NjjK6VPSBs-l",
        "colab_type": "code",
        "colab": {}
      },
      "source": [
        "# this is our input placeholder\n",
        "input_img = Input(shape=(784,))\n",
        "\n",
        "# \"encoded\" is the encoded representation of the input\n",
        "encoded = Dense(500, activation='relu')(input_img)\n",
        "\n",
        "z_mu = Dense(10)(encoded)\n",
        "z_log_sigma = Dense(10)(encoded)\n",
        "\n",
        "class KLDivergenceLayer(Layer):\n",
        "\n",
        "    \"\"\" Identity transform layer that adds KL divergence\n",
        "    to the final model loss.\n",
        "    \"\"\"\n",
        "\n",
        "    def __init__(self, *args, **kwargs):\n",
        "        self.is_placeholder = True\n",
        "        super(KLDivergenceLayer, self).__init__(*args, **kwargs)\n",
        "\n",
        "    def call(self, inputs):\n",
        "\n",
        "        mu, log_sigma = inputs\n",
        "\n",
        "        kl_batch = - .5 * K.sum(1 + log_sigma -\n",
        "                                K.square(mu) -\n",
        "                                K.exp(log_sigma), axis=-1)\n",
        "\n",
        "        self.add_loss(K.mean(kl_batch), inputs=inputs)\n",
        "\n",
        "        return inputs\n",
        "\n",
        "z_mu, z_log_sigma = KLDivergenceLayer()([z_mu, z_log_sigma])\n",
        "z_sigma = Lambda(lambda t: K.exp(.5*t))(z_log_sigma)\n",
        "\n",
        "eps = Input(tensor=K.random_normal(shape=(K.shape(input_img)[0],10)))\n",
        "z_eps = Multiply()([z_sigma, eps])\n",
        "z = Add()([z_mu, z_eps])\n",
        "\n",
        "decoder = Sequential([\n",
        "    Dense(500, input_dim=10, activation='relu'),\n",
        "    Dense(784, activation='sigmoid')\n",
        "])\n",
        "\n",
        "decoded = decoder(z)\n",
        "\n",
        "# this model maps an input to its reconstruction\n",
        "autoencoder = Model([input_img, eps], decoded)\n"
      ],
      "execution_count": 0,
      "outputs": []
    },
    {
      "cell_type": "code",
      "metadata": {
        "id": "01zRKyZzBthw",
        "colab_type": "code",
        "colab": {
          "base_uri": "https://localhost:8080/",
          "height": 538
        },
        "outputId": "9516baa3-53e0-4251-be8a-912cb006a625"
      },
      "source": [
        "autoencoder.summary()"
      ],
      "execution_count": 56,
      "outputs": [
        {
          "output_type": "stream",
          "text": [
            "__________________________________________________________________________________________________\n",
            "Layer (type)                    Output Shape         Param #     Connected to                     \n",
            "==================================================================================================\n",
            "input_6 (InputLayer)            (None, 784)          0                                            \n",
            "__________________________________________________________________________________________________\n",
            "dense_17 (Dense)                (None, 500)          392500      input_6[0][0]                    \n",
            "__________________________________________________________________________________________________\n",
            "dense_18 (Dense)                (None, 10)           5010        dense_17[0][0]                   \n",
            "__________________________________________________________________________________________________\n",
            "dense_19 (Dense)                (None, 10)           5010        dense_17[0][0]                   \n",
            "__________________________________________________________________________________________________\n",
            "kl_divergence_layer_1 (KLDiverg [(None, 10), (None,  0           dense_18[0][0]                   \n",
            "                                                                 dense_19[0][0]                   \n",
            "__________________________________________________________________________________________________\n",
            "lambda_1 (Lambda)               (None, 10)           0           kl_divergence_layer_1[0][1]      \n",
            "__________________________________________________________________________________________________\n",
            "input_7 (InputLayer)            (None, 10)           0                                            \n",
            "__________________________________________________________________________________________________\n",
            "multiply_1 (Multiply)           (None, 10)           0           lambda_1[0][0]                   \n",
            "                                                                 input_7[0][0]                    \n",
            "__________________________________________________________________________________________________\n",
            "add_1 (Add)                     (None, 10)           0           kl_divergence_layer_1[0][0]      \n",
            "                                                                 multiply_1[0][0]                 \n",
            "__________________________________________________________________________________________________\n",
            "sequential_1 (Sequential)       (None, 784)          398284      add_1[0][0]                      \n",
            "==================================================================================================\n",
            "Total params: 800,804\n",
            "Trainable params: 800,804\n",
            "Non-trainable params: 0\n",
            "__________________________________________________________________________________________________\n"
          ],
          "name": "stdout"
        }
      ]
    },
    {
      "cell_type": "code",
      "metadata": {
        "id": "HLE60UE6B6Yb",
        "colab_type": "code",
        "colab": {}
      },
      "source": [
        "def nll(y_true, y_pred):\n",
        "    \"\"\" Negative log likelihood (Bernoulli). \"\"\"\n",
        "\n",
        "    # keras.losses.binary_crossentropy gives the mean\n",
        "    # over the last axis. we require the sum\n",
        "    return K.sum(K.binary_crossentropy(y_true, y_pred), axis=-1)"
      ],
      "execution_count": 0,
      "outputs": []
    },
    {
      "cell_type": "code",
      "metadata": {
        "id": "2Urh3EirB-Vd",
        "colab_type": "code",
        "colab": {}
      },
      "source": [
        "autoencoder.compile(optimizer='adam', loss=nll)"
      ],
      "execution_count": 0,
      "outputs": []
    },
    {
      "cell_type": "code",
      "metadata": {
        "id": "lelBQuT5CAQV",
        "colab_type": "code",
        "colab": {}
      },
      "source": [
        "estop = keras.callbacks.EarlyStopping(monitor='val_loss', min_delta=0, patience=10, verbose=1, mode='auto')"
      ],
      "execution_count": 0,
      "outputs": []
    },
    {
      "cell_type": "code",
      "metadata": {
        "id": "q2WVc5QfCB2O",
        "colab_type": "code",
        "colab": {
          "base_uri": "https://localhost:8080/",
          "height": 10506
        },
        "outputId": "3a5f193a-21f1-4c49-bce7-f1832a931882"
      },
      "source": [
        "train_history = autoencoder.fit(train_x, train_x, epochs=500, batch_size=2048, validation_data=(val_x, val_x), callbacks=[estop])"
      ],
      "execution_count": 60,
      "outputs": [
        {
          "output_type": "stream",
          "text": [
            "Train on 60000 samples, validate on 10000 samples\n",
            "Epoch 1/500\n",
            "60000/60000 [==============================] - 2s 30us/step - loss: 421.2372 - val_loss: 337.7020\n",
            "Epoch 2/500\n",
            "60000/60000 [==============================] - 1s 19us/step - loss: 315.6732 - val_loss: 300.6069\n",
            "Epoch 3/500\n",
            "60000/60000 [==============================] - 1s 19us/step - loss: 290.2850 - val_loss: 286.3036\n",
            "Epoch 4/500\n",
            "60000/60000 [==============================] - 1s 19us/step - loss: 277.9142 - val_loss: 274.5575\n",
            "Epoch 5/500\n",
            "60000/60000 [==============================] - 1s 19us/step - loss: 270.4135 - val_loss: 269.5258\n",
            "Epoch 6/500\n",
            "60000/60000 [==============================] - 1s 19us/step - loss: 266.5358 - val_loss: 267.4094\n",
            "Epoch 7/500\n",
            "60000/60000 [==============================] - 1s 19us/step - loss: 263.6435 - val_loss: 263.8795\n",
            "Epoch 8/500\n",
            "60000/60000 [==============================] - 1s 19us/step - loss: 261.2386 - val_loss: 263.1069\n",
            "Epoch 9/500\n",
            "60000/60000 [==============================] - 1s 19us/step - loss: 259.4858 - val_loss: 259.8763\n",
            "Epoch 10/500\n",
            "60000/60000 [==============================] - 1s 19us/step - loss: 257.5148 - val_loss: 258.4774\n",
            "Epoch 11/500\n",
            "60000/60000 [==============================] - 1s 19us/step - loss: 256.3664 - val_loss: 257.1812\n",
            "Epoch 12/500\n",
            "60000/60000 [==============================] - 1s 19us/step - loss: 255.3493 - val_loss: 257.0117\n",
            "Epoch 13/500\n",
            "60000/60000 [==============================] - 1s 19us/step - loss: 254.6405 - val_loss: 256.5556\n",
            "Epoch 14/500\n",
            "60000/60000 [==============================] - 1s 19us/step - loss: 253.5532 - val_loss: 254.6773\n",
            "Epoch 15/500\n",
            "60000/60000 [==============================] - 1s 19us/step - loss: 252.6829 - val_loss: 254.1772\n",
            "Epoch 16/500\n",
            "60000/60000 [==============================] - 1s 19us/step - loss: 252.0632 - val_loss: 253.6385\n",
            "Epoch 17/500\n",
            "60000/60000 [==============================] - 1s 19us/step - loss: 251.4672 - val_loss: 252.8971\n",
            "Epoch 18/500\n",
            "60000/60000 [==============================] - 1s 19us/step - loss: 250.9522 - val_loss: 252.5341\n",
            "Epoch 19/500\n",
            "60000/60000 [==============================] - 1s 19us/step - loss: 250.5425 - val_loss: 252.0763\n",
            "Epoch 20/500\n",
            "60000/60000 [==============================] - 1s 19us/step - loss: 250.1087 - val_loss: 252.5021\n",
            "Epoch 21/500\n",
            "60000/60000 [==============================] - 1s 19us/step - loss: 249.8113 - val_loss: 251.1805\n",
            "Epoch 22/500\n",
            "60000/60000 [==============================] - 1s 19us/step - loss: 249.2892 - val_loss: 250.7667\n",
            "Epoch 23/500\n",
            "60000/60000 [==============================] - 1s 19us/step - loss: 249.0290 - val_loss: 250.5633\n",
            "Epoch 24/500\n",
            "60000/60000 [==============================] - 1s 19us/step - loss: 248.7059 - val_loss: 250.3530\n",
            "Epoch 25/500\n",
            "60000/60000 [==============================] - 1s 19us/step - loss: 248.3701 - val_loss: 250.0580\n",
            "Epoch 26/500\n",
            "60000/60000 [==============================] - 1s 19us/step - loss: 248.0694 - val_loss: 250.0262\n",
            "Epoch 27/500\n",
            "60000/60000 [==============================] - 1s 19us/step - loss: 247.9764 - val_loss: 249.5081\n",
            "Epoch 28/500\n",
            "60000/60000 [==============================] - 1s 19us/step - loss: 247.6184 - val_loss: 249.3096\n",
            "Epoch 29/500\n",
            "60000/60000 [==============================] - 1s 19us/step - loss: 247.3432 - val_loss: 248.8646\n",
            "Epoch 30/500\n",
            "60000/60000 [==============================] - 1s 19us/step - loss: 246.9997 - val_loss: 248.6744\n",
            "Epoch 31/500\n",
            "60000/60000 [==============================] - 1s 19us/step - loss: 247.0011 - val_loss: 248.5267\n",
            "Epoch 32/500\n",
            "60000/60000 [==============================] - 1s 19us/step - loss: 246.6828 - val_loss: 248.4646\n",
            "Epoch 33/500\n",
            "60000/60000 [==============================] - 1s 19us/step - loss: 246.5073 - val_loss: 248.0787\n",
            "Epoch 34/500\n",
            "60000/60000 [==============================] - 1s 19us/step - loss: 246.2687 - val_loss: 248.1217\n",
            "Epoch 35/500\n",
            "60000/60000 [==============================] - 1s 19us/step - loss: 246.4959 - val_loss: 247.7406\n",
            "Epoch 36/500\n",
            "60000/60000 [==============================] - 1s 19us/step - loss: 245.9101 - val_loss: 247.7740\n",
            "Epoch 37/500\n",
            "60000/60000 [==============================] - 1s 19us/step - loss: 245.9005 - val_loss: 247.5758\n",
            "Epoch 38/500\n",
            "60000/60000 [==============================] - 1s 19us/step - loss: 245.6523 - val_loss: 247.6769\n",
            "Epoch 39/500\n",
            "60000/60000 [==============================] - 1s 19us/step - loss: 245.6144 - val_loss: 248.0013\n",
            "Epoch 40/500\n",
            "60000/60000 [==============================] - 1s 19us/step - loss: 245.4853 - val_loss: 247.2558\n",
            "Epoch 41/500\n",
            "60000/60000 [==============================] - 1s 19us/step - loss: 245.3378 - val_loss: 247.5770\n",
            "Epoch 42/500\n",
            "60000/60000 [==============================] - 1s 19us/step - loss: 245.2028 - val_loss: 247.3237\n",
            "Epoch 43/500\n",
            "60000/60000 [==============================] - 1s 19us/step - loss: 244.9688 - val_loss: 246.7652\n",
            "Epoch 44/500\n",
            "60000/60000 [==============================] - 1s 19us/step - loss: 244.9585 - val_loss: 246.5510\n",
            "Epoch 45/500\n",
            "60000/60000 [==============================] - 1s 19us/step - loss: 244.8497 - val_loss: 247.4856\n",
            "Epoch 46/500\n",
            "60000/60000 [==============================] - 1s 19us/step - loss: 244.9611 - val_loss: 246.8101\n",
            "Epoch 47/500\n",
            "60000/60000 [==============================] - 1s 19us/step - loss: 244.6108 - val_loss: 246.2119\n",
            "Epoch 48/500\n",
            "60000/60000 [==============================] - 1s 19us/step - loss: 244.4818 - val_loss: 246.2780\n",
            "Epoch 49/500\n",
            "60000/60000 [==============================] - 1s 19us/step - loss: 244.4760 - val_loss: 246.0992\n",
            "Epoch 50/500\n",
            "60000/60000 [==============================] - 1s 19us/step - loss: 244.2778 - val_loss: 246.0313\n",
            "Epoch 51/500\n",
            "60000/60000 [==============================] - 1s 19us/step - loss: 244.1887 - val_loss: 246.2065\n",
            "Epoch 52/500\n",
            "60000/60000 [==============================] - 1s 19us/step - loss: 243.9989 - val_loss: 245.8006\n",
            "Epoch 53/500\n",
            "60000/60000 [==============================] - 1s 19us/step - loss: 243.9686 - val_loss: 245.9062\n",
            "Epoch 54/500\n",
            "60000/60000 [==============================] - 1s 19us/step - loss: 243.9700 - val_loss: 245.7401\n",
            "Epoch 55/500\n",
            "60000/60000 [==============================] - 1s 19us/step - loss: 243.7623 - val_loss: 245.9042\n",
            "Epoch 56/500\n",
            "60000/60000 [==============================] - 1s 19us/step - loss: 243.8505 - val_loss: 245.5534\n",
            "Epoch 57/500\n",
            "60000/60000 [==============================] - 1s 19us/step - loss: 243.5902 - val_loss: 245.3795\n",
            "Epoch 58/500\n",
            "60000/60000 [==============================] - 1s 19us/step - loss: 243.5508 - val_loss: 245.6130\n",
            "Epoch 59/500\n",
            "60000/60000 [==============================] - 1s 19us/step - loss: 243.5722 - val_loss: 245.3923\n",
            "Epoch 60/500\n",
            "60000/60000 [==============================] - 1s 19us/step - loss: 243.4481 - val_loss: 245.4502\n",
            "Epoch 61/500\n",
            "60000/60000 [==============================] - 1s 19us/step - loss: 243.3757 - val_loss: 245.2044\n",
            "Epoch 62/500\n",
            "60000/60000 [==============================] - 1s 19us/step - loss: 243.2943 - val_loss: 245.0139\n",
            "Epoch 63/500\n",
            "60000/60000 [==============================] - 1s 19us/step - loss: 243.2941 - val_loss: 245.1214\n",
            "Epoch 64/500\n",
            "60000/60000 [==============================] - 1s 19us/step - loss: 243.0380 - val_loss: 245.0001\n",
            "Epoch 65/500\n",
            "60000/60000 [==============================] - 1s 19us/step - loss: 243.0917 - val_loss: 244.9475\n",
            "Epoch 66/500\n",
            "60000/60000 [==============================] - 1s 19us/step - loss: 242.9591 - val_loss: 244.9229\n",
            "Epoch 67/500\n",
            "60000/60000 [==============================] - 1s 19us/step - loss: 243.1318 - val_loss: 245.1667\n",
            "Epoch 68/500\n",
            "60000/60000 [==============================] - 1s 19us/step - loss: 242.9600 - val_loss: 244.9436\n",
            "Epoch 69/500\n",
            "60000/60000 [==============================] - 1s 19us/step - loss: 242.8056 - val_loss: 244.8509\n",
            "Epoch 70/500\n",
            "60000/60000 [==============================] - 1s 19us/step - loss: 242.7236 - val_loss: 244.6734\n",
            "Epoch 71/500\n",
            "60000/60000 [==============================] - 1s 19us/step - loss: 242.6545 - val_loss: 244.7161\n",
            "Epoch 72/500\n",
            "60000/60000 [==============================] - 1s 19us/step - loss: 242.6492 - val_loss: 244.4236\n",
            "Epoch 73/500\n",
            "60000/60000 [==============================] - 1s 19us/step - loss: 242.6102 - val_loss: 244.4671\n",
            "Epoch 74/500\n",
            "60000/60000 [==============================] - 1s 19us/step - loss: 242.6785 - val_loss: 244.3576\n",
            "Epoch 75/500\n",
            "60000/60000 [==============================] - 1s 20us/step - loss: 242.3976 - val_loss: 244.2617\n",
            "Epoch 76/500\n",
            "60000/60000 [==============================] - 1s 20us/step - loss: 242.3708 - val_loss: 244.4613\n",
            "Epoch 77/500\n",
            "60000/60000 [==============================] - 1s 19us/step - loss: 242.4574 - val_loss: 244.2041\n",
            "Epoch 78/500\n",
            "60000/60000 [==============================] - 1s 19us/step - loss: 242.2223 - val_loss: 244.2779\n",
            "Epoch 79/500\n",
            "60000/60000 [==============================] - 1s 19us/step - loss: 242.3079 - val_loss: 244.1202\n",
            "Epoch 80/500\n",
            "60000/60000 [==============================] - 1s 19us/step - loss: 242.4418 - val_loss: 244.1188\n",
            "Epoch 81/500\n",
            "60000/60000 [==============================] - 1s 19us/step - loss: 242.0935 - val_loss: 243.9570\n",
            "Epoch 82/500\n",
            "60000/60000 [==============================] - 1s 19us/step - loss: 242.0287 - val_loss: 244.1228\n",
            "Epoch 83/500\n",
            "60000/60000 [==============================] - 1s 19us/step - loss: 242.0178 - val_loss: 243.9686\n",
            "Epoch 84/500\n",
            "60000/60000 [==============================] - 1s 19us/step - loss: 242.1136 - val_loss: 244.2045\n",
            "Epoch 85/500\n",
            "60000/60000 [==============================] - 1s 19us/step - loss: 242.0254 - val_loss: 244.0861\n",
            "Epoch 86/500\n",
            "60000/60000 [==============================] - 1s 19us/step - loss: 241.9499 - val_loss: 243.8387\n",
            "Epoch 87/500\n",
            "60000/60000 [==============================] - 1s 19us/step - loss: 241.8442 - val_loss: 243.8426\n",
            "Epoch 88/500\n",
            "60000/60000 [==============================] - 1s 19us/step - loss: 241.8771 - val_loss: 244.0703\n",
            "Epoch 89/500\n",
            "60000/60000 [==============================] - 1s 19us/step - loss: 241.7850 - val_loss: 243.7338\n",
            "Epoch 90/500\n",
            "60000/60000 [==============================] - 1s 19us/step - loss: 241.8276 - val_loss: 243.6645\n",
            "Epoch 91/500\n",
            "60000/60000 [==============================] - 1s 19us/step - loss: 241.6204 - val_loss: 243.6586\n",
            "Epoch 92/500\n",
            "60000/60000 [==============================] - 1s 19us/step - loss: 241.6061 - val_loss: 243.5588\n",
            "Epoch 93/500\n",
            "60000/60000 [==============================] - 1s 19us/step - loss: 241.6134 - val_loss: 243.6075\n",
            "Epoch 94/500\n",
            "60000/60000 [==============================] - 1s 19us/step - loss: 241.5558 - val_loss: 243.4826\n",
            "Epoch 95/500\n",
            "60000/60000 [==============================] - 1s 19us/step - loss: 241.5183 - val_loss: 243.7509\n",
            "Epoch 96/500\n",
            "60000/60000 [==============================] - 1s 19us/step - loss: 241.4384 - val_loss: 243.3291\n",
            "Epoch 97/500\n",
            "60000/60000 [==============================] - 1s 19us/step - loss: 241.3663 - val_loss: 243.3868\n",
            "Epoch 98/500\n",
            "60000/60000 [==============================] - 1s 19us/step - loss: 241.3167 - val_loss: 243.3301\n",
            "Epoch 99/500\n",
            "60000/60000 [==============================] - 1s 19us/step - loss: 241.3128 - val_loss: 243.3451\n",
            "Epoch 100/500\n",
            "60000/60000 [==============================] - 1s 19us/step - loss: 241.2346 - val_loss: 243.2314\n",
            "Epoch 101/500\n",
            "60000/60000 [==============================] - 1s 19us/step - loss: 241.3890 - val_loss: 243.6351\n",
            "Epoch 102/500\n",
            "60000/60000 [==============================] - 1s 19us/step - loss: 241.1826 - val_loss: 243.1565\n",
            "Epoch 103/500\n",
            "60000/60000 [==============================] - 1s 19us/step - loss: 241.1804 - val_loss: 243.2354\n",
            "Epoch 104/500\n",
            "60000/60000 [==============================] - 1s 19us/step - loss: 241.2022 - val_loss: 243.1738\n",
            "Epoch 105/500\n",
            "60000/60000 [==============================] - 1s 19us/step - loss: 241.1131 - val_loss: 243.1010\n",
            "Epoch 106/500\n",
            "60000/60000 [==============================] - 1s 19us/step - loss: 241.1083 - val_loss: 243.1931\n",
            "Epoch 107/500\n",
            "60000/60000 [==============================] - 1s 19us/step - loss: 241.0036 - val_loss: 243.0532\n",
            "Epoch 108/500\n",
            "60000/60000 [==============================] - 1s 19us/step - loss: 240.9751 - val_loss: 243.0176\n",
            "Epoch 109/500\n",
            "60000/60000 [==============================] - 1s 19us/step - loss: 240.9271 - val_loss: 242.9689\n",
            "Epoch 110/500\n",
            "60000/60000 [==============================] - 1s 19us/step - loss: 240.8701 - val_loss: 243.6054\n",
            "Epoch 111/500\n",
            "60000/60000 [==============================] - 1s 19us/step - loss: 241.1980 - val_loss: 242.9768\n",
            "Epoch 112/500\n",
            "60000/60000 [==============================] - 1s 19us/step - loss: 240.7831 - val_loss: 242.7397\n",
            "Epoch 113/500\n",
            "60000/60000 [==============================] - 1s 19us/step - loss: 240.9223 - val_loss: 242.8290\n",
            "Epoch 114/500\n",
            "60000/60000 [==============================] - 1s 19us/step - loss: 240.7422 - val_loss: 242.9722\n",
            "Epoch 115/500\n",
            "60000/60000 [==============================] - 1s 19us/step - loss: 240.6917 - val_loss: 242.6681\n",
            "Epoch 116/500\n",
            "60000/60000 [==============================] - 1s 19us/step - loss: 240.6950 - val_loss: 242.6842\n",
            "Epoch 117/500\n",
            "60000/60000 [==============================] - 1s 19us/step - loss: 240.7516 - val_loss: 242.9658\n",
            "Epoch 118/500\n",
            "60000/60000 [==============================] - 1s 19us/step - loss: 240.6439 - val_loss: 242.5854\n",
            "Epoch 119/500\n",
            "60000/60000 [==============================] - 1s 19us/step - loss: 240.5304 - val_loss: 242.5476\n",
            "Epoch 120/500\n",
            "60000/60000 [==============================] - 1s 19us/step - loss: 240.5222 - val_loss: 242.6711\n",
            "Epoch 121/500\n",
            "60000/60000 [==============================] - 1s 19us/step - loss: 240.7126 - val_loss: 242.5152\n",
            "Epoch 122/500\n",
            "60000/60000 [==============================] - 1s 19us/step - loss: 240.5041 - val_loss: 242.5909\n",
            "Epoch 123/500\n",
            "60000/60000 [==============================] - 1s 19us/step - loss: 240.4173 - val_loss: 242.5385\n",
            "Epoch 124/500\n",
            "60000/60000 [==============================] - 1s 19us/step - loss: 240.4629 - val_loss: 242.5155\n",
            "Epoch 125/500\n",
            "60000/60000 [==============================] - 1s 19us/step - loss: 240.4491 - val_loss: 242.4005\n",
            "Epoch 126/500\n",
            "60000/60000 [==============================] - 1s 19us/step - loss: 240.4122 - val_loss: 242.6291\n",
            "Epoch 127/500\n",
            "60000/60000 [==============================] - 1s 19us/step - loss: 240.4409 - val_loss: 242.3893\n",
            "Epoch 128/500\n",
            "60000/60000 [==============================] - 1s 19us/step - loss: 240.4198 - val_loss: 242.5319\n",
            "Epoch 129/500\n",
            "60000/60000 [==============================] - 1s 19us/step - loss: 240.2864 - val_loss: 242.3383\n",
            "Epoch 130/500\n",
            "60000/60000 [==============================] - 1s 19us/step - loss: 240.2476 - val_loss: 242.4243\n",
            "Epoch 131/500\n",
            "60000/60000 [==============================] - 1s 19us/step - loss: 240.2939 - val_loss: 242.2146\n",
            "Epoch 132/500\n",
            "60000/60000 [==============================] - 1s 19us/step - loss: 240.2897 - val_loss: 242.2155\n",
            "Epoch 133/500\n",
            "60000/60000 [==============================] - 1s 19us/step - loss: 240.2126 - val_loss: 242.2723\n",
            "Epoch 134/500\n",
            "60000/60000 [==============================] - 1s 19us/step - loss: 240.1287 - val_loss: 242.2302\n",
            "Epoch 135/500\n",
            "60000/60000 [==============================] - 1s 19us/step - loss: 240.1603 - val_loss: 242.2156\n",
            "Epoch 136/500\n",
            "60000/60000 [==============================] - 1s 19us/step - loss: 240.1141 - val_loss: 242.1819\n",
            "Epoch 137/500\n",
            "60000/60000 [==============================] - 1s 19us/step - loss: 240.1263 - val_loss: 242.3871\n",
            "Epoch 138/500\n",
            "60000/60000 [==============================] - 1s 19us/step - loss: 240.1203 - val_loss: 242.1203\n",
            "Epoch 139/500\n",
            "60000/60000 [==============================] - 1s 19us/step - loss: 239.9999 - val_loss: 242.0154\n",
            "Epoch 140/500\n",
            "60000/60000 [==============================] - 1s 20us/step - loss: 240.0093 - val_loss: 242.1405\n",
            "Epoch 141/500\n",
            "60000/60000 [==============================] - 1s 19us/step - loss: 240.0265 - val_loss: 243.0806\n",
            "Epoch 142/500\n",
            "60000/60000 [==============================] - 1s 19us/step - loss: 240.0998 - val_loss: 242.0231\n",
            "Epoch 143/500\n",
            "60000/60000 [==============================] - 1s 19us/step - loss: 239.9054 - val_loss: 241.9961\n",
            "Epoch 144/500\n",
            "60000/60000 [==============================] - 1s 20us/step - loss: 239.9499 - val_loss: 242.0015\n",
            "Epoch 145/500\n",
            "60000/60000 [==============================] - 1s 19us/step - loss: 239.9187 - val_loss: 242.0921\n",
            "Epoch 146/500\n",
            "60000/60000 [==============================] - 1s 19us/step - loss: 239.8573 - val_loss: 241.9253\n",
            "Epoch 147/500\n",
            "60000/60000 [==============================] - 1s 19us/step - loss: 239.7759 - val_loss: 241.8148\n",
            "Epoch 148/500\n",
            "60000/60000 [==============================] - 1s 19us/step - loss: 239.7806 - val_loss: 242.4705\n",
            "Epoch 149/500\n",
            "60000/60000 [==============================] - 1s 19us/step - loss: 239.9317 - val_loss: 241.9162\n",
            "Epoch 150/500\n",
            "60000/60000 [==============================] - 1s 19us/step - loss: 239.7583 - val_loss: 241.8712\n",
            "Epoch 151/500\n",
            "60000/60000 [==============================] - 1s 19us/step - loss: 239.8143 - val_loss: 241.8516\n",
            "Epoch 152/500\n",
            "60000/60000 [==============================] - 1s 19us/step - loss: 239.7651 - val_loss: 242.0187\n",
            "Epoch 153/500\n",
            "60000/60000 [==============================] - 1s 19us/step - loss: 239.6879 - val_loss: 241.7988\n",
            "Epoch 154/500\n",
            "60000/60000 [==============================] - 1s 19us/step - loss: 239.6746 - val_loss: 242.0038\n",
            "Epoch 155/500\n",
            "60000/60000 [==============================] - 1s 19us/step - loss: 239.7589 - val_loss: 241.8342\n",
            "Epoch 156/500\n",
            "60000/60000 [==============================] - 1s 19us/step - loss: 239.6104 - val_loss: 241.8605\n",
            "Epoch 157/500\n",
            "60000/60000 [==============================] - 1s 19us/step - loss: 239.5745 - val_loss: 241.6861\n",
            "Epoch 158/500\n",
            "60000/60000 [==============================] - 1s 19us/step - loss: 239.6384 - val_loss: 241.6774\n",
            "Epoch 159/500\n",
            "60000/60000 [==============================] - 1s 19us/step - loss: 239.5480 - val_loss: 241.8603\n",
            "Epoch 160/500\n",
            "60000/60000 [==============================] - 1s 19us/step - loss: 239.5372 - val_loss: 241.5535\n",
            "Epoch 161/500\n",
            "60000/60000 [==============================] - 1s 19us/step - loss: 239.5065 - val_loss: 243.1293\n",
            "Epoch 162/500\n",
            "60000/60000 [==============================] - 1s 19us/step - loss: 239.9311 - val_loss: 241.7065\n",
            "Epoch 163/500\n",
            "60000/60000 [==============================] - 1s 19us/step - loss: 239.5515 - val_loss: 241.7390\n",
            "Epoch 164/500\n",
            "60000/60000 [==============================] - 1s 19us/step - loss: 239.4346 - val_loss: 241.5670\n",
            "Epoch 165/500\n",
            "60000/60000 [==============================] - 1s 19us/step - loss: 239.4362 - val_loss: 241.6001\n",
            "Epoch 166/500\n",
            "60000/60000 [==============================] - 1s 19us/step - loss: 239.3901 - val_loss: 241.8373\n",
            "Epoch 167/500\n",
            "60000/60000 [==============================] - 1s 19us/step - loss: 239.3984 - val_loss: 241.5082\n",
            "Epoch 168/500\n",
            "60000/60000 [==============================] - 1s 19us/step - loss: 239.3616 - val_loss: 241.5396\n",
            "Epoch 169/500\n",
            "60000/60000 [==============================] - 1s 19us/step - loss: 239.6314 - val_loss: 241.9598\n",
            "Epoch 170/500\n",
            "60000/60000 [==============================] - 1s 19us/step - loss: 239.4707 - val_loss: 241.5136\n",
            "Epoch 171/500\n",
            "60000/60000 [==============================] - 1s 19us/step - loss: 239.3127 - val_loss: 241.5223\n",
            "Epoch 172/500\n",
            "60000/60000 [==============================] - 1s 19us/step - loss: 239.2787 - val_loss: 241.4696\n",
            "Epoch 173/500\n",
            "60000/60000 [==============================] - 1s 19us/step - loss: 239.2690 - val_loss: 241.5771\n",
            "Epoch 174/500\n",
            "60000/60000 [==============================] - 1s 19us/step - loss: 239.2489 - val_loss: 241.4369\n",
            "Epoch 175/500\n",
            "60000/60000 [==============================] - 1s 19us/step - loss: 239.3275 - val_loss: 241.4462\n",
            "Epoch 176/500\n",
            "60000/60000 [==============================] - 1s 19us/step - loss: 239.2428 - val_loss: 241.4853\n",
            "Epoch 177/500\n",
            "60000/60000 [==============================] - 1s 19us/step - loss: 239.2034 - val_loss: 241.5414\n",
            "Epoch 178/500\n",
            "60000/60000 [==============================] - 1s 19us/step - loss: 239.2731 - val_loss: 241.3513\n",
            "Epoch 179/500\n",
            "60000/60000 [==============================] - 1s 19us/step - loss: 239.2290 - val_loss: 241.4163\n",
            "Epoch 180/500\n",
            "60000/60000 [==============================] - 1s 19us/step - loss: 239.1767 - val_loss: 241.2679\n",
            "Epoch 181/500\n",
            "60000/60000 [==============================] - 1s 19us/step - loss: 239.1131 - val_loss: 241.5472\n",
            "Epoch 182/500\n",
            "60000/60000 [==============================] - 1s 19us/step - loss: 239.2067 - val_loss: 241.4009\n",
            "Epoch 183/500\n",
            "60000/60000 [==============================] - 1s 19us/step - loss: 239.1471 - val_loss: 241.5091\n",
            "Epoch 184/500\n",
            "60000/60000 [==============================] - 1s 19us/step - loss: 239.1964 - val_loss: 241.2745\n",
            "Epoch 185/500\n",
            "60000/60000 [==============================] - 1s 19us/step - loss: 239.0112 - val_loss: 241.2907\n",
            "Epoch 186/500\n",
            "60000/60000 [==============================] - 1s 19us/step - loss: 239.0303 - val_loss: 241.3806\n",
            "Epoch 187/500\n",
            "60000/60000 [==============================] - 1s 19us/step - loss: 239.1573 - val_loss: 241.2389\n",
            "Epoch 188/500\n",
            "60000/60000 [==============================] - 1s 19us/step - loss: 238.9967 - val_loss: 241.1922\n",
            "Epoch 189/500\n",
            "60000/60000 [==============================] - 1s 19us/step - loss: 239.0357 - val_loss: 241.2354\n",
            "Epoch 190/500\n",
            "60000/60000 [==============================] - 1s 19us/step - loss: 239.0272 - val_loss: 241.2978\n",
            "Epoch 191/500\n",
            "60000/60000 [==============================] - 1s 19us/step - loss: 239.0212 - val_loss: 241.2503\n",
            "Epoch 192/500\n",
            "60000/60000 [==============================] - 1s 19us/step - loss: 239.0459 - val_loss: 241.2102\n",
            "Epoch 193/500\n",
            "60000/60000 [==============================] - 1s 19us/step - loss: 238.9260 - val_loss: 241.2436\n",
            "Epoch 194/500\n",
            "60000/60000 [==============================] - 1s 19us/step - loss: 238.9440 - val_loss: 241.2610\n",
            "Epoch 195/500\n",
            "60000/60000 [==============================] - 1s 19us/step - loss: 238.9541 - val_loss: 241.1391\n",
            "Epoch 196/500\n",
            "60000/60000 [==============================] - 1s 19us/step - loss: 238.8783 - val_loss: 241.1590\n",
            "Epoch 197/500\n",
            "60000/60000 [==============================] - 1s 19us/step - loss: 238.9108 - val_loss: 241.0563\n",
            "Epoch 198/500\n",
            "60000/60000 [==============================] - 1s 19us/step - loss: 238.8709 - val_loss: 241.1677\n",
            "Epoch 199/500\n",
            "60000/60000 [==============================] - 1s 19us/step - loss: 238.8838 - val_loss: 241.1398\n",
            "Epoch 200/500\n",
            "60000/60000 [==============================] - 1s 19us/step - loss: 238.8526 - val_loss: 241.1280\n",
            "Epoch 201/500\n",
            "60000/60000 [==============================] - 1s 19us/step - loss: 238.9053 - val_loss: 241.2297\n",
            "Epoch 202/500\n",
            "60000/60000 [==============================] - 1s 19us/step - loss: 238.8594 - val_loss: 241.2353\n",
            "Epoch 203/500\n",
            "60000/60000 [==============================] - 1s 19us/step - loss: 238.8629 - val_loss: 241.0113\n",
            "Epoch 204/500\n",
            "60000/60000 [==============================] - 1s 19us/step - loss: 238.8197 - val_loss: 241.0371\n",
            "Epoch 205/500\n",
            "60000/60000 [==============================] - 1s 19us/step - loss: 238.7373 - val_loss: 241.2559\n",
            "Epoch 206/500\n",
            "60000/60000 [==============================] - 1s 19us/step - loss: 238.7883 - val_loss: 241.0767\n",
            "Epoch 207/500\n",
            "60000/60000 [==============================] - 1s 19us/step - loss: 238.7233 - val_loss: 241.0957\n",
            "Epoch 208/500\n",
            "60000/60000 [==============================] - 1s 19us/step - loss: 238.8289 - val_loss: 241.0781\n",
            "Epoch 209/500\n",
            "60000/60000 [==============================] - 1s 19us/step - loss: 238.7200 - val_loss: 241.2341\n",
            "Epoch 210/500\n",
            "60000/60000 [==============================] - 1s 19us/step - loss: 238.6893 - val_loss: 240.9608\n",
            "Epoch 211/500\n",
            "60000/60000 [==============================] - 1s 20us/step - loss: 238.6836 - val_loss: 240.8678\n",
            "Epoch 212/500\n",
            "60000/60000 [==============================] - 1s 20us/step - loss: 238.6673 - val_loss: 241.1259\n",
            "Epoch 213/500\n",
            "60000/60000 [==============================] - 1s 20us/step - loss: 238.6946 - val_loss: 241.0624\n",
            "Epoch 214/500\n",
            "60000/60000 [==============================] - 1s 20us/step - loss: 238.8333 - val_loss: 240.9774\n",
            "Epoch 215/500\n",
            "60000/60000 [==============================] - 1s 20us/step - loss: 238.7097 - val_loss: 240.9437\n",
            "Epoch 216/500\n",
            "60000/60000 [==============================] - 1s 20us/step - loss: 238.5665 - val_loss: 240.8975\n",
            "Epoch 217/500\n",
            "60000/60000 [==============================] - 1s 20us/step - loss: 238.7721 - val_loss: 241.0072\n",
            "Epoch 218/500\n",
            "60000/60000 [==============================] - 1s 20us/step - loss: 238.5427 - val_loss: 240.8786\n",
            "Epoch 219/500\n",
            "60000/60000 [==============================] - 1s 19us/step - loss: 238.6405 - val_loss: 240.8599\n",
            "Epoch 220/500\n",
            "60000/60000 [==============================] - 1s 19us/step - loss: 238.5215 - val_loss: 240.8128\n",
            "Epoch 221/500\n",
            "60000/60000 [==============================] - 1s 19us/step - loss: 238.5390 - val_loss: 240.8832\n",
            "Epoch 222/500\n",
            "60000/60000 [==============================] - 1s 20us/step - loss: 238.6777 - val_loss: 240.7761\n",
            "Epoch 223/500\n",
            "60000/60000 [==============================] - 1s 20us/step - loss: 238.5412 - val_loss: 240.8641\n",
            "Epoch 224/500\n",
            "60000/60000 [==============================] - 1s 20us/step - loss: 238.5353 - val_loss: 240.8665\n",
            "Epoch 225/500\n",
            "60000/60000 [==============================] - 1s 20us/step - loss: 238.5371 - val_loss: 240.9882\n",
            "Epoch 226/500\n",
            "60000/60000 [==============================] - 1s 20us/step - loss: 238.5905 - val_loss: 240.9247\n",
            "Epoch 227/500\n",
            "60000/60000 [==============================] - 1s 20us/step - loss: 238.5365 - val_loss: 240.7104\n",
            "Epoch 228/500\n",
            "60000/60000 [==============================] - 1s 20us/step - loss: 238.5105 - val_loss: 240.7102\n",
            "Epoch 229/500\n",
            "60000/60000 [==============================] - 1s 20us/step - loss: 238.4327 - val_loss: 240.8283\n",
            "Epoch 230/500\n",
            "60000/60000 [==============================] - 1s 19us/step - loss: 238.5513 - val_loss: 240.9811\n",
            "Epoch 231/500\n",
            "60000/60000 [==============================] - 1s 19us/step - loss: 238.5955 - val_loss: 240.6637\n",
            "Epoch 232/500\n",
            "60000/60000 [==============================] - 1s 19us/step - loss: 238.4011 - val_loss: 240.7953\n",
            "Epoch 233/500\n",
            "60000/60000 [==============================] - 1s 19us/step - loss: 238.4988 - val_loss: 240.8174\n",
            "Epoch 234/500\n",
            "60000/60000 [==============================] - 1s 19us/step - loss: 238.4309 - val_loss: 240.7688\n",
            "Epoch 235/500\n",
            "60000/60000 [==============================] - 1s 19us/step - loss: 238.3977 - val_loss: 240.8712\n",
            "Epoch 236/500\n",
            "60000/60000 [==============================] - 1s 19us/step - loss: 238.4066 - val_loss: 240.7082\n",
            "Epoch 237/500\n",
            "60000/60000 [==============================] - 1s 19us/step - loss: 238.3262 - val_loss: 240.6433\n",
            "Epoch 238/500\n",
            "60000/60000 [==============================] - 1s 19us/step - loss: 238.3834 - val_loss: 240.7379\n",
            "Epoch 239/500\n",
            "60000/60000 [==============================] - 1s 19us/step - loss: 238.3813 - val_loss: 240.6848\n",
            "Epoch 240/500\n",
            "60000/60000 [==============================] - 1s 19us/step - loss: 238.3322 - val_loss: 240.6725\n",
            "Epoch 241/500\n",
            "60000/60000 [==============================] - 1s 19us/step - loss: 238.3034 - val_loss: 240.9577\n",
            "Epoch 242/500\n",
            "60000/60000 [==============================] - 1s 19us/step - loss: 238.3453 - val_loss: 240.6969\n",
            "Epoch 243/500\n",
            "60000/60000 [==============================] - 1s 19us/step - loss: 238.3227 - val_loss: 240.6213\n",
            "Epoch 244/500\n",
            "60000/60000 [==============================] - 1s 19us/step - loss: 238.2726 - val_loss: 240.6418\n",
            "Epoch 245/500\n",
            "60000/60000 [==============================] - 1s 19us/step - loss: 238.2746 - val_loss: 240.5576\n",
            "Epoch 246/500\n",
            "60000/60000 [==============================] - 1s 19us/step - loss: 238.2917 - val_loss: 241.0701\n",
            "Epoch 247/500\n",
            "60000/60000 [==============================] - 1s 19us/step - loss: 238.4275 - val_loss: 240.7425\n",
            "Epoch 248/500\n",
            "60000/60000 [==============================] - 1s 19us/step - loss: 238.2448 - val_loss: 240.5865\n",
            "Epoch 249/500\n",
            "60000/60000 [==============================] - 1s 19us/step - loss: 238.2635 - val_loss: 240.6894\n",
            "Epoch 250/500\n",
            "60000/60000 [==============================] - 1s 19us/step - loss: 238.2677 - val_loss: 240.6424\n",
            "Epoch 251/500\n",
            "60000/60000 [==============================] - 1s 19us/step - loss: 238.2812 - val_loss: 240.6265\n",
            "Epoch 252/500\n",
            "60000/60000 [==============================] - 1s 20us/step - loss: 238.1906 - val_loss: 240.5894\n",
            "Epoch 253/500\n",
            "60000/60000 [==============================] - 1s 20us/step - loss: 238.2041 - val_loss: 240.5378\n",
            "Epoch 254/500\n",
            "60000/60000 [==============================] - 1s 19us/step - loss: 238.2642 - val_loss: 240.7724\n",
            "Epoch 255/500\n",
            "60000/60000 [==============================] - 1s 19us/step - loss: 238.2213 - val_loss: 240.4973\n",
            "Epoch 256/500\n",
            "60000/60000 [==============================] - 1s 19us/step - loss: 238.2100 - val_loss: 240.5589\n",
            "Epoch 257/500\n",
            "60000/60000 [==============================] - 1s 19us/step - loss: 238.1198 - val_loss: 240.8183\n",
            "Epoch 258/500\n",
            "60000/60000 [==============================] - 1s 19us/step - loss: 238.1544 - val_loss: 240.5108\n",
            "Epoch 259/500\n",
            "60000/60000 [==============================] - 1s 19us/step - loss: 238.2131 - val_loss: 240.5794\n",
            "Epoch 260/500\n",
            "60000/60000 [==============================] - 1s 19us/step - loss: 238.1097 - val_loss: 240.5224\n",
            "Epoch 261/500\n",
            "60000/60000 [==============================] - 1s 19us/step - loss: 238.1606 - val_loss: 240.5745\n",
            "Epoch 262/500\n",
            "60000/60000 [==============================] - 1s 19us/step - loss: 238.2292 - val_loss: 240.5892\n",
            "Epoch 263/500\n",
            "60000/60000 [==============================] - 1s 19us/step - loss: 238.1234 - val_loss: 240.5162\n",
            "Epoch 264/500\n",
            "60000/60000 [==============================] - 1s 19us/step - loss: 238.1033 - val_loss: 240.5377\n",
            "Epoch 265/500\n",
            "60000/60000 [==============================] - 1s 19us/step - loss: 238.1620 - val_loss: 240.4345\n",
            "Epoch 266/500\n",
            "60000/60000 [==============================] - 1s 19us/step - loss: 238.0788 - val_loss: 240.7163\n",
            "Epoch 267/500\n",
            "60000/60000 [==============================] - 1s 19us/step - loss: 238.1272 - val_loss: 240.3987\n",
            "Epoch 268/500\n",
            "60000/60000 [==============================] - 1s 19us/step - loss: 238.1368 - val_loss: 240.5468\n",
            "Epoch 269/500\n",
            "60000/60000 [==============================] - 1s 19us/step - loss: 238.0491 - val_loss: 240.8041\n",
            "Epoch 270/500\n",
            "60000/60000 [==============================] - 1s 19us/step - loss: 238.0952 - val_loss: 240.5857\n",
            "Epoch 271/500\n",
            "60000/60000 [==============================] - 1s 19us/step - loss: 238.0196 - val_loss: 240.4668\n",
            "Epoch 272/500\n",
            "60000/60000 [==============================] - 1s 19us/step - loss: 238.0533 - val_loss: 240.4700\n",
            "Epoch 273/500\n",
            "60000/60000 [==============================] - 1s 19us/step - loss: 238.0504 - val_loss: 240.4226\n",
            "Epoch 274/500\n",
            "60000/60000 [==============================] - 1s 19us/step - loss: 237.9751 - val_loss: 240.3594\n",
            "Epoch 275/500\n",
            "60000/60000 [==============================] - 1s 19us/step - loss: 237.9386 - val_loss: 240.3772\n",
            "Epoch 276/500\n",
            "60000/60000 [==============================] - 1s 19us/step - loss: 237.9678 - val_loss: 240.4017\n",
            "Epoch 277/500\n",
            "60000/60000 [==============================] - 1s 19us/step - loss: 237.9981 - val_loss: 240.4542\n",
            "Epoch 278/500\n",
            "60000/60000 [==============================] - 1s 19us/step - loss: 238.0260 - val_loss: 240.3651\n",
            "Epoch 279/500\n",
            "60000/60000 [==============================] - 1s 19us/step - loss: 237.9629 - val_loss: 240.5648\n",
            "Epoch 280/500\n",
            "60000/60000 [==============================] - 1s 20us/step - loss: 238.0379 - val_loss: 240.5926\n",
            "Epoch 281/500\n",
            "60000/60000 [==============================] - 1s 20us/step - loss: 238.0039 - val_loss: 240.4087\n",
            "Epoch 282/500\n",
            "60000/60000 [==============================] - 1s 20us/step - loss: 238.0130 - val_loss: 240.4805\n",
            "Epoch 283/500\n",
            "60000/60000 [==============================] - 1s 20us/step - loss: 237.9820 - val_loss: 240.3232\n",
            "Epoch 284/500\n",
            "60000/60000 [==============================] - 1s 20us/step - loss: 237.9374 - val_loss: 240.5372\n",
            "Epoch 285/500\n",
            "60000/60000 [==============================] - 1s 19us/step - loss: 237.9690 - val_loss: 240.3948\n",
            "Epoch 286/500\n",
            "60000/60000 [==============================] - 1s 19us/step - loss: 237.8814 - val_loss: 240.2111\n",
            "Epoch 287/500\n",
            "60000/60000 [==============================] - 1s 20us/step - loss: 237.9718 - val_loss: 240.4336\n",
            "Epoch 288/500\n",
            "60000/60000 [==============================] - 1s 19us/step - loss: 237.8812 - val_loss: 240.2431\n",
            "Epoch 289/500\n",
            "60000/60000 [==============================] - 1s 19us/step - loss: 237.8366 - val_loss: 240.3546\n",
            "Epoch 290/500\n",
            "60000/60000 [==============================] - 1s 19us/step - loss: 237.9157 - val_loss: 240.2457\n",
            "Epoch 291/500\n",
            "60000/60000 [==============================] - 1s 19us/step - loss: 237.8925 - val_loss: 240.1695\n",
            "Epoch 292/500\n",
            "60000/60000 [==============================] - 1s 19us/step - loss: 237.8421 - val_loss: 240.3227\n",
            "Epoch 293/500\n",
            "60000/60000 [==============================] - 1s 19us/step - loss: 237.9450 - val_loss: 240.2773\n",
            "Epoch 294/500\n",
            "60000/60000 [==============================] - 1s 19us/step - loss: 237.8422 - val_loss: 240.4201\n",
            "Epoch 295/500\n",
            "60000/60000 [==============================] - 1s 19us/step - loss: 237.8907 - val_loss: 240.3907\n",
            "Epoch 296/500\n",
            "60000/60000 [==============================] - 1s 19us/step - loss: 237.8017 - val_loss: 240.3934\n",
            "Epoch 297/500\n",
            "60000/60000 [==============================] - 1s 19us/step - loss: 237.8625 - val_loss: 240.2079\n",
            "Epoch 298/500\n",
            "60000/60000 [==============================] - 1s 19us/step - loss: 237.7831 - val_loss: 240.3451\n",
            "Epoch 299/500\n",
            "60000/60000 [==============================] - 1s 19us/step - loss: 237.8130 - val_loss: 240.4108\n",
            "Epoch 300/500\n",
            "60000/60000 [==============================] - 1s 19us/step - loss: 237.8577 - val_loss: 240.2135\n",
            "Epoch 301/500\n",
            "60000/60000 [==============================] - 1s 19us/step - loss: 237.7931 - val_loss: 240.2302\n",
            "Epoch 00301: early stopping\n"
          ],
          "name": "stdout"
        }
      ]
    },
    {
      "cell_type": "code",
      "metadata": {
        "id": "srNtGBs6CEas",
        "colab_type": "code",
        "colab": {}
      },
      "source": [
        "pred = autoencoder.predict(val_x)"
      ],
      "execution_count": 0,
      "outputs": []
    },
    {
      "cell_type": "code",
      "metadata": {
        "id": "By0yeIqUCGH_",
        "colab_type": "code",
        "colab": {
          "base_uri": "https://localhost:8080/",
          "height": 286
        },
        "outputId": "c71352d5-a83a-40b4-8cc3-e181a9cf8976"
      },
      "source": [
        "plt.imshow(pred[0].reshape(28, 28), cmap='gray')"
      ],
      "execution_count": 66,
      "outputs": [
        {
          "output_type": "execute_result",
          "data": {
            "text/plain": [
              "<matplotlib.image.AxesImage at 0x7fb16f9d50f0>"
            ]
          },
          "metadata": {
            "tags": []
          },
          "execution_count": 66
        },
        {
          "output_type": "display_data",
          "data": {
            "image/png": "[encoded data removed]",
            "text/plain": [
              "<Figure size 432x288 with 1 Axes>"
            ]
          },
          "metadata": {
            "tags": []
          }
        }
      ]
    },
    {
      "cell_type": "code",
      "metadata": {
        "id": "D4XZVPMQCHx1",
        "colab_type": "code",
        "colab": {
          "base_uri": "https://localhost:8080/",
          "height": 286
        },
        "outputId": "922544c0-4a0a-4ae2-cec9-13abd7c480d5"
      },
      "source": [
        "plt.imshow(val_x[0].reshape(28, 28), cmap='gray')"
      ],
      "execution_count": 67,
      "outputs": [
        {
          "output_type": "execute_result",
          "data": {
            "text/plain": [
              "<matplotlib.image.AxesImage at 0x7fb16f926d30>"
            ]
          },
          "metadata": {
            "tags": []
          },
          "execution_count": 67
        },
        {
          "output_type": "display_data",
          "data": {
            "image/png": "[encoded data removed]",
            "text/plain": [
              "<Figure size 432x288 with 1 Axes>"
            ]
          },
          "metadata": {
            "tags": []
          }
        }
      ]
    },
    {
      "cell_type": "code",
      "metadata": {
        "id": "yMtjgqPjCJcw",
        "colab_type": "code",
        "colab": {
          "base_uri": "https://localhost:8080/",
          "height": 312
        },
        "outputId": "076f6d11-5274-475a-e912-01d9a8cf76e2"
      },
      "source": [
        "import matplotlib.pyplot as plt\n",
        "print(train_history.history.keys())\n",
        "# summarize history for accuracy\n",
        "#plt.plot(train_history.history['acc'])\n",
        "#plt.plot(train_history.history['val_acc'])\n",
        "#plt.title('model accuracy')\n",
        "#plt.ylabel('accuracy')\n",
        "#plt.xlabel('epoch')\n",
        "#plt.legend(['train', 'test'], loc='upper left')\n",
        "#plt.show()\n",
        "# summarize history for loss\n",
        "plt.plot(train_history.history['loss'])\n",
        "plt.plot(train_history.history['val_loss'])\n",
        "plt.title('model loss')\n",
        "plt.ylabel('loss')\n",
        "plt.xlabel('epoch')\n",
        "plt.legend(['train', 'test'], loc='upper left')\n",
        "plt.show()\n",
        "#resnet , vgg-16"
      ],
      "execution_count": 71,
      "outputs": [
        {
          "output_type": "stream",
          "text": [
            "dict_keys(['val_loss', 'loss'])\n"
          ],
          "name": "stdout"
        },
        {
          "output_type": "display_data",
          "data": {
            "image/png": "[encoded data removed]",
            "text/plain": [
              "<Figure size 432x288 with 1 Axes>"
            ]
          },
          "metadata": {
            "tags": []
          }
        }
      ]
    },
    {
      "cell_type": "code",
      "metadata": {
        "id": "_M9sSCffCVV4",
        "colab_type": "code",
        "colab": {}
      },
      "source": [
        ""
      ],
      "execution_count": 0,
      "outputs": []
    }
  ]
}