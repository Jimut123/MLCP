{
 "cells": [
  {
   "cell_type": "code",
   "execution_count": 10,
   "metadata": {},
   "outputs": [
    {
     "name": "stdout",
     "output_type": "stream",
     "text": [
      "WARNING:tensorflow:From /usr/lib/python3.7/site-packages/tensorflow/python/framework/op_def_library.py:263: colocate_with (from tensorflow.python.framework.ops) is deprecated and will be removed in a future version.\n",
      "Instructions for updating:\n",
      "Colocations handled automatically by placer.\n",
      "WARNING:tensorflow:From /usr/lib/python3.7/site-packages/keras/backend/tensorflow_backend.py:3445: calling dropout (from tensorflow.python.ops.nn_ops) with keep_prob is deprecated and will be removed in a future version.\n",
      "Instructions for updating:\n",
      "Please use `rate` instead of `keep_prob`. Rate should be set to `rate = 1 - keep_prob`.\n",
      "WARNING:tensorflow:From /usr/lib/python3.7/site-packages/tensorflow/python/ops/math_ops.py:3066: to_int32 (from tensorflow.python.ops.math_ops) is deprecated and will be removed in a future version.\n",
      "Instructions for updating:\n",
      "Use tf.cast instead.\n"
     ]
    },
    {
     "name": "stderr",
     "output_type": "stream",
     "text": [
      "/usr/lib/python3.7/site-packages/ipykernel_launcher.py:9: DeprecationWarning: `imread` is deprecated!\n",
      "`imread` is deprecated in SciPy 1.0.0, and will be removed in 1.2.0.\n",
      "Use ``imageio.imread`` instead.\n",
      "  if __name__ == '__main__':\n"
     ]
    },
    {
     "name": "stdout",
     "output_type": "stream",
     "text": [
      "predicted digit: 2\n"
     ]
    }
   ],
   "source": [
    "import numpy as np\n",
    "import cv2\n",
    "#from skimage.io import imread\n",
    "from scipy.misc import imread\n",
    "from keras.models import load_model\n",
    "model = load_model('model_cnn.h5')\n",
    "\n",
    "\n",
    "image = imread(\"2.PNG\").astype(float)\n",
    "\n",
    "# normalise it in the same manner as we did for the training data\n",
    "image = image / 255.0\n",
    "\n",
    "#reshape\n",
    "image = image.reshape(1,1,28,28)\n",
    "\n",
    "# forward propagate and print index of most likely class \n",
    "# (for MNIST this corresponds one-to-one with the digit)\n",
    "print(\"predicted digit: \"+str(model.predict_classes(image)[0]))"
   ]
  },
  {
   "cell_type": "code",
   "execution_count": 7,
   "metadata": {},
   "outputs": [
    {
     "name": "stdout",
     "output_type": "stream",
     "text": [
      "\u001b[0m\u001b[01;35m1.PNG\u001b[0m  \u001b[01;35m5.PNG\u001b[0m  \u001b[01;35m9.PNG\u001b[0m                    keras_first.py\r\n",
      "\u001b[01;35m2.PNG\u001b[0m  \u001b[01;35m6.PNG\u001b[0m  cnn_mnist.py             mnist_keras_percep.py\r\n",
      "\u001b[01;35m3.PNG\u001b[0m  \u001b[01;35m7.PNG\u001b[0m  Copy_of_cnn_mnist.ipynb  model_cnn.h5\r\n",
      "\u001b[01;35m4.PNG\u001b[0m  \u001b[01;35m8.PNG\u001b[0m  deep_mnist.ipynb         predict_from_raw.ipynb\r\n"
     ]
    }
   ],
   "source": [
    "ls"
   ]
  },
  {
   "cell_type": "code",
   "execution_count": 21,
   "metadata": {},
   "outputs": [
    {
     "name": "stderr",
     "output_type": "stream",
     "text": [
      "/usr/lib/python3.7/site-packages/ipykernel_launcher.py:6: DeprecationWarning: `imread` is deprecated!\n",
      "`imread` is deprecated in SciPy 1.0.0, and will be removed in 1.2.0.\n",
      "Use ``imageio.imread`` instead.\n",
      "  \n"
     ]
    },
    {
     "name": "stdout",
     "output_type": "stream",
     "text": [
      "AxesImage(54,36;334.8x217.44)\n",
      "predicted digit: 1\n",
      "AxesImage(54,36;334.8x217.44)\n",
      "predicted digit: 2\n",
      "AxesImage(54,36;334.8x217.44)\n",
      "predicted digit: 3\n",
      "AxesImage(54,36;334.8x217.44)\n",
      "predicted digit: 4\n",
      "AxesImage(54,36;334.8x217.44)\n",
      "predicted digit: 5\n",
      "AxesImage(54,36;334.8x217.44)\n",
      "predicted digit: 5\n",
      "AxesImage(54,36;334.8x217.44)\n",
      "predicted digit: 7\n",
      "AxesImage(54,36;334.8x217.44)\n",
      "predicted digit: 8\n",
      "AxesImage(54,36;334.8x217.44)\n",
      "predicted digit: 9\n"
     ]
    },
    {
     "data": {
      "image/png": "[encoded data removed]",
      "text/plain": [
       "<Figure size 432x288 with 1 Axes>"
      ]
     },
     "metadata": {
      "needs_background": "light"
     },
     "output_type": "display_data"
    }
   ],
   "source": [
    "import scipy.misc as misc\n",
    "import matplotlib.image as mpimg\n",
    "\n",
    "for i in range(1,10):\n",
    "    imag = (\"{}.PNG\").format(i)\n",
    "    image = imread(imag).astype(float)\n",
    "    img=mpimg.imread(imag)\n",
    "    #print(plt.imshow(img))\n",
    "    # normalise it in the same manner as we did for the training data\n",
    "    image = image / 255.0\n",
    "\n",
    "    #reshape\n",
    "    image = image.reshape(1,1,28,28)\n",
    "\n",
    "    # forward propagate and print index of most likely class \n",
    "    # (for MNIST this corresponds one-to-one with the digit)\n",
    "    print(\"predicted digit: \"+str(model.predict_classes(image)[0]))"
   ]
  },
  {
   "cell_type": "code",
   "execution_count": 24,
   "metadata": {},
   "outputs": [
    {
     "name": "stderr",
     "output_type": "stream",
     "text": [
      "/usr/lib/python3.7/site-packages/ipykernel_launcher.py:3: DeprecationWarning: `imread` is deprecated!\n",
      "`imread` is deprecated in SciPy 1.0.0, and will be removed in 1.2.0.\n",
      "Use ``imageio.imread`` instead.\n",
      "  This is separate from the ipykernel package so we can avoid doing imports until\n"
     ]
    },
    {
     "name": "stdout",
     "output_type": "stream",
     "text": [
      "AxesImage(54,36;334.8x217.44)\n",
      "predicted digit: 3\n"
     ]
    },
    {
     "data": {
      "image/png": "[encoded data removed]",
      "text/plain": [
       "<Figure size 432x288 with 1 Axes>"
      ]
     },
     "metadata": {
      "needs_background": "light"
     },
     "output_type": "display_data"
    }
   ],
   "source": [
    "imag=\"2.png\"\n",
    "\n",
    "image = imread(imag).astype(float)\n",
    "img=mpimg.imread(imag)\n",
    "print(plt.imshow(img))\n",
    "# normalise it in the same manner as we did for the training data\n",
    "image = image / 255.0\n",
    "\n",
    "#reshape\n",
    "image = image.reshape(1,1,28,28)\n",
    "\n",
    "# forward propagate and print index of most likely class \n",
    "# (for MNIST this corresponds one-to-one with the digit)\n",
    "print(\"predicted digit: \"+str(model.predict_classes(image)[0]))"
   ]
  },
  {
   "cell_type": "code",
   "execution_count": 25,
   "metadata": {},
   "outputs": [
    {
     "name": "stderr",
     "output_type": "stream",
     "text": [
      "/usr/lib/python3.7/site-packages/ipykernel_launcher.py:3: DeprecationWarning: `imread` is deprecated!\n",
      "`imread` is deprecated in SciPy 1.0.0, and will be removed in 1.2.0.\n",
      "Use ``imageio.imread`` instead.\n",
      "  This is separate from the ipykernel package so we can avoid doing imports until\n"
     ]
    },
    {
     "name": "stdout",
     "output_type": "stream",
     "text": [
      "AxesImage(54,36;334.8x217.44)\n",
      "predicted digit: 8\n"
     ]
    },
    {
     "data": {
      "image/png": "[encoded data removed]",
      "text/plain": [
       "<Figure size 432x288 with 1 Axes>"
      ]
     },
     "metadata": {
      "needs_background": "light"
     },
     "output_type": "display_data"
    }
   ],
   "source": [
    "imag=\"3.png\"\n",
    "\n",
    "image = imread(imag).astype(float)\n",
    "img=mpimg.imread(imag)\n",
    "print(plt.imshow(img))\n",
    "# normalise it in the same manner as we did for the training data\n",
    "image = image / 255.0\n",
    "\n",
    "#reshape\n",
    "image = image.reshape(1,1,28,28)\n",
    "\n",
    "# forward propagate and print index of most likely class \n",
    "# (for MNIST this corresponds one-to-one with the digit)\n",
    "print(\"predicted digit: \"+str(model.predict_classes(image)[0]))"
   ]
  },
  {
   "cell_type": "code",
   "execution_count": 26,
   "metadata": {},
   "outputs": [],
   "source": [
    "model = load_model('dense_model_mnist.h5')"
   ]
  },
  {
   "cell_type": "code",
   "execution_count": 27,
   "metadata": {},
   "outputs": [
    {
     "name": "stderr",
     "output_type": "stream",
     "text": [
      "/usr/lib/python3.7/site-packages/ipykernel_launcher.py:3: DeprecationWarning: `imread` is deprecated!\n",
      "`imread` is deprecated in SciPy 1.0.0, and will be removed in 1.2.0.\n",
      "Use ``imageio.imread`` instead.\n",
      "  This is separate from the ipykernel package so we can avoid doing imports until\n"
     ]
    },
    {
     "name": "stdout",
     "output_type": "stream",
     "text": [
      "AxesImage(54,36;334.8x217.44)\n",
      "predicted digit: 8\n"
     ]
    },
    {
     "data": {
      "image/png": "[encoded data removed]",
      "text/plain": [
       "<Figure size 432x288 with 1 Axes>"
      ]
     },
     "metadata": {
      "needs_background": "light"
     },
     "output_type": "display_data"
    }
   ],
   "source": [
    "imag=\"3.png\"\n",
    "\n",
    "image = imread(imag).astype(float)\n",
    "img=mpimg.imread(imag)\n",
    "print(plt.imshow(img))\n",
    "# normalise it in the same manner as we did for the training data\n",
    "image = image / 255.0\n",
    "\n",
    "#reshape\n",
    "image = image.reshape(1,1,28,28)\n",
    "\n",
    "# forward propagate and print index of most likely class \n",
    "# (for MNIST this corresponds one-to-one with the digit)\n",
    "print(\"predicted digit: \"+str(model.predict_classes(image)[0]))"
   ]
  },
  {
   "cell_type": "code",
   "execution_count": 28,
   "metadata": {},
   "outputs": [
    {
     "name": "stderr",
     "output_type": "stream",
     "text": [
      "/usr/lib/python3.7/site-packages/ipykernel_launcher.py:3: DeprecationWarning: `imread` is deprecated!\n",
      "`imread` is deprecated in SciPy 1.0.0, and will be removed in 1.2.0.\n",
      "Use ``imageio.imread`` instead.\n",
      "  This is separate from the ipykernel package so we can avoid doing imports until\n"
     ]
    },
    {
     "name": "stdout",
     "output_type": "stream",
     "text": [
      "AxesImage(54,36;334.8x217.44)\n",
      "predicted digit: 4\n"
     ]
    },
    {
     "data": {
      "image/png": "[encoded data removed]",
      "text/plain": [
       "<Figure size 432x288 with 1 Axes>"
      ]
     },
     "metadata": {
      "needs_background": "light"
     },
     "output_type": "display_data"
    }
   ],
   "source": [
    "imag=\"4.png\"\n",
    "\n",
    "image = imread(imag).astype(float)\n",
    "img=mpimg.imread(imag)\n",
    "print(plt.imshow(img))\n",
    "# normalise it in the same manner as we did for the training data\n",
    "image = image / 255.0\n",
    "\n",
    "#reshape\n",
    "image = image.reshape(1,1,28,28)\n",
    "\n",
    "# forward propagate and print index of most likely class \n",
    "# (for MNIST this corresponds one-to-one with the digit)\n",
    "print(\"predicted digit: \"+str(model.predict_classes(image)[0]))"
   ]
  },
  {
   "cell_type": "code",
   "execution_count": 29,
   "metadata": {},
   "outputs": [
    {
     "name": "stderr",
     "output_type": "stream",
     "text": [
      "/usr/lib/python3.7/site-packages/ipykernel_launcher.py:3: DeprecationWarning: `imread` is deprecated!\n",
      "`imread` is deprecated in SciPy 1.0.0, and will be removed in 1.2.0.\n",
      "Use ``imageio.imread`` instead.\n",
      "  This is separate from the ipykernel package so we can avoid doing imports until\n"
     ]
    },
    {
     "name": "stdout",
     "output_type": "stream",
     "text": [
      "AxesImage(54,36;334.8x217.44)\n",
      "predicted digit: 2\n"
     ]
    },
    {
     "data": {
      "image/png": "[encoded data removed]",
      "text/plain": [
       "<Figure size 432x288 with 1 Axes>"
      ]
     },
     "metadata": {
      "needs_background": "light"
     },
     "output_type": "display_data"
    }
   ],
   "source": [
    "imag=\"1_1.png\"\n",
    "\n",
    "image = imread(imag).astype(float)\n",
    "img=mpimg.imread(imag)\n",
    "print(plt.imshow(img))\n",
    "# normalise it in the same manner as we did for the training data\n",
    "image = image / 255.0\n",
    "\n",
    "#reshape\n",
    "image = image.reshape(1,1,28,28)\n",
    "\n",
    "# forward propagate and print index of most likely class \n",
    "# (for MNIST this corresponds one-to-one with the digit)\n",
    "print(\"predicted digit: \"+str(model.predict_classes(image)[0]))"
   ]
  },
  {
   "cell_type": "code",
   "execution_count": 30,
   "metadata": {},
   "outputs": [
    {
     "name": "stdout",
     "output_type": "stream",
     "text": [
      "AxesImage(54,36;334.8x217.44)\n",
      "predicted digit: 1\n"
     ]
    },
    {
     "name": "stderr",
     "output_type": "stream",
     "text": [
      "/usr/lib/python3.7/site-packages/ipykernel_launcher.py:3: DeprecationWarning: `imread` is deprecated!\n",
      "`imread` is deprecated in SciPy 1.0.0, and will be removed in 1.2.0.\n",
      "Use ``imageio.imread`` instead.\n",
      "  This is separate from the ipykernel package so we can avoid doing imports until\n"
     ]
    },
    {
     "data": {
      "image/png": "[encoded data removed]",
      "text/plain": [
       "<Figure size 432x288 with 1 Axes>"
      ]
     },
     "metadata": {
      "needs_background": "light"
     },
     "output_type": "display_data"
    }
   ],
   "source": [
    "imag=\"1_2.png\"\n",
    "\n",
    "image = imread(imag).astype(float)\n",
    "img=mpimg.imread(imag)\n",
    "print(plt.imshow(img))\n",
    "# normalise it in the same manner as we did for the training data\n",
    "image = image / 255.0\n",
    "\n",
    "#reshape\n",
    "image = image.reshape(1,1,28,28)\n",
    "\n",
    "# forward propagate and print index of most likely class \n",
    "# (for MNIST this corresponds one-to-one with the digit)\n",
    "print(\"predicted digit: \"+str(model.predict_classes(image)[0]))"
   ]
  },
  {
   "cell_type": "code",
   "execution_count": 31,
   "metadata": {},
   "outputs": [
    {
     "name": "stderr",
     "output_type": "stream",
     "text": [
      "/usr/lib/python3.7/site-packages/ipykernel_launcher.py:3: DeprecationWarning: `imread` is deprecated!\n",
      "`imread` is deprecated in SciPy 1.0.0, and will be removed in 1.2.0.\n",
      "Use ``imageio.imread`` instead.\n",
      "  This is separate from the ipykernel package so we can avoid doing imports until\n"
     ]
    },
    {
     "name": "stdout",
     "output_type": "stream",
     "text": [
      "AxesImage(54,36;334.8x217.44)\n",
      "predicted digit: 1\n"
     ]
    },
    {
     "data": {
      "image/png": "[encoded data removed]",
      "text/plain": [
       "<Figure size 432x288 with 1 Axes>"
      ]
     },
     "metadata": {
      "needs_background": "light"
     },
     "output_type": "display_data"
    }
   ],
   "source": [
    "imag=\"1_3.png\"\n",
    "\n",
    "image = imread(imag).astype(float)\n",
    "img=mpimg.imread(imag)\n",
    "print(plt.imshow(img))\n",
    "# normalise it in the same manner as we did for the training data\n",
    "image = image / 255.0\n",
    "\n",
    "#reshape\n",
    "image = image.reshape(1,1,28,28)\n",
    "\n",
    "# forward propagate and print index of most likely class \n",
    "# (for MNIST this corresponds one-to-one with the digit)\n",
    "print(\"predicted digit: \"+str(model.predict_classes(image)[0]))"
   ]
  },
  {
   "cell_type": "code",
   "execution_count": 32,
   "metadata": {},
   "outputs": [
    {
     "name": "stderr",
     "output_type": "stream",
     "text": [
      "/usr/lib/python3.7/site-packages/ipykernel_launcher.py:3: DeprecationWarning: `imread` is deprecated!\n",
      "`imread` is deprecated in SciPy 1.0.0, and will be removed in 1.2.0.\n",
      "Use ``imageio.imread`` instead.\n",
      "  This is separate from the ipykernel package so we can avoid doing imports until\n"
     ]
    },
    {
     "name": "stdout",
     "output_type": "stream",
     "text": [
      "AxesImage(54,36;334.8x217.44)\n",
      "predicted digit: 1\n"
     ]
    },
    {
     "data": {
      "image/png": "[encoded data removed]",
      "text/plain": [
       "<Figure size 432x288 with 1 Axes>"
      ]
     },
     "metadata": {
      "needs_background": "light"
     },
     "output_type": "display_data"
    }
   ],
   "source": [
    "imag=\"1_4.png\"\n",
    "\n",
    "image = imread(imag).astype(float)\n",
    "img=mpimg.imread(imag)\n",
    "print(plt.imshow(img))\n",
    "# normalise it in the same manner as we did for the training data\n",
    "image = image / 255.0\n",
    "\n",
    "#reshape\n",
    "image = image.reshape(1,1,28,28)\n",
    "\n",
    "# forward propagate and print index of most likely class \n",
    "# (for MNIST this corresponds one-to-one with the digit)\n",
    "print(\"predicted digit: \"+str(model.predict_classes(image)[0]))"
   ]
  },
  {
   "cell_type": "code",
   "execution_count": 33,
   "metadata": {},
   "outputs": [
    {
     "name": "stderr",
     "output_type": "stream",
     "text": [
      "/usr/lib/python3.7/site-packages/ipykernel_launcher.py:3: DeprecationWarning: `imread` is deprecated!\n",
      "`imread` is deprecated in SciPy 1.0.0, and will be removed in 1.2.0.\n",
      "Use ``imageio.imread`` instead.\n",
      "  This is separate from the ipykernel package so we can avoid doing imports until\n"
     ]
    },
    {
     "name": "stdout",
     "output_type": "stream",
     "text": [
      "AxesImage(54,36;334.8x217.44)\n",
      "predicted digit: 1\n"
     ]
    },
    {
     "data": {
      "image/png": "[encoded data removed]",
      "text/plain": [
       "<Figure size 432x288 with 1 Axes>"
      ]
     },
     "metadata": {
      "needs_background": "light"
     },
     "output_type": "display_data"
    }
   ],
   "source": [
    "imag=\"1_4.png\"\n",
    "\n",
    "image = imread(imag).astype(float)\n",
    "img=mpimg.imread(imag)\n",
    "print(plt.imshow(img))\n",
    "# normalise it in the same manner as we did for the training data\n",
    "image = image / 255.0\n",
    "\n",
    "#reshape\n",
    "image = image.reshape(1,1,28,28)\n",
    "\n",
    "# forward propagate and print index of most likely class \n",
    "# (for MNIST this corresponds one-to-one with the digit)\n",
    "print(\"predicted digit: \"+str(model.predict_classes(image)[0]))"
   ]
  },
  {
   "cell_type": "code",
   "execution_count": 35,
   "metadata": {},
   "outputs": [
    {
     "name": "stderr",
     "output_type": "stream",
     "text": [
      "/usr/lib/python3.7/site-packages/ipykernel_launcher.py:3: DeprecationWarning: `imread` is deprecated!\n",
      "`imread` is deprecated in SciPy 1.0.0, and will be removed in 1.2.0.\n",
      "Use ``imageio.imread`` instead.\n",
      "  This is separate from the ipykernel package so we can avoid doing imports until\n"
     ]
    },
    {
     "name": "stdout",
     "output_type": "stream",
     "text": [
      "AxesImage(54,36;334.8x217.44)\n",
      "predicted digit: 1\n"
     ]
    },
    {
     "data": {
      "image/png": "[encoded data removed]",
      "text/plain": [
       "<Figure size 432x288 with 1 Axes>"
      ]
     },
     "metadata": {
      "needs_background": "light"
     },
     "output_type": "display_data"
    }
   ],
   "source": [
    "imag=\"1.PNG\"\n",
    "\n",
    "image = imread(imag).astype(float)\n",
    "img=mpimg.imread(imag)\n",
    "print(plt.imshow(img))\n",
    "# normalise it in the same manner as we did for the training data\n",
    "image = image / 255.0\n",
    "\n",
    "#reshape\n",
    "image = image.reshape(1,1,28,28)\n",
    "\n",
    "# forward propagate and print index of most likely class \n",
    "# (for MNIST this corresponds one-to-one with the digit)\n",
    "print(\"predicted digit: \"+str(model.predict_classes(image)[0]))"
   ]
  },
  {
   "cell_type": "code",
   "execution_count": 36,
   "metadata": {},
   "outputs": [
    {
     "name": "stdout",
     "output_type": "stream",
     "text": [
      "AxesImage(54,36;334.8x217.44)\n",
      "predicted digit: 2\n"
     ]
    },
    {
     "name": "stderr",
     "output_type": "stream",
     "text": [
      "/usr/lib/python3.7/site-packages/ipykernel_launcher.py:3: DeprecationWarning: `imread` is deprecated!\n",
      "`imread` is deprecated in SciPy 1.0.0, and will be removed in 1.2.0.\n",
      "Use ``imageio.imread`` instead.\n",
      "  This is separate from the ipykernel package so we can avoid doing imports until\n"
     ]
    },
    {
     "data": {
      "image/png": "[encoded data removed]",
      "text/plain": [
       "<Figure size 432x288 with 1 Axes>"
      ]
     },
     "metadata": {
      "needs_background": "light"
     },
     "output_type": "display_data"
    }
   ],
   "source": [
    "imag=\"2_1.png\"\n",
    "\n",
    "image = imread(imag).astype(float)\n",
    "img=mpimg.imread(imag)\n",
    "print(plt.imshow(img))\n",
    "# normalise it in the same manner as we did for the training data\n",
    "image = image / 255.0\n",
    "\n",
    "#reshape\n",
    "image = image.reshape(1,1,28,28)\n",
    "\n",
    "# forward propagate and print index of most likely class \n",
    "# (for MNIST this corresponds one-to-one with the digit)\n",
    "print(\"predicted digit: \"+str(model.predict_classes(image)[0]))"
   ]
  },
  {
   "cell_type": "code",
   "execution_count": 37,
   "metadata": {},
   "outputs": [
    {
     "name": "stderr",
     "output_type": "stream",
     "text": [
      "/usr/lib/python3.7/site-packages/ipykernel_launcher.py:3: DeprecationWarning: `imread` is deprecated!\n",
      "`imread` is deprecated in SciPy 1.0.0, and will be removed in 1.2.0.\n",
      "Use ``imageio.imread`` instead.\n",
      "  This is separate from the ipykernel package so we can avoid doing imports until\n"
     ]
    },
    {
     "name": "stdout",
     "output_type": "stream",
     "text": [
      "AxesImage(54,36;334.8x217.44)\n",
      "predicted digit: 3\n"
     ]
    },
    {
     "data": {
      "image/png": "[encoded data removed]",
      "text/plain": [
       "<Figure size 432x288 with 1 Axes>"
      ]
     },
     "metadata": {
      "needs_background": "light"
     },
     "output_type": "display_data"
    }
   ],
   "source": [
    "imag=\"3_1.png\"\n",
    "\n",
    "image = imread(imag).astype(float)\n",
    "img=mpimg.imread(imag)\n",
    "print(plt.imshow(img))\n",
    "# normalise it in the same manner as we did for the training data\n",
    "image = image / 255.0\n",
    "\n",
    "#reshape\n",
    "image = image.reshape(1,1,28,28)\n",
    "\n",
    "# forward propagate and print index of most likely class \n",
    "# (for MNIST this corresponds one-to-one with the digit)\n",
    "print(\"predicted digit: \"+str(model.predict_classes(image)[0]))"
   ]
  },
  {
   "cell_type": "code",
   "execution_count": 38,
   "metadata": {},
   "outputs": [
    {
     "name": "stdout",
     "output_type": "stream",
     "text": [
      "AxesImage(54,36;334.8x217.44)\n",
      "predicted digit: 4\n"
     ]
    },
    {
     "name": "stderr",
     "output_type": "stream",
     "text": [
      "/usr/lib/python3.7/site-packages/ipykernel_launcher.py:3: DeprecationWarning: `imread` is deprecated!\n",
      "`imread` is deprecated in SciPy 1.0.0, and will be removed in 1.2.0.\n",
      "Use ``imageio.imread`` instead.\n",
      "  This is separate from the ipykernel package so we can avoid doing imports until\n"
     ]
    },
    {
     "data": {
      "image/png": "[encoded data removed]",
      "text/plain": [
       "<Figure size 432x288 with 1 Axes>"
      ]
     },
     "metadata": {
      "needs_background": "light"
     },
     "output_type": "display_data"
    }
   ],
   "source": [
    "imag=\"4.png\"\n",
    "\n",
    "image = imread(imag).astype(float)\n",
    "img=mpimg.imread(imag)\n",
    "print(plt.imshow(img))\n",
    "# normalise it in the same manner as we did for the training data\n",
    "image = image / 255.0\n",
    "\n",
    "#reshape\n",
    "image = image.reshape(1,1,28,28)\n",
    "\n",
    "# forward propagate and print index of most likely class \n",
    "# (for MNIST this corresponds one-to-one with the digit)\n",
    "print(\"predicted digit: \"+str(model.predict_classes(image)[0]))"
   ]
  },
  {
   "cell_type": "code",
   "execution_count": 39,
   "metadata": {},
   "outputs": [
    {
     "name": "stdout",
     "output_type": "stream",
     "text": [
      "AxesImage(54,36;334.8x217.44)\n",
      "predicted digit: 5\n"
     ]
    },
    {
     "name": "stderr",
     "output_type": "stream",
     "text": [
      "/usr/lib/python3.7/site-packages/ipykernel_launcher.py:3: DeprecationWarning: `imread` is deprecated!\n",
      "`imread` is deprecated in SciPy 1.0.0, and will be removed in 1.2.0.\n",
      "Use ``imageio.imread`` instead.\n",
      "  This is separate from the ipykernel package so we can avoid doing imports until\n"
     ]
    },
    {
     "data": {
      "image/png": "[encoded data removed]",
      "text/plain": [
       "<Figure size 432x288 with 1 Axes>"
      ]
     },
     "metadata": {
      "needs_background": "light"
     },
     "output_type": "display_data"
    }
   ],
   "source": [
    "imag=\"5_1.png\"\n",
    "\n",
    "image = imread(imag).astype(float)\n",
    "img=mpimg.imread(imag)\n",
    "print(plt.imshow(img))\n",
    "# normalise it in the same manner as we did for the training data\n",
    "image = image / 255.0\n",
    "\n",
    "#reshape\n",
    "image = image.reshape(1,1,28,28)\n",
    "\n",
    "# forward propagate and print index of most likely class \n",
    "# (for MNIST this corresponds one-to-one with the digit)\n",
    "print(\"predicted digit: \"+str(model.predict_classes(image)[0]))"
   ]
  },
  {
   "cell_type": "code",
   "execution_count": 40,
   "metadata": {},
   "outputs": [
    {
     "name": "stdout",
     "output_type": "stream",
     "text": [
      "AxesImage(54,36;334.8x217.44)\n",
      "predicted digit: 3\n"
     ]
    },
    {
     "name": "stderr",
     "output_type": "stream",
     "text": [
      "/usr/lib/python3.7/site-packages/ipykernel_launcher.py:3: DeprecationWarning: `imread` is deprecated!\n",
      "`imread` is deprecated in SciPy 1.0.0, and will be removed in 1.2.0.\n",
      "Use ``imageio.imread`` instead.\n",
      "  This is separate from the ipykernel package so we can avoid doing imports until\n"
     ]
    },
    {
     "data": {
      "image/png": "[encoded data removed]",
      "text/plain": [
       "<Figure size 432x288 with 1 Axes>"
      ]
     },
     "metadata": {
      "needs_background": "light"
     },
     "output_type": "display_data"
    }
   ],
   "source": [
    "imag=\"5_2.png\"\n",
    "\n",
    "image = imread(imag).astype(float)\n",
    "img=mpimg.imread(imag)\n",
    "print(plt.imshow(img))\n",
    "# normalise it in the same manner as we did for the training data\n",
    "image = image / 255.0\n",
    "\n",
    "#reshape\n",
    "image = image.reshape(1,1,28,28)\n",
    "\n",
    "# forward propagate and print index of most likely class \n",
    "# (for MNIST this corresponds one-to-one with the digit)\n",
    "print(\"predicted digit: \"+str(model.predict_classes(image)[0]))"
   ]
  },
  {
   "cell_type": "code",
   "execution_count": 41,
   "metadata": {},
   "outputs": [
    {
     "name": "stdout",
     "output_type": "stream",
     "text": [
      "AxesImage(54,36;334.8x217.44)\n",
      "predicted digit: 5\n"
     ]
    },
    {
     "name": "stderr",
     "output_type": "stream",
     "text": [
      "/usr/lib/python3.7/site-packages/ipykernel_launcher.py:3: DeprecationWarning: `imread` is deprecated!\n",
      "`imread` is deprecated in SciPy 1.0.0, and will be removed in 1.2.0.\n",
      "Use ``imageio.imread`` instead.\n",
      "  This is separate from the ipykernel package so we can avoid doing imports until\n"
     ]
    },
    {
     "data": {
      "image/png": "[encoded data removed]",
      "text/plain": [
       "<Figure size 432x288 with 1 Axes>"
      ]
     },
     "metadata": {
      "needs_background": "light"
     },
     "output_type": "display_data"
    }
   ],
   "source": [
    "imag=\"5_3.png\"\n",
    "\n",
    "image = imread(imag).astype(float)\n",
    "img=mpimg.imread(imag)\n",
    "print(plt.imshow(img))\n",
    "# normalise it in the same manner as we did for the training data\n",
    "image = image / 255.0\n",
    "\n",
    "#reshape\n",
    "image = image.reshape(1,1,28,28)\n",
    "\n",
    "# forward propagate and print index of most likely class \n",
    "# (for MNIST this corresponds one-to-one with the digit)\n",
    "print(\"predicted digit: \"+str(model.predict_classes(image)[0]))"
   ]
  },
  {
   "cell_type": "code",
   "execution_count": 43,
   "metadata": {},
   "outputs": [
    {
     "name": "stderr",
     "output_type": "stream",
     "text": [
      "/usr/lib/python3.7/site-packages/ipykernel_launcher.py:3: DeprecationWarning: `imread` is deprecated!\n",
      "`imread` is deprecated in SciPy 1.0.0, and will be removed in 1.2.0.\n",
      "Use ``imageio.imread`` instead.\n",
      "  This is separate from the ipykernel package so we can avoid doing imports until\n"
     ]
    },
    {
     "name": "stdout",
     "output_type": "stream",
     "text": [
      "AxesImage(54,36;334.8x217.44)\n",
      "predicted digit: 5\n"
     ]
    },
    {
     "data": {
      "image/png": "[encoded data removed]",
      "text/plain": [
       "<Figure size 432x288 with 1 Axes>"
      ]
     },
     "metadata": {
      "needs_background": "light"
     },
     "output_type": "display_data"
    }
   ],
   "source": [
    "imag=\"6_1.png\"\n",
    "\n",
    "image = imread(imag).astype(float)\n",
    "img=mpimg.imread(imag)\n",
    "print(plt.imshow(img))\n",
    "# normalise it in the same manner as we did for the training data\n",
    "image = image / 255.0\n",
    "\n",
    "#reshape\n",
    "image = image.reshape(1,1,28,28)\n",
    "\n",
    "# forward propagate and print index of most likely class \n",
    "# (for MNIST this corresponds one-to-one with the digit)\n",
    "print(\"predicted digit: \"+str(model.predict_classes(image)[0]))"
   ]
  },
  {
   "cell_type": "code",
   "execution_count": 44,
   "metadata": {},
   "outputs": [
    {
     "name": "stderr",
     "output_type": "stream",
     "text": [
      "/usr/lib/python3.7/site-packages/ipykernel_launcher.py:3: DeprecationWarning: `imread` is deprecated!\n",
      "`imread` is deprecated in SciPy 1.0.0, and will be removed in 1.2.0.\n",
      "Use ``imageio.imread`` instead.\n",
      "  This is separate from the ipykernel package so we can avoid doing imports until\n"
     ]
    },
    {
     "name": "stdout",
     "output_type": "stream",
     "text": [
      "AxesImage(54,36;334.8x217.44)\n",
      "predicted digit: 5\n"
     ]
    },
    {
     "data": {
      "image/png": "[encoded data removed]",
      "text/plain": [
       "<Figure size 432x288 with 1 Axes>"
      ]
     },
     "metadata": {
      "needs_background": "light"
     },
     "output_type": "display_data"
    }
   ],
   "source": [
    "imag=\"6.PNG\"\n",
    "\n",
    "image = imread(imag).astype(float)\n",
    "img=mpimg.imread(imag)\n",
    "print(plt.imshow(img))\n",
    "# normalise it in the same manner as we did for the training data\n",
    "image = image / 255.0\n",
    "\n",
    "#reshape\n",
    "image = image.reshape(1,1,28,28)\n",
    "\n",
    "# forward propagate and print index of most likely class \n",
    "# (for MNIST this corresponds one-to-one with the digit)\n",
    "print(\"predicted digit: \"+str(model.predict_classes(image)[0]))"
   ]
  },
  {
   "cell_type": "code",
   "execution_count": 45,
   "metadata": {},
   "outputs": [
    {
     "name": "stderr",
     "output_type": "stream",
     "text": [
      "/usr/lib/python3.7/site-packages/ipykernel_launcher.py:3: DeprecationWarning: `imread` is deprecated!\n",
      "`imread` is deprecated in SciPy 1.0.0, and will be removed in 1.2.0.\n",
      "Use ``imageio.imread`` instead.\n",
      "  This is separate from the ipykernel package so we can avoid doing imports until\n"
     ]
    },
    {
     "name": "stdout",
     "output_type": "stream",
     "text": [
      "AxesImage(54,36;334.8x217.44)\n",
      "predicted digit: 7\n"
     ]
    },
    {
     "data": {
      "image/png": "[encoded data removed]",
      "text/plain": [
       "<Figure size 432x288 with 1 Axes>"
      ]
     },
     "metadata": {
      "needs_background": "light"
     },
     "output_type": "display_data"
    }
   ],
   "source": [
    "imag=\"7_1.png\"\n",
    "\n",
    "image = imread(imag).astype(float)\n",
    "img=mpimg.imread(imag)\n",
    "print(plt.imshow(img))\n",
    "# normalise it in the same manner as we did for the training data\n",
    "image = image / 255.0\n",
    "\n",
    "#reshape\n",
    "image = image.reshape(1,1,28,28)\n",
    "\n",
    "# forward propagate and print index of most likely class \n",
    "# (for MNIST this corresponds one-to-one with the digit)\n",
    "print(\"predicted digit: \"+str(model.predict_classes(image)[0]))"
   ]
  },
  {
   "cell_type": "code",
   "execution_count": 46,
   "metadata": {},
   "outputs": [
    {
     "name": "stderr",
     "output_type": "stream",
     "text": [
      "/usr/lib/python3.7/site-packages/ipykernel_launcher.py:3: DeprecationWarning: `imread` is deprecated!\n",
      "`imread` is deprecated in SciPy 1.0.0, and will be removed in 1.2.0.\n",
      "Use ``imageio.imread`` instead.\n",
      "  This is separate from the ipykernel package so we can avoid doing imports until\n"
     ]
    },
    {
     "name": "stdout",
     "output_type": "stream",
     "text": [
      "AxesImage(54,36;334.8x217.44)\n",
      "predicted digit: 3\n"
     ]
    },
    {
     "data": {
      "image/png": "[encoded data removed]",
      "text/plain": [
       "<Figure size 432x288 with 1 Axes>"
      ]
     },
     "metadata": {
      "needs_background": "light"
     },
     "output_type": "display_data"
    }
   ],
   "source": [
    "imag=\"7_2.png\"\n",
    "\n",
    "image = imread(imag).astype(float)\n",
    "img=mpimg.imread(imag)\n",
    "print(plt.imshow(img))\n",
    "# normalise it in the same manner as we did for the training data\n",
    "image = image / 255.0\n",
    "\n",
    "#reshape\n",
    "image = image.reshape(1,1,28,28)\n",
    "\n",
    "# forward propagate and print index of most likely class \n",
    "# (for MNIST this corresponds one-to-one with the digit)\n",
    "print(\"predicted digit: \"+str(model.predict_classes(image)[0]))"
   ]
  },
  {
   "cell_type": "code",
   "execution_count": 47,
   "metadata": {},
   "outputs": [
    {
     "name": "stdout",
     "output_type": "stream",
     "text": [
      "AxesImage(54,36;334.8x217.44)\n",
      "predicted digit: 8\n"
     ]
    },
    {
     "name": "stderr",
     "output_type": "stream",
     "text": [
      "/usr/lib/python3.7/site-packages/ipykernel_launcher.py:3: DeprecationWarning: `imread` is deprecated!\n",
      "`imread` is deprecated in SciPy 1.0.0, and will be removed in 1.2.0.\n",
      "Use ``imageio.imread`` instead.\n",
      "  This is separate from the ipykernel package so we can avoid doing imports until\n"
     ]
    },
    {
     "data": {
      "image/png": "[encoded data removed]",
      "text/plain": [
       "<Figure size 432x288 with 1 Axes>"
      ]
     },
     "metadata": {
      "needs_background": "light"
     },
     "output_type": "display_data"
    }
   ],
   "source": [
    "imag=\"8_1.png\"\n",
    "\n",
    "image = imread(imag).astype(float)\n",
    "img=mpimg.imread(imag)\n",
    "print(plt.imshow(img))\n",
    "# normalise it in the same manner as we did for the training data\n",
    "image = image / 255.0\n",
    "\n",
    "#reshape\n",
    "image = image.reshape(1,1,28,28)\n",
    "\n",
    "# forward propagate and print index of most likely class \n",
    "# (for MNIST this corresponds one-to-one with the digit)\n",
    "print(\"predicted digit: \"+str(model.predict_classes(image)[0]))"
   ]
  },
  {
   "cell_type": "code",
   "execution_count": 48,
   "metadata": {},
   "outputs": [
    {
     "name": "stdout",
     "output_type": "stream",
     "text": [
      "AxesImage(54,36;334.8x217.44)\n",
      "predicted digit: 8\n"
     ]
    },
    {
     "name": "stderr",
     "output_type": "stream",
     "text": [
      "/usr/lib/python3.7/site-packages/ipykernel_launcher.py:3: DeprecationWarning: `imread` is deprecated!\n",
      "`imread` is deprecated in SciPy 1.0.0, and will be removed in 1.2.0.\n",
      "Use ``imageio.imread`` instead.\n",
      "  This is separate from the ipykernel package so we can avoid doing imports until\n"
     ]
    },
    {
     "data": {
      "image/png": "[encoded data removed]",
      "text/plain": [
       "<Figure size 432x288 with 1 Axes>"
      ]
     },
     "metadata": {
      "needs_background": "light"
     },
     "output_type": "display_data"
    }
   ],
   "source": [
    "imag=\"8_2.png\"\n",
    "\n",
    "image = imread(imag).astype(float)\n",
    "img=mpimg.imread(imag)\n",
    "print(plt.imshow(img))\n",
    "# normalise it in the same manner as we did for the training data\n",
    "image = image / 255.0\n",
    "\n",
    "#reshape\n",
    "image = image.reshape(1,1,28,28)\n",
    "\n",
    "# forward propagate and print index of most likely class \n",
    "# (for MNIST this corresponds one-to-one with the digit)\n",
    "print(\"predicted digit: \"+str(model.predict_classes(image)[0]))"
   ]
  },
  {
   "cell_type": "code",
   "execution_count": 49,
   "metadata": {},
   "outputs": [
    {
     "name": "stderr",
     "output_type": "stream",
     "text": [
      "/usr/lib/python3.7/site-packages/ipykernel_launcher.py:3: DeprecationWarning: `imread` is deprecated!\n",
      "`imread` is deprecated in SciPy 1.0.0, and will be removed in 1.2.0.\n",
      "Use ``imageio.imread`` instead.\n",
      "  This is separate from the ipykernel package so we can avoid doing imports until\n"
     ]
    },
    {
     "name": "stdout",
     "output_type": "stream",
     "text": [
      "AxesImage(54,36;334.8x217.44)\n",
      "predicted digit: 0\n"
     ]
    },
    {
     "data": {
      "image/png": "[encoded data removed]",
      "text/plain": [
       "<Figure size 432x288 with 1 Axes>"
      ]
     },
     "metadata": {
      "needs_background": "light"
     },
     "output_type": "display_data"
    }
   ],
   "source": [
    "imag=\"10_1.png\"\n",
    "\n",
    "image = imread(imag).astype(float)\n",
    "img=mpimg.imread(imag)\n",
    "print(plt.imshow(img))\n",
    "# normalise it in the same manner as we did for the training data\n",
    "image = image / 255.0\n",
    "\n",
    "#reshape\n",
    "image = image.reshape(1,1,28,28)\n",
    "\n",
    "# forward propagate and print index of most likely class \n",
    "# (for MNIST this corresponds one-to-one with the digit)\n",
    "print(\"predicted digit: \"+str(model.predict_classes(image)[0]))"
   ]
  },
  {
   "cell_type": "code",
   "execution_count": 50,
   "metadata": {},
   "outputs": [
    {
     "name": "stdout",
     "output_type": "stream",
     "text": [
      "_________________________________________________________________\n",
      "Layer (type)                 Output Shape              Param #   \n",
      "=================================================================\n",
      "conv2d_5 (Conv2D)            (None, 30, 24, 24)        780       \n",
      "_________________________________________________________________\n",
      "max_pooling2d_4 (MaxPooling2 (None, 30, 12, 12)        0         \n",
      "_________________________________________________________________\n",
      "conv2d_6 (Conv2D)            (None, 15, 10, 10)        4065      \n",
      "_________________________________________________________________\n",
      "max_pooling2d_5 (MaxPooling2 (None, 15, 5, 5)          0         \n",
      "_________________________________________________________________\n",
      "dropout_3 (Dropout)          (None, 15, 5, 5)          0         \n",
      "_________________________________________________________________\n",
      "flatten_3 (Flatten)          (None, 375)               0         \n",
      "_________________________________________________________________\n",
      "dense_5 (Dense)              (None, 128)               48128     \n",
      "_________________________________________________________________\n",
      "dense_6 (Dense)              (None, 50)                6450      \n",
      "_________________________________________________________________\n",
      "dense_7 (Dense)              (None, 10)                510       \n",
      "=================================================================\n",
      "Total params: 59,933\n",
      "Trainable params: 59,933\n",
      "Non-trainable params: 0\n",
      "_________________________________________________________________\n"
     ]
    }
   ],
   "source": [
    "model.summary()"
   ]
  },
  {
   "cell_type": "code",
   "execution_count": null,
   "metadata": {},
   "outputs": [],
   "source": []
  }
 ],
 "metadata": {
  "kernelspec": {
   "display_name": "Python 3",
   "language": "python",
   "name": "python3"
  },
  "language_info": {
   "codemirror_mode": {
    "name": "ipython",
    "version": 3
   },
   "file_extension": ".py",
   "mimetype": "text/x-python",
   "name": "python",
   "nbconvert_exporter": "python",
   "pygments_lexer": "ipython3",
   "version": "3.7.3"
  }
 },
 "nbformat": 4,
 "nbformat_minor": 2
}
